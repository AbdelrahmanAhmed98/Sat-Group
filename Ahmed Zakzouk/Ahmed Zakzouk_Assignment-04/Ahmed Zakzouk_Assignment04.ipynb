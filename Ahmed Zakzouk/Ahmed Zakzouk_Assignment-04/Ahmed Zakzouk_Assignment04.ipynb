{
 "cells": [
  {
   "cell_type": "markdown",
   "source": [
    "# Functions Assignment\n",
    "\n",
    "Complete the following questions:\n",
    "____\n",
    "**Write a function that computes the volume of a sphere given its radius.**\n",
    "<p>The volume of a sphere is given as $$\\frac{4}{3} πr^3$$</p>"
   ],
   "metadata": {}
  },
  {
   "cell_type": "code",
   "execution_count": 3,
   "source": [
    "import math\r\n",
    "def vol(rad):\r\n",
    "   return  rad**3* math.pi"
   ],
   "outputs": [],
   "metadata": {}
  },
  {
   "cell_type": "code",
   "execution_count": 4,
   "source": [
    "# Check\r\n",
    "vol(2)"
   ],
   "outputs": [
    {
     "output_type": "execute_result",
     "data": {
      "text/plain": [
       "25.132741228718345"
      ]
     },
     "metadata": {},
     "execution_count": 4
    }
   ],
   "metadata": {}
  },
  {
   "cell_type": "markdown",
   "source": [
    "____\r\n",
    "**Write a Python function that accepts a string and calculates the number of upper case letters and lower case letters.**\r\n",
    "\r\n",
    "    Sample String : 'Hello Mr. Rogers, how are you this fine Tuesday?'\r\n",
    "    Expected Output : \r\n",
    "    No. of Upper case characters : 4\r\n",
    "    No. of Lower case Characters : 33\r\n",
    "\r\n",
    "HINT: Two string methods that might prove useful: **.isupper()** and **.islower()**\r\n",
    "\r\n",
    "If you feel ambitious, explore the Collections module to solve this problem!"
   ],
   "metadata": {}
  },
  {
   "cell_type": "code",
   "execution_count": 1,
   "source": [
    "def up_low(s):\r\n",
    "    is_upper = 0\r\n",
    "    is_lower = 0\r\n",
    "    for i in s:\r\n",
    "       if  i.isupper():\r\n",
    "           is_upper +=1\r\n",
    "       elif i.islower():\r\n",
    "           is_lower +=1\r\n",
    "    return (is_upper,is_lower)"
   ],
   "outputs": [],
   "metadata": {}
  },
  {
   "cell_type": "code",
   "execution_count": 2,
   "source": [
    "s = 'Hello Mr. Rogers, how are you this fine Tuesday?'\r\n",
    "output = up_low(s)\r\n",
    "print ('No. of Upper case characters :' + str(output[0]))\r\n",
    "print ('No. of Lower case characters :' + str(output[1]))"
   ],
   "outputs": [
    {
     "output_type": "stream",
     "name": "stdout",
     "text": [
      "No. of Upper case characters :4\n",
      "No. of Lower case characters :33\n"
     ]
    }
   ],
   "metadata": {}
  },
  {
   "cell_type": "markdown",
   "source": [
    "____\n",
    "**multiply all the numbers in a list.**\n",
    "\n",
    "    Sample List : [1, 2, 3, -4]\n",
    "    Expected Output : -24"
   ],
   "metadata": {}
  },
  {
   "cell_type": "code",
   "execution_count": 35,
   "source": [
    "#use built in function\r\n",
    "l = [1,2,3,-4]\r\n",
    "from functools import reduce\r\n",
    "product = reduce((lambda x, y: x * y), l)\r\n",
    "print (product)"
   ],
   "outputs": [
    {
     "output_type": "stream",
     "name": "stdout",
     "text": [
      "-24\n"
     ]
    }
   ],
   "metadata": {}
  },
  {
   "cell_type": "markdown",
   "source": [
    "____\n",
    "**get the even numbers from a list. (use built in function)**\n",
    "\n",
    "    Sample List : [1, 2, 3, 4,7,8]\n",
    "    Expected Output : [2,4,8]\n",
    "    "
   ],
   "metadata": {}
  },
  {
   "cell_type": "code",
   "execution_count": 34,
   "source": [
    "l= [1,2,3,4,7,8]\r\n",
    "output = list (filter((lambda x : x%2==0),l))\r\n",
    "output\r\n"
   ],
   "outputs": [
    {
     "output_type": "execute_result",
     "data": {
      "text/plain": [
       "[2, 4, 8]"
      ]
     },
     "metadata": {},
     "execution_count": 34
    }
   ],
   "metadata": {}
  },
  {
   "cell_type": "markdown",
   "source": [
    "#### LESSER OF TWO EVENS: Write a function that returns the lesser of two given numbers *if* both numbers are even, but returns the greater if one or both numbers are odd\n",
    "    lesser_of_two_evens(2,4) --> 2\n",
    "    lesser_of_two_evens(2,5) --> 5"
   ],
   "metadata": {}
  },
  {
   "cell_type": "code",
   "execution_count": 31,
   "source": [
    "def lesser_of_two_evens(a,b):\r\n",
    "    output =0\r\n",
    "    if a%2==0 and b%2==0:\r\n",
    "        if a<b :\r\n",
    "            output = a\r\n",
    "        elif b<a :\r\n",
    "            output = b\r\n",
    "        elif a==b :\r\n",
    "            output = a\r\n",
    "    else:\r\n",
    "        if a>b:\r\n",
    "            output = a\r\n",
    "        elif b>a :\r\n",
    "            output = b\r\n",
    "        elif a==b:\r\n",
    "            output = a\r\n",
    "    return output\r\n"
   ],
   "outputs": [],
   "metadata": {
    "collapsed": true
   }
  },
  {
   "cell_type": "code",
   "execution_count": 32,
   "source": [
    "# Check\r\n",
    "lesser_of_two_evens(2,4)"
   ],
   "outputs": [
    {
     "output_type": "execute_result",
     "data": {
      "text/plain": [
       "2"
      ]
     },
     "metadata": {},
     "execution_count": 32
    }
   ],
   "metadata": {
    "collapsed": true
   }
  },
  {
   "cell_type": "code",
   "execution_count": 33,
   "source": [
    "# Check\r\n",
    "lesser_of_two_evens(2,5)"
   ],
   "outputs": [
    {
     "output_type": "execute_result",
     "data": {
      "text/plain": [
       "5"
      ]
     },
     "metadata": {},
     "execution_count": 33
    }
   ],
   "metadata": {
    "collapsed": true
   }
  },
  {
   "cell_type": "markdown",
   "source": [
    "#### ANIMAL CRACKERS: Write a function takes a two-word string and returns True if both words begin with same letter\n",
    "    animal_crackers('Levelheaded Llama') --> True\n",
    "    animal_crackers('Crazy Kangaroo') --> False"
   ],
   "metadata": {}
  },
  {
   "cell_type": "code",
   "execution_count": 39,
   "source": [
    "def animal_crackers(text):\r\n",
    "    splittedText= text.split()\r\n",
    "    if splittedText[0][0]== splittedText[1][0]:\r\n",
    "        return True\r\n",
    "    else:\r\n",
    "        return False"
   ],
   "outputs": [],
   "metadata": {
    "collapsed": true
   }
  },
  {
   "cell_type": "code",
   "execution_count": 40,
   "source": [
    "# Check\r\n",
    "animal_crackers('Levelheaded Llama')"
   ],
   "outputs": [
    {
     "output_type": "execute_result",
     "data": {
      "text/plain": [
       "True"
      ]
     },
     "metadata": {},
     "execution_count": 40
    }
   ],
   "metadata": {
    "collapsed": true
   }
  },
  {
   "cell_type": "code",
   "execution_count": 41,
   "source": [
    "# Check\r\n",
    "animal_crackers('Crazy Kangaroo')"
   ],
   "outputs": [
    {
     "output_type": "execute_result",
     "data": {
      "text/plain": [
       "False"
      ]
     },
     "metadata": {},
     "execution_count": 41
    }
   ],
   "metadata": {
    "collapsed": true
   }
  },
  {
   "cell_type": "markdown",
   "source": [
    "#### MAKES TWENTY: Given two integers, return True if the sum of the integers is 20 *or* if one of the integers is 20. If not, return False\n",
    "\n",
    "    makes_twenty(20,10) --> True\n",
    "    makes_twenty(12,8) --> True\n",
    "    makes_twenty(2,3) --> False"
   ],
   "metadata": {}
  },
  {
   "cell_type": "code",
   "execution_count": 28,
   "source": [
    "def makes_twenty(n1,n2):\r\n",
    "    if n1 +n2 ==20 or n1 == 20 or n2 ==20 :\r\n",
    "        return True\r\n",
    "    else :\r\n",
    "        return False"
   ],
   "outputs": [],
   "metadata": {
    "collapsed": true
   }
  },
  {
   "cell_type": "code",
   "execution_count": 29,
   "source": [
    "# Check\r\n",
    "makes_twenty(20,10)"
   ],
   "outputs": [
    {
     "output_type": "execute_result",
     "data": {
      "text/plain": [
       "True"
      ]
     },
     "metadata": {},
     "execution_count": 29
    }
   ],
   "metadata": {
    "collapsed": true
   }
  },
  {
   "cell_type": "code",
   "execution_count": 36,
   "source": [
    "# Check\r\n",
    "makes_twenty(12,8)"
   ],
   "outputs": [
    {
     "output_type": "execute_result",
     "data": {
      "text/plain": [
       "True"
      ]
     },
     "metadata": {},
     "execution_count": 36
    }
   ],
   "metadata": {}
  },
  {
   "cell_type": "code",
   "execution_count": 37,
   "source": [
    "# Check\r\n",
    "makes_twenty(2,3)"
   ],
   "outputs": [
    {
     "output_type": "execute_result",
     "data": {
      "text/plain": [
       "False"
      ]
     },
     "metadata": {},
     "execution_count": 37
    }
   ],
   "metadata": {
    "collapsed": true
   }
  },
  {
   "cell_type": "markdown",
   "source": [
    "# LEVEL 1 PROBLEMS"
   ],
   "metadata": {}
  },
  {
   "cell_type": "markdown",
   "source": [
    "#### OLD MACDONALD: Write a function that capitalizes the first and fourth letters of a name\n",
    "     \n",
    "    old_macdonald('macdonald') --> MacDonald\n",
    "    \n",
    "Note: `'macdonald'.capitalize()` returns `'Macdonald'`"
   ],
   "metadata": {}
  },
  {
   "cell_type": "code",
   "execution_count": 237,
   "source": [
    "def old_macdonald(name):\r\n",
    "    nameCap=''\r\n",
    "    for index , char in enumerate(name):\r\n",
    "        if index ==0 or index ==3:\r\n",
    "            nameCap+=str.capitalize(char)\r\n",
    "        else:\r\n",
    "            nameCap += char\r\n",
    "    return nameCap"
   ],
   "outputs": [],
   "metadata": {
    "collapsed": true
   }
  },
  {
   "cell_type": "code",
   "execution_count": 239,
   "source": [
    "# Check\r\n",
    "old_macdonald('macdonald')"
   ],
   "outputs": [
    {
     "output_type": "execute_result",
     "data": {
      "text/plain": [
       "'MacDonald'"
      ]
     },
     "metadata": {},
     "execution_count": 239
    }
   ],
   "metadata": {
    "collapsed": true
   }
  },
  {
   "cell_type": "markdown",
   "source": [
    "#### MASTER YODA: Given a sentence, return a sentence with the words reversed\n",
    "\n",
    "    master_yoda('I am home') --> 'home am I'\n",
    "    master_yoda('We are ready') --> 'ready are We'\n",
    "    \n",
    "Note: The .join() method may be useful here. The .join() method allows you to join together strings in a list with some connector string. For example, some uses of the .join() method:\n",
    "\n",
    "    >>> \"--\".join(['a','b','c'])\n",
    "    >>> 'a--b--c'\n",
    "\n",
    "This means if you had a list of words you wanted to turn back into a sentence, you could just join them with a single space string:\n",
    "\n",
    "    >>> \" \".join(['Hello','world'])\n",
    "    >>> \"Hello world\""
   ],
   "metadata": {}
  },
  {
   "cell_type": "code",
   "execution_count": 249,
   "source": [
    "def master_yoda(text):\r\n",
    "    textSplitted = reversed(text.split())\r\n",
    "    return  ' '.join(textSplitted)  "
   ],
   "outputs": [],
   "metadata": {
    "collapsed": true
   }
  },
  {
   "cell_type": "code",
   "execution_count": 250,
   "source": [
    "# Check\r\n",
    "master_yoda('I am home')"
   ],
   "outputs": [
    {
     "output_type": "execute_result",
     "data": {
      "text/plain": [
       "'home am I'"
      ]
     },
     "metadata": {},
     "execution_count": 250
    }
   ],
   "metadata": {
    "collapsed": true
   }
  },
  {
   "cell_type": "code",
   "execution_count": 251,
   "source": [
    "# Check\r\n",
    "master_yoda('We are ready')"
   ],
   "outputs": [
    {
     "output_type": "execute_result",
     "data": {
      "text/plain": [
       "'ready are We'"
      ]
     },
     "metadata": {},
     "execution_count": 251
    }
   ],
   "metadata": {
    "collapsed": true
   }
  },
  {
   "cell_type": "markdown",
   "source": [
    "# LEVEL 2 PROBLEMS"
   ],
   "metadata": {}
  },
  {
   "cell_type": "markdown",
   "source": [
    "#### FIND 33: \n",
    "\n",
    "Given a list of ints, return True if the array contains a 3 next to a 3 somewhere.\n",
    "\n",
    "    has_33([1, 3, 3]) → True\n",
    "    has_33([1, 3, 1, 3]) → False\n",
    "    has_33([3, 1, 3]) → False"
   ],
   "metadata": {}
  },
  {
   "cell_type": "code",
   "execution_count": 36,
   "source": [
    "def has_33(nums):\r\n",
    "    found33 = []\r\n",
    "    for index, num in enumerate (nums):\r\n",
    "        if index<len(nums)-1:\r\n",
    "            if num == nums[index+1] and num ==3:\r\n",
    "                found33.append(True)\r\n",
    "            else:\r\n",
    "                found33.append(False)\r\n",
    "\r\n",
    "    if found33.count(True)>0:\r\n",
    "        return True\r\n",
    "    else: \r\n",
    "        return False"
   ],
   "outputs": [],
   "metadata": {
    "collapsed": true
   }
  },
  {
   "cell_type": "code",
   "execution_count": 37,
   "source": [
    "# Check\r\n",
    "has_33([1, 3, 3])"
   ],
   "outputs": [
    {
     "output_type": "execute_result",
     "data": {
      "text/plain": [
       "True"
      ]
     },
     "metadata": {},
     "execution_count": 37
    }
   ],
   "metadata": {
    "collapsed": true
   }
  },
  {
   "cell_type": "code",
   "execution_count": 38,
   "source": [
    "# Check\r\n",
    "has_33([1, 3, 1, 3])"
   ],
   "outputs": [
    {
     "output_type": "execute_result",
     "data": {
      "text/plain": [
       "False"
      ]
     },
     "metadata": {},
     "execution_count": 38
    }
   ],
   "metadata": {}
  },
  {
   "cell_type": "code",
   "execution_count": 39,
   "source": [
    "# Check\r\n",
    "has_33([3, 1, 3])"
   ],
   "outputs": [
    {
     "output_type": "execute_result",
     "data": {
      "text/plain": [
       "False"
      ]
     },
     "metadata": {},
     "execution_count": 39
    }
   ],
   "metadata": {}
  },
  {
   "cell_type": "markdown",
   "source": [
    "#### PAPER DOLL: Given a string, return a string where for every character in the original there are three characters\n",
    "    paper_doll('Hello') --> 'HHHeeellllllooo'\n",
    "    paper_doll('Mississippi') --> 'MMMiiissssssiiippppppiii'"
   ],
   "metadata": {}
  },
  {
   "cell_type": "code",
   "execution_count": 58,
   "source": [
    "def repeat_to_length(string_to_expand, num):\r\n",
    "   return  ''.join([char*num for char in string_to_expand])\r\n",
    "\r\n",
    "def paper_doll(text):\r\n",
    "    output=[]\r\n",
    "    for char in text :\r\n",
    "        output.append(repeat_to_length(char , 3))\r\n",
    "    return ''.join(output)"
   ],
   "outputs": [],
   "metadata": {
    "collapsed": true
   }
  },
  {
   "cell_type": "code",
   "execution_count": 59,
   "source": [
    "# Check\r\n",
    "paper_doll('Hello')"
   ],
   "outputs": [
    {
     "output_type": "execute_result",
     "data": {
      "text/plain": [
       "'HHHeeellllllooo'"
      ]
     },
     "metadata": {},
     "execution_count": 59
    }
   ],
   "metadata": {
    "collapsed": true
   }
  },
  {
   "cell_type": "code",
   "execution_count": 60,
   "source": [
    "# Check\r\n",
    "paper_doll('Mississippi')"
   ],
   "outputs": [
    {
     "output_type": "execute_result",
     "data": {
      "text/plain": [
       "'MMMiiissssssiiissssssiiippppppiii'"
      ]
     },
     "metadata": {},
     "execution_count": 60
    }
   ],
   "metadata": {
    "collapsed": true
   }
  },
  {
   "cell_type": "markdown",
   "source": [
    "# CHALLENGING PROBLEMS"
   ],
   "metadata": {}
  },
  {
   "cell_type": "markdown",
   "source": [
    "#### SPY GAME: Write a function that takes in a list of integers and returns True if it contains 007 in order\n",
    "\n",
    "     spy_game([1,2,4,0,0,7,5]) --> True\n",
    "     spy_game([1,0,2,4,0,5,7]) --> True\n",
    "     spy_game([1,7,2,0,4,5,0]) --> False\n"
   ],
   "metadata": {}
  },
  {
   "cell_type": "code",
   "execution_count": 24,
   "source": [
    "def spy_game(nums):\r\n",
    "   order= [0,0,7]\r\n",
    "   x = len (order)\r\n",
    "   arr = []\r\n",
    "   checkContain(nums,order,arr)\r\n",
    "   if len(arr)==x:\r\n",
    "       print(True) \r\n",
    "   else :\r\n",
    "        print (False)\r\n",
    "\r\n",
    "def checkContain (nums , order,arr):\r\n",
    "    if len(order)>0: \r\n",
    "        for index1 , num1 in enumerate(nums) :\r\n",
    "            if num1==order[0]:\r\n",
    "                arr.append(order[0])\r\n",
    "                print ('found '+ str (order[0]))\r\n",
    "                break\r\n",
    "    if len(nums)>2 and len(order)>0:\r\n",
    "        checkContain(nums[index1+1: ],order[1:],arr)      \r\n",
    "    return arr"
   ],
   "outputs": [],
   "metadata": {
    "collapsed": true
   }
  },
  {
   "cell_type": "code",
   "execution_count": 25,
   "source": [
    "# Check\r\n",
    "output = spy_game([1,2,4,0,0,7,5])\r\n"
   ],
   "outputs": [
    {
     "output_type": "stream",
     "name": "stdout",
     "text": [
      "found 0\n",
      "found 0\n",
      "found 7\n",
      "True\n"
     ]
    }
   ],
   "metadata": {
    "collapsed": true
   }
  },
  {
   "cell_type": "code",
   "execution_count": 26,
   "source": [
    "# Check\r\n",
    "spy_game([1,0,2,4,0,5,7])"
   ],
   "outputs": [
    {
     "output_type": "stream",
     "name": "stdout",
     "text": [
      "found 0\n",
      "found 0\n",
      "found 7\n",
      "True\n"
     ]
    }
   ],
   "metadata": {
    "collapsed": true
   }
  },
  {
   "cell_type": "code",
   "execution_count": 27,
   "source": [
    "# Check\r\n",
    "spy_game([1,7,2,0,4,5,0])"
   ],
   "outputs": [
    {
     "output_type": "stream",
     "name": "stdout",
     "text": [
      "found 0\n",
      "found 0\n",
      "False\n"
     ]
    }
   ],
   "metadata": {
    "collapsed": true
   }
  },
  {
   "cell_type": "markdown",
   "source": [
    "#### COUNT PRIMES: Write a function that returns the *number* of prime numbers that exist up to and including a given number\r\n",
    "    count_primes(100) --> 25\r\n",
    "\r\n",
    "By convention, 0 and 1 are not prime."
   ],
   "metadata": {}
  },
  {
   "cell_type": "code",
   "execution_count": 22,
   "source": [
    "def count_primes(num):\r\n",
    "    counter =0\r\n",
    "    lst= range(1,num+1)\r\n",
    "    for n in lst:\r\n",
    "         if check_prime(n)==True:\r\n",
    "            counter +=1\r\n",
    "    print ('Number of Prime Numbers is :' + str(counter))\r\n",
    "    return counter\r\n",
    "def check_prime(num):\r\n",
    " canDivide = []\r\n",
    " nums2Check = range (2,num+1)\r\n",
    " for numCheck in nums2Check:\r\n",
    "     if num % numCheck ==0:\r\n",
    "         canDivide.append(True)\r\n",
    "     else: \r\n",
    "          canDivide.append(False)\r\n",
    "\r\n",
    " if canDivide.count(True)==1:\r\n",
    "     print ('Is a Prime Number :' + str(num))\r\n",
    "     return True\r\n",
    " else:\r\n",
    "     return False"
   ],
   "outputs": [],
   "metadata": {
    "collapsed": true
   }
  },
  {
   "cell_type": "code",
   "execution_count": 23,
   "source": [
    "# Check\r\n",
    "count_primes(100)"
   ],
   "outputs": [
    {
     "output_type": "stream",
     "name": "stdout",
     "text": [
      "Is a Prime Number :2\n",
      "Is a Prime Number :3\n",
      "Is a Prime Number :5\n",
      "Is a Prime Number :7\n",
      "Is a Prime Number :11\n",
      "Is a Prime Number :13\n",
      "Is a Prime Number :17\n",
      "Is a Prime Number :19\n",
      "Is a Prime Number :23\n",
      "Is a Prime Number :29\n",
      "Is a Prime Number :31\n",
      "Is a Prime Number :37\n",
      "Is a Prime Number :41\n",
      "Is a Prime Number :43\n",
      "Is a Prime Number :47\n",
      "Is a Prime Number :53\n",
      "Is a Prime Number :59\n",
      "Is a Prime Number :61\n",
      "Is a Prime Number :67\n",
      "Is a Prime Number :71\n",
      "Is a Prime Number :73\n",
      "Is a Prime Number :79\n",
      "Is a Prime Number :83\n",
      "Is a Prime Number :89\n",
      "Is a Prime Number :97\n",
      "Number of Prime Numbers is :25\n"
     ]
    },
    {
     "output_type": "execute_result",
     "data": {
      "text/plain": [
       "25"
      ]
     },
     "metadata": {},
     "execution_count": 23
    }
   ],
   "metadata": {
    "collapsed": true
   }
  },
  {
   "cell_type": "markdown",
   "source": [
    "## Great Job!"
   ],
   "metadata": {}
  }
 ],
 "metadata": {
  "kernelspec": {
   "name": "python3",
   "display_name": "Python 3.8.8 64-bit ('base': conda)"
  },
  "language_info": {
   "codemirror_mode": {
    "name": "ipython",
    "version": 3
   },
   "file_extension": ".py",
   "mimetype": "text/x-python",
   "name": "python",
   "nbconvert_exporter": "python",
   "pygments_lexer": "ipython3",
   "version": "3.8.8"
  },
  "interpreter": {
   "hash": "67fec0b8313160cbc4f40da23b059cb9d2bff6fa5a6f0dd18042a4b67475da13"
  }
 },
 "nbformat": 4,
 "nbformat_minor": 2
}