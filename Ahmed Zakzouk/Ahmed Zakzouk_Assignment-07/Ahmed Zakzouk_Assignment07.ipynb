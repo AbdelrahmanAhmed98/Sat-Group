{
 "cells": [
  {
   "cell_type": "markdown",
   "metadata": {},
   "source": [
    "## Problem 1 : USD to EUR Converter"
   ]
  },
  {
   "cell_type": "code",
   "execution_count": 83,
   "metadata": {},
   "outputs": [],
   "source": [
    "import requests "
   ]
  },
  {
   "cell_type": "code",
   "execution_count": 84,
   "metadata": {},
   "outputs": [],
   "source": [
    "def GetConversionFactor():\n",
    "    '''This Method Retrive the Conversion Factor of USD to EUR'''\n",
    "    response = requests.request('Get','https://api.frankfurter.app/latest?amount=1&amp;from=USD&amp;to=EUR')\n",
    "    data = response.json()\n",
    "    factor = data['rates']['EUR']\n",
    "    return factor\n",
    "\n",
    "def ConvertUSD2Euro (value) :\n",
    "    '''This Method convert givin USD Value to EUR Value'''\n",
    "    factor = GetConversionFactor()\n",
    "    return value * factor"
   ]
  },
  {
   "cell_type": "code",
   "execution_count": 85,
   "metadata": {},
   "outputs": [
    {
     "data": {
      "text/plain": [
       "7.73865"
      ]
     },
     "execution_count": 85,
     "metadata": {},
     "output_type": "execute_result"
    }
   ],
   "source": [
    "value = float (input('Enter USD value to Convert to EUR'))\n",
    "output = ConvertUSD2Euro(value)\n",
    "output"
   ]
  },
  {
   "cell_type": "markdown",
   "metadata": {},
   "source": [
    "## Problem 2 : Get Weather Data and Write it to Excel"
   ]
  },
  {
   "cell_type": "code",
   "execution_count": 74,
   "metadata": {},
   "outputs": [],
   "source": [
    "import csv"
   ]
  },
  {
   "cell_type": "code",
   "execution_count": 52,
   "metadata": {},
   "outputs": [],
   "source": [
    "    def WriteWeatherData():\n",
    "        '''This Method Retrive Weather Data from Web Service and write them into Excel file'''\n",
    "        response = requests.request('Get','https://www.metaweather.com/api/location/1521894/')\n",
    "        data = response.json()\n",
    "        fileName ='weather.csv'\n",
    "        with open (fileName,'w') as f:\n",
    "            writer = csv.DictWriter(f,fieldnames=['Date','Temprature','Humidity','Visibility','AirPressure','WindSpeed'])\n",
    "            writer.writeheader()\n",
    "            for i  in range(len(data['consolidated_weather'])):\n",
    "                date=  data['consolidated_weather'][i][ 'applicable_date']\n",
    "                temprature= data['consolidated_weather'][i][ 'the_temp']\n",
    "                humidity = data['consolidated_weather'][i][ 'humidity']\n",
    "                visibility = data['consolidated_weather'][i][ 'visibility']\n",
    "                airPressure = data['consolidated_weather'][i][ 'air_pressure']\n",
    "                windSpeed = data['consolidated_weather'][i][ 'wind_speed']\n",
    "                writer.writerow({'Date':date,'Temprature':temprature , 'Humidity':humidity,'Visibility':visibility,'AirPressure':airPressure,'WindSpeed':windSpeed})\n",
    "       \n",
    "        return 'Data Written Successfully to ' + fileName"
   ]
  },
  {
   "cell_type": "code",
   "execution_count": 54,
   "metadata": {},
   "outputs": [
    {
     "data": {
      "text/plain": [
       "'Data Written Successfully to weather.csv'"
      ]
     },
     "execution_count": 54,
     "metadata": {},
     "output_type": "execute_result"
    }
   ],
   "source": [
    "output = str(WriteWeatherData())\n",
    "output"
   ]
  },
  {
   "cell_type": "markdown",
   "metadata": {},
   "source": [
    "## Problem 3 : Get User Data and Write it to Excel"
   ]
  },
  {
   "cell_type": "code",
   "execution_count": 86,
   "metadata": {},
   "outputs": [],
   "source": [
    "def WriteUsersData():\n",
    " '''This Method Retrive Users Data from Web Service and write them into Excel file'''\n",
    " response = requests.request('Get','https://gorest.co.in/public-api/users?_format=json&amp;access-token=H4lYmIGLXZkDlpy_w0ZVS5rgcpDXbN7fhRRy')\n",
    " data = response.json()\n",
    " fileName ='users.csv'\n",
    " with open (fileName,'w') as f:\n",
    "    writer = csv.DictWriter(f,fieldnames=['Name','Email','Gender','Status'])\n",
    "    writer.writeheader()\n",
    "    for i  in range(len(data['data'])):\n",
    "        name = data['data'][i]['name']\n",
    "        email = data['data'][i]['email']\n",
    "        gender = data['data'][i]['gender']\n",
    "        status = '0'\n",
    "        if data['data'][i]['status']=='active':\n",
    "            status = '1'\n",
    "        writer.writerow({'Name':name,'Email':email , 'Gender':gender,'Status':status})\n",
    " return 'Data Written Successfully to ' + fileName"
   ]
  },
  {
   "cell_type": "code",
   "execution_count": 87,
   "metadata": {},
   "outputs": [
    {
     "data": {
      "text/plain": [
       "'Data Written Successfully to users.csv'"
      ]
     },
     "execution_count": 87,
     "metadata": {},
     "output_type": "execute_result"
    }
   ],
   "source": [
    "output = str(WriteUsersData())\n",
    "output"
   ]
  }
 ],
 "metadata": {
  "interpreter": {
   "hash": "67fec0b8313160cbc4f40da23b059cb9d2bff6fa5a6f0dd18042a4b67475da13"
  },
  "kernelspec": {
   "display_name": "Python 3.8.8 64-bit ('base': conda)",
   "name": "python3"
  },
  "language_info": {
   "codemirror_mode": {
    "name": "ipython",
    "version": 3
   },
   "file_extension": ".py",
   "mimetype": "text/x-python",
   "name": "python",
   "nbconvert_exporter": "python",
   "pygments_lexer": "ipython3",
   "version": "3.8.8"
  },
  "orig_nbformat": 4
 },
 "nbformat": 4,
 "nbformat_minor": 2
}
