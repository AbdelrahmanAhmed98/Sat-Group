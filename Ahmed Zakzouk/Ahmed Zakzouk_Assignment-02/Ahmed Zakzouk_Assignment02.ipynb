{
 "cells": [
  {
   "cell_type": "markdown",
   "source": [
    "## Numbers\n",
    "\n",
    "Answer these 3 questions without typing code. Then type code to check your answer.\n",
    "\n",
    "    What is the value of the expression 4 * (6 + 5)\n",
    "    \n",
    "    What is the value of the expression 4 * 6 + 5 \n",
    "    \n",
    "    What is the value of the expression 4 + 6 * 5 "
   ],
   "metadata": {}
  },
  {
   "cell_type": "code",
   "execution_count": 9,
   "source": [
    "x= 4* (6+5)\r\n",
    "y= 4*6 +5\r\n",
    "z = 4 +6 *5\r\n",
    "print (x)\r\n",
    "print (y)\r\n",
    "print (z)"
   ],
   "outputs": [
    {
     "output_type": "stream",
     "name": "stdout",
     "text": [
      "44\n",
      "29\n",
      "34\n"
     ]
    }
   ],
   "metadata": {}
  },
  {
   "cell_type": "markdown",
   "source": [
    "What would you use to find the 5 square ? "
   ],
   "metadata": {}
  },
  {
   "cell_type": "code",
   "execution_count": 8,
   "source": [
    "x= 5**2\r\n",
    "print (x)"
   ],
   "outputs": [
    {
     "output_type": "stream",
     "name": "stdout",
     "text": [
      "25\n"
     ]
    }
   ],
   "metadata": {}
  },
  {
   "cell_type": "markdown",
   "source": [
    "## Strings\n",
    "Given the string 'hello' give an index command that returns 'e'. Enter your code in the cell below:"
   ],
   "metadata": {}
  },
  {
   "cell_type": "code",
   "execution_count": 7,
   "source": [
    "s = 'hello'\r\n",
    "# Print out 'e' using indexing\r\n",
    "print (s[1])\r\n",
    "\r\n"
   ],
   "outputs": [
    {
     "output_type": "stream",
     "name": "stdout",
     "text": [
      "e\n"
     ]
    }
   ],
   "metadata": {}
  },
  {
   "cell_type": "markdown",
   "source": [
    "## Strings\r\n",
    "Given the string hello, give two methods of producing the letter 'o' using indexing."
   ],
   "metadata": {}
  },
  {
   "cell_type": "markdown",
   "source": [
    "Reverse the string 'hello' using slicing:"
   ],
   "metadata": {}
  },
  {
   "cell_type": "code",
   "execution_count": 35,
   "source": [
    "s ='hello'\r\n",
    "# Reverse the string using slicing\r\n",
    "print (s[::-1])\r\n",
    "\r\n",
    "\r\n"
   ],
   "outputs": [
    {
     "output_type": "stream",
     "name": "stdout",
     "text": [
      "olleh\n"
     ]
    }
   ],
   "metadata": {}
  },
  {
   "cell_type": "markdown",
   "source": [
    "Given the string hello, give two methods of producing the letter 'o' using indexing."
   ],
   "metadata": {}
  },
  {
   "cell_type": "code",
   "execution_count": 36,
   "source": [
    "s ='hello'\r\n",
    "# Print out the 'o'\r\n",
    "\r\n",
    "# Method 1:\r\n",
    "print (s[4])\r\n"
   ],
   "outputs": [
    {
     "output_type": "stream",
     "name": "stdout",
     "text": [
      "o\n"
     ]
    }
   ],
   "metadata": {}
  },
  {
   "cell_type": "code",
   "execution_count": 19,
   "source": [
    "\r\n",
    "# Method 2:\r\n",
    "\r\n",
    "print (s[-1])"
   ],
   "outputs": [
    {
     "output_type": "stream",
     "name": "stdout",
     "text": [
      "o\n"
     ]
    }
   ],
   "metadata": {}
  },
  {
   "cell_type": "markdown",
   "source": [
    "## List\n",
    "Reassign 'hello' in this list to say 'goodbye' instead:"
   ],
   "metadata": {}
  },
  {
   "cell_type": "code",
   "execution_count": 13,
   "source": [
    "List0=[2,44.6,\"Hello\"]\r\n",
    "List0[2] =\"goodbye\"\r\n",
    "print (List0[2])"
   ],
   "outputs": [
    {
     "output_type": "stream",
     "name": "stdout",
     "text": [
      "goodbye\n"
     ]
    }
   ],
   "metadata": {}
  },
  {
   "cell_type": "markdown",
   "source": [
    "Sort the list below:"
   ],
   "metadata": {}
  },
  {
   "cell_type": "code",
   "execution_count": 15,
   "source": [
    "list1 = [5,3,4,6,1]\r\n",
    "\r\n",
    "\r\n",
    "list1.sort()\r\n",
    "print (list1)"
   ],
   "outputs": [
    {
     "output_type": "stream",
     "name": "stdout",
     "text": [
      "[1, 3, 4, 5, 6]\n"
     ]
    }
   ],
   "metadata": {}
  }
 ],
 "metadata": {
  "kernelspec": {
   "name": "python3",
   "display_name": "Python 3.7.6 64-bit ('base': conda)"
  },
  "language_info": {
   "codemirror_mode": {
    "name": "ipython",
    "version": 3
   },
   "file_extension": ".py",
   "mimetype": "text/x-python",
   "name": "python",
   "nbconvert_exporter": "python",
   "pygments_lexer": "ipython3",
   "version": "3.7.6"
  },
  "interpreter": {
   "hash": "b8c19a09bff2a3b2a62602584d26720eb4289a4aaf53912613e694a9777905e4"
  }
 },
 "nbformat": 4,
 "nbformat_minor": 5
}