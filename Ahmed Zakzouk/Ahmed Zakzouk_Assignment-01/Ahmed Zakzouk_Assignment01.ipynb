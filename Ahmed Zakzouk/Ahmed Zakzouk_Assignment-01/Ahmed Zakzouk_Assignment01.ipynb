{
    "cells": [
        {
            "cell_type": "markdown",
            "source": [
                "Get the Circumfernece of the Circle"
            ],
            "metadata": {}
        },
        {
            "cell_type": "code",
            "execution_count": 1,
            "source": [
                "import math"
            ],
            "outputs": [],
            "metadata": {}
        },
        {
            "cell_type": "code",
            "execution_count": 2,
            "source": [
                " print ('Get the circumference of Circle ')\r\n",
                " diam = float(input('Enter the Circle Diameter:'))\r\n",
                " rad = diam/2\r\n",
                " circum = math.pi*2*rad\r\n",
                " print('circumference of Circle is, ' + str(circum))"
            ],
            "outputs": [
                {
                    "output_type": "stream",
                    "name": "stdout",
                    "text": [
                        "Get the circumference of Circle \n",
                        "circumference of Circle is, 31.41592653589793\n"
                    ]
                }
            ],
            "metadata": {}
        },
        {
            "cell_type": "markdown",
            "source": [
                "Get the Circumfernece of the Rectangle"
            ],
            "metadata": {}
        },
        {
            "cell_type": "code",
            "execution_count": 3,
            "source": [
                "print (\"Get the circumference of Rectangle \")\r\n",
                "x = float (input('Enter the Long side of the rectangle:'))\r\n",
                "y = float (input('Enter the short side of the rectangle:'))\r\n",
                "circum = 2* (x+y)\r\n",
                "print('circumferenc1e of Rectangle is, ' + str(circum)) "
            ],
            "outputs": [
                {
                    "output_type": "stream",
                    "name": "stdout",
                    "text": [
                        "Get the circumference of Rectangle \n",
                        "circumferenc1e of Rectangle is, 30.0\n"
                    ]
                }
            ],
            "metadata": {}
        },
        {
            "cell_type": "code",
            "execution_count": 4,
            "source": [
                "x=89\r\n",
                "y=45\r\n",
                "z=13\r\n",
                "(x%y)>60 or (y//z*x) >60 and (z*x) >60\r\n"
            ],
            "outputs": [
                {
                    "output_type": "execute_result",
                    "data": {
                        "text/plain": [
                            "True"
                        ]
                    },
                    "metadata": {},
                    "execution_count": 4
                }
            ],
            "metadata": {}
        },
        {
            "cell_type": "code",
            "execution_count": 5,
            "source": [
                "x= 89\r\n",
                "y=45\r\n",
                "z=13\r\n",
                "(x+y+z)/3 >100 and (x+y+z)*20 >100\r\n"
            ],
            "outputs": [
                {
                    "output_type": "execute_result",
                    "data": {
                        "text/plain": [
                            "False"
                        ]
                    },
                    "metadata": {},
                    "execution_count": 5
                }
            ],
            "metadata": {}
        }
    ],
    "metadata": {
        "orig_nbformat": 4,
        "language_info": {
            "name": "python",
            "version": "3.8.8",
            "mimetype": "text/x-python",
            "codemirror_mode": {
                "name": "ipython",
                "version": 3
            },
            "pygments_lexer": "ipython3",
            "nbconvert_exporter": "python",
            "file_extension": ".py"
        },
        "kernelspec": {
            "name": "python3",
            "display_name": "Python 3.8.8 64-bit ('base': conda)"
        },
        "interpreter": {
            "hash": "67fec0b8313160cbc4f40da23b059cb9d2bff6fa5a6f0dd18042a4b67475da13"
        }
    },
    "nbformat": 4,
    "nbformat_minor": 2
}