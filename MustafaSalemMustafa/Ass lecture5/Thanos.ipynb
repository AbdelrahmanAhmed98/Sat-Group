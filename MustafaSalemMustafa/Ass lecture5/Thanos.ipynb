﻿import os 
import random

def people_of_universe():
    return os.listdir('Project 1 - Thanos/backup')

for i in range(len(people_of_universe())//2) :
    people = people_of_universe()
    os.remove('Project 1 - Thanos/backup/'+random.choice(people))
        