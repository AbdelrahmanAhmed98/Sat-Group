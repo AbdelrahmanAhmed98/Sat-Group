{
 "cells": [
  {
   "cell_type": "markdown",
   "metadata": {},
   "source": [
    "###  Task 1"
   ]
  },
  {
   "cell_type": "code",
   "execution_count": 1,
   "metadata": {},
   "outputs": [],
   "source": [
    "import requests"
   ]
  },
  {
   "cell_type": "code",
   "execution_count": 2,
   "metadata": {},
   "outputs": [],
   "source": [
    "def Rates() :\n",
    "    #get rate of Euro From URl\n",
    "    response = requests.get('https://api.frankfurter.app/latest?amount=1&from=USD&to=EUR')\n",
    "    data = response.json()\n",
    "    Rates = data['rates']['EUR']\n",
    "    return Rates\n"
   ]
  },
  {
   "cell_type": "code",
   "execution_count": 3,
   "metadata": {},
   "outputs": [],
   "source": [
    "def Converting(amount) :\n",
    "    #convert from USD to Euro\n",
    "    rates = Rates()\n",
    "    Exchange = rates * amount\n",
    "    return Exchange\n",
    "    "
   ]
  },
  {
   "cell_type": "code",
   "execution_count": 4,
   "metadata": {},
   "outputs": [
    {
     "name": "stdout",
     "output_type": "stream",
     "text": [
      "Enter Amount Of USD : 5\n",
      "the USD To EUR Exchange rate : 4.34065 Euro\n"
     ]
    }
   ],
   "source": [
    "amount_of_USD = float(input('Enter Amount Of USD : '))\n",
    "result = Converting(amount_of_USD)\n",
    "print(f'the USD To EUR Exchange rate : {result} Euro')\n",
    "\n",
    "\n"
   ]
  },
  {
   "cell_type": "markdown",
   "metadata": {},
   "source": [
    "## Task2"
   ]
  },
  {
   "cell_type": "code",
   "execution_count": 5,
   "metadata": {},
   "outputs": [],
   "source": [
    "import csv\n",
    "res = requests.get('https://www.metaweather.com/api/location/1521894/')\n",
    "weather_data = res.json()\n",
    "with open('weather.csv','w' , newline='') as f :\n",
    "    writer = csv.writer(f)\n",
    "    writer.writerow(['Date' ,'Temperature','Humidity','Visibility' , 'Air Pressure' , 'Wind Speed' ])\n",
    "    for i in weather_data['consolidated_weather'] :\n",
    "        Temperature =i['the_temp']\n",
    "        Humidity = i['humidity']\n",
    "        Visibility = i['visibility']\n",
    "        Air_Pressure = i['air_pressure']\n",
    "        Wind_speed = i['wind_speed']\n",
    "        Date = i['applicable_date']\n",
    "        writer.writerow([ Date, Temperature , Humidity , Visibility , Air_Pressure , Wind_speed ])"
   ]
  },
  {
   "cell_type": "code",
   "execution_count": null,
   "metadata": {},
   "outputs": [],
   "source": []
  },
  {
   "cell_type": "markdown",
   "metadata": {},
   "source": [
    "## Task3"
   ]
  },
  {
   "cell_type": "code",
   "execution_count": 24,
   "metadata": {},
   "outputs": [],
   "source": [
    "respons = requests.get('https://gorest.co.in/public-api/users?_format=json&access-token=H4lYmIGLXZkDlpy_w0ZVS5rgcpDXbN7')\n",
    "users_data = respons.json()\n",
    "file_name = 'users_data.csv'\n",
    "with open(file_name , 'w' , newline = '') as f :\n",
    "    writer = csv.writer(f)\n",
    "    writer.writerow(['ID','Name','Email','Gender','Status'])\n",
    "    for i in users_data['data'] :\n",
    "        ID = i['id']\n",
    "        Name = i['name']\n",
    "        Email = i['email']\n",
    "        Gender = i['gender']\n",
    "        Status = i['status']\n",
    "        if Status == 'active' :\n",
    "            Status = 1 \n",
    "        elif Status == 'inactive' :\n",
    "            Status = 0\n",
    "        else :\n",
    "            continue\n",
    "        writer.writerow( [ID , Name , Email , Gender , Status])\n",
    "    \n",
    "    "
   ]
  },
  {
   "cell_type": "code",
   "execution_count": null,
   "metadata": {},
   "outputs": [],
   "source": []
  }
 ],
 "metadata": {
  "kernelspec": {
   "display_name": "Python 3",
   "language": "python",
   "name": "python3"
  },
  "language_info": {
   "codemirror_mode": {
    "name": "ipython",
    "version": 3
   },
   "file_extension": ".py",
   "mimetype": "text/x-python",
   "name": "python",
   "nbconvert_exporter": "python",
   "pygments_lexer": "ipython3",
   "version": "3.7.6"
  }
 },
 "nbformat": 4,
 "nbformat_minor": 4
}
