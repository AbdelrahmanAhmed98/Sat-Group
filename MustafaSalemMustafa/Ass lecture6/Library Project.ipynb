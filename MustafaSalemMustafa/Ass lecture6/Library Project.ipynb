{
 "cells": [
  {
   "cell_type": "markdown",
   "metadata": {},
   "source": [
    "### Library System Project ."
   ]
  },
  {
   "cell_type": "code",
   "execution_count": 1,
   "metadata": {},
   "outputs": [],
   "source": [
    "class Library :\n",
    "    def __init__(self , books):\n",
    "        self.books = books\n",
    "        print('Welcome to Library')\n",
    "    def display_books(self):\n",
    "        for book in self.books:\n",
    "            print(book)\n",
    "        \n",
    "    def add_books(self,books_name):\n",
    "        self.books_name = books_name\n",
    "        self.books.append(self.books_name)\n",
    "        \n",
    "    def Lend_books(self, books_name) :\n",
    "        self.books_name = books_name\n",
    "        if self.books_name in self.books :\n",
    "            print('Well, This book is here')\n",
    "            self.books.remove(self.books_name)\n",
    "        else :\n",
    "            print('Sorry, This book is not here')"
   ]
  },
  {
   "cell_type": "code",
   "execution_count": 2,
   "metadata": {},
   "outputs": [],
   "source": [
    "class Students :\n",
    "    def borrow(self,books_name) :\n",
    "        return books_name\n",
    "    def returns(self,books_name) :\n",
    "        return books_name"
   ]
  },
  {
   "cell_type": "code",
   "execution_count": 3,
   "metadata": {},
   "outputs": [
    {
     "name": "stdout",
     "output_type": "stream",
     "text": [
      "Welcome to Library\n"
     ]
    }
   ],
   "source": [
    "L1= Library(['Welcome To The Life' , 'How to people Think' , 'Data Science' , 'ML'])"
   ]
  },
  {
   "cell_type": "code",
   "execution_count": 4,
   "metadata": {},
   "outputs": [
    {
     "name": "stdout",
     "output_type": "stream",
     "text": [
      "Welcome To The Life\n",
      "How to people Think\n",
      "Data Science\n",
      "ML\n"
     ]
    }
   ],
   "source": [
    "L1.display_books()"
   ]
  },
  {
   "cell_type": "code",
   "execution_count": 5,
   "metadata": {},
   "outputs": [],
   "source": [
    "L1.add_books('jungle')"
   ]
  },
  {
   "cell_type": "code",
   "execution_count": 6,
   "metadata": {},
   "outputs": [
    {
     "name": "stdout",
     "output_type": "stream",
     "text": [
      "Welcome To The Life\n",
      "How to people Think\n",
      "Data Science\n",
      "ML\n",
      "jungle\n"
     ]
    }
   ],
   "source": [
    "L1.display_books()"
   ]
  },
  {
   "cell_type": "code",
   "execution_count": 7,
   "metadata": {},
   "outputs": [
    {
     "name": "stdout",
     "output_type": "stream",
     "text": [
      "Well, This book is here\n"
     ]
    }
   ],
   "source": [
    "L1.Lend_books('ML')"
   ]
  },
  {
   "cell_type": "code",
   "execution_count": 8,
   "metadata": {},
   "outputs": [
    {
     "name": "stdout",
     "output_type": "stream",
     "text": [
      "Sorry, This book is not here\n"
     ]
    }
   ],
   "source": [
    "L1.Lend_books('Sampa')"
   ]
  },
  {
   "cell_type": "code",
   "execution_count": 9,
   "metadata": {},
   "outputs": [
    {
     "name": "stdout",
     "output_type": "stream",
     "text": [
      "Welcome To The Life\n",
      "How to people Think\n",
      "Data Science\n",
      "jungle\n"
     ]
    }
   ],
   "source": [
    "L1.display_books()"
   ]
  },
  {
   "cell_type": "code",
   "execution_count": 10,
   "metadata": {},
   "outputs": [],
   "source": [
    "s1 = Students()"
   ]
  },
  {
   "cell_type": "code",
   "execution_count": 11,
   "metadata": {},
   "outputs": [
    {
     "name": "stdout",
     "output_type": "stream",
     "text": [
      "Sorry, This book is not here\n"
     ]
    }
   ],
   "source": [
    "L1.Lend_books(s1.borrow('big data'))"
   ]
  },
  {
   "cell_type": "code",
   "execution_count": 12,
   "metadata": {},
   "outputs": [
    {
     "name": "stdout",
     "output_type": "stream",
     "text": [
      "Well, This book is here\n"
     ]
    }
   ],
   "source": [
    "L1.Lend_books(s1.borrow('jungle'))"
   ]
  },
  {
   "cell_type": "code",
   "execution_count": 13,
   "metadata": {},
   "outputs": [
    {
     "name": "stdout",
     "output_type": "stream",
     "text": [
      "Welcome To The Life\n",
      "How to people Think\n",
      "Data Science\n"
     ]
    }
   ],
   "source": [
    "L1.display_books()"
   ]
  },
  {
   "cell_type": "code",
   "execution_count": 14,
   "metadata": {},
   "outputs": [
    {
     "name": "stdout",
     "output_type": "stream",
     "text": [
      "Sorry, This book is not here\n"
     ]
    }
   ],
   "source": [
    "L1.Lend_books(s1.borrow('jungle'))"
   ]
  },
  {
   "cell_type": "code",
   "execution_count": 15,
   "metadata": {},
   "outputs": [],
   "source": [
    "L1.add_books(s1.returns('jungle'))"
   ]
  },
  {
   "cell_type": "code",
   "execution_count": 16,
   "metadata": {},
   "outputs": [
    {
     "name": "stdout",
     "output_type": "stream",
     "text": [
      "Welcome To The Life\n",
      "How to people Think\n",
      "Data Science\n",
      "jungle\n"
     ]
    }
   ],
   "source": [
    "L1.display_books()"
   ]
  },
  {
   "cell_type": "code",
   "execution_count": 17,
   "metadata": {},
   "outputs": [
    {
     "name": "stdout",
     "output_type": "stream",
     "text": [
      "-----------choose from options----------- \n",
      " 1- Display books \n",
      " 2- Borrow books \n",
      " 3- Return books \n",
      " 4- Exit\n",
      "5\n",
      "please enter the number between 1 to 4 !\n",
      "-----------choose from options----------- \n",
      " 1- Display books \n",
      " 2- Borrow books \n",
      " 3- Return books \n",
      " 4- Exit\n",
      "1\n",
      "Welcome To The Life\n",
      "How to people Think\n",
      "Data Science\n",
      "jungle\n",
      "-----------choose from options----------- \n",
      " 1- Display books \n",
      " 2- Borrow books \n",
      " 3- Return books \n",
      " 4- Exit\n",
      "4\n"
     ]
    }
   ],
   "source": [
    "while True :\n",
    "    print('-----------choose from options----------- \\n 1- Display books \\n 2- Borrow books \\n 3- Return books \\n 4- Exit')\n",
    "    choice = int(input())\n",
    "    if choice == 1 :\n",
    "        L1.display_books()\n",
    "    elif choice == 2 :\n",
    "        book = input('Enter The Book Name ')\n",
    "        L1.Lend_books(book)\n",
    "    elif choice == 3 :\n",
    "        book = input('Enter The Book Name ')\n",
    "        L1.add_books(book) \n",
    "    elif choice == 4 :\n",
    "        break\n",
    "    else :\n",
    "        print('please enter the number between 1 to 4 !')\n",
    "        "
   ]
  },
  {
   "cell_type": "code",
   "execution_count": null,
   "metadata": {},
   "outputs": [],
   "source": []
  }
 ],
 "metadata": {
  "kernelspec": {
   "display_name": "Python 3",
   "language": "python",
   "name": "python3"
  },
  "language_info": {
   "codemirror_mode": {
    "name": "ipython",
    "version": 3
   },
   "file_extension": ".py",
   "mimetype": "text/x-python",
   "name": "python",
   "nbconvert_exporter": "python",
   "pygments_lexer": "ipython3",
   "version": "3.7.6"
  }
 },
 "nbformat": 4,
 "nbformat_minor": 4
}
