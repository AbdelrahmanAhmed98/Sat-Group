{
 "cells": [
  {
   "cell_type": "code",
   "execution_count": 1,
   "id": "c6300155",
   "metadata": {},
   "outputs": [],
   "source": [
    "import pandas as pd\n",
    "import numpy as np"
   ]
  },
  {
   "cell_type": "code",
   "execution_count": 2,
   "id": "51a5736c",
   "metadata": {},
   "outputs": [],
   "source": [
    "df = pd.read_csv('final1.csv')"
   ]
  },
  {
   "cell_type": "code",
   "execution_count": 3,
   "id": "05e3ef3a",
   "metadata": {},
   "outputs": [
    {
     "name": "stdout",
     "output_type": "stream",
     "text": [
      "<class 'pandas.core.frame.DataFrame'>\n",
      "RangeIndex: 474415 entries, 0 to 474414\n",
      "Data columns (total 86 columns):\n",
      " #   Column                 Non-Null Count   Dtype  \n",
      "---  ------                 --------------   -----  \n",
      " 0   rating                 474415 non-null  float64\n",
      " 1   rating_top             474415 non-null  int64  \n",
      " 2   playtime               474415 non-null  int64  \n",
      " 3   achievements_count     474415 non-null  int64  \n",
      " 4   ratings_count          474415 non-null  int64  \n",
      " 5   suggestions_count      474415 non-null  int64  \n",
      " 6   game_series_count      474415 non-null  int64  \n",
      " 7   reviews_count          474415 non-null  int64  \n",
      " 8   added_status_yet       474415 non-null  int64  \n",
      " 9   added_status_owned     474415 non-null  int64  \n",
      " 10  added_status_beaten    474415 non-null  int64  \n",
      " 11  added_status_toplay    474415 non-null  int64  \n",
      " 12  added_status_dropped   474415 non-null  int64  \n",
      " 13  added_status_playing   474415 non-null  int64  \n",
      " 14  Adventure              474415 non-null  float64\n",
      " 15  Puzzle                 474415 non-null  float64\n",
      " 16  Simulation             474415 non-null  float64\n",
      " 17  Indie                  474415 non-null  float64\n",
      " 18  Arcade                 474415 non-null  float64\n",
      " 19  Action                 474415 non-null  float64\n",
      " 20  RPG                    474415 non-null  float64\n",
      " 21  Strategy               474415 non-null  float64\n",
      " 22  Massively Multiplayer  474415 non-null  float64\n",
      " 23  Shooter                474415 non-null  float64\n",
      " 24  Platformer             474415 non-null  float64\n",
      " 25  Educational            474415 non-null  float64\n",
      " 26  Casual                 474415 non-null  float64\n",
      " 27  Racing                 474415 non-null  float64\n",
      " 28  Sports                 474415 non-null  float64\n",
      " 29  Fighting               474415 non-null  float64\n",
      " 30  Family                 474415 non-null  float64\n",
      " 31  Board Games            474415 non-null  float64\n",
      " 32  Card                   474415 non-null  float64\n",
      " 33  PC                     474415 non-null  float64\n",
      " 34  macOS                  474415 non-null  float64\n",
      " 35  Xbox One               474415 non-null  float64\n",
      " 36  PlayStation 4          474415 non-null  float64\n",
      " 37  Nintendo Switch        474415 non-null  float64\n",
      " 38  iOS                    474415 non-null  float64\n",
      " 39  Web                    474415 non-null  float64\n",
      " 40  Linux                  474415 non-null  float64\n",
      " 41  Android                474415 non-null  float64\n",
      " 42  Nintendo 3DS           474415 non-null  float64\n",
      " 43  PS Vita                474415 non-null  float64\n",
      " 44  Xbox 360               474415 non-null  float64\n",
      " 45  PlayStation 3          474415 non-null  float64\n",
      " 46  PlayStation 2          474415 non-null  float64\n",
      " 47  Xbox                   474415 non-null  float64\n",
      " 48  Wii                    474415 non-null  float64\n",
      " 49  Game Boy Advance       474415 non-null  float64\n",
      " 50  Classic Macintosh      474415 non-null  float64\n",
      " 51  Wii U                  474415 non-null  float64\n",
      " 52  Nintendo 64            474415 non-null  float64\n",
      " 53  Game Boy               474415 non-null  float64\n",
      " 54  SNES                   474415 non-null  float64\n",
      " 55  PlayStation            474415 non-null  float64\n",
      " 56  PSP                    474415 non-null  float64\n",
      " 57  Nintendo DS            474415 non-null  float64\n",
      " 58  Commodore / Amiga      474415 non-null  float64\n",
      " 59  GameCube               474415 non-null  float64\n",
      " 60  PlayStation 5          474415 non-null  float64\n",
      " 61  Dreamcast              474415 non-null  float64\n",
      " 62  SEGA Master System     474415 non-null  float64\n",
      " 63  3DO                    474415 non-null  float64\n",
      " 64  Atari ST               474415 non-null  float64\n",
      " 65  NES                    474415 non-null  float64\n",
      " 66  Genesis                474415 non-null  float64\n",
      " 67  Game Gear              474415 non-null  float64\n",
      " 68  Neo Geo                474415 non-null  float64\n",
      " 69  SEGA CD                474415 non-null  float64\n",
      " 70  Game Boy Color         474415 non-null  float64\n",
      " 71  Nintendo DSi           474415 non-null  float64\n",
      " 72  SEGA Saturn            474415 non-null  float64\n",
      " 73  Apple II               474415 non-null  float64\n",
      " 74  Jaguar                 474415 non-null  float64\n",
      " 75  Atari 8-bit            474415 non-null  float64\n",
      " 76  Xbox Series S/X        474415 non-null  float64\n",
      " 77  Atari 2600             474415 non-null  float64\n",
      " 78  Atari 5200             474415 non-null  float64\n",
      " 79  SEGA 32X               474415 non-null  float64\n",
      " 80  Atari Lynx             474415 non-null  float64\n",
      " 81  Atari 7800             474415 non-null  float64\n",
      " 82  Atari XEGS             474415 non-null  float64\n",
      " 83  Atari Flashback        474415 non-null  float64\n",
      " 84  other_genres           474415 non-null  float64\n",
      " 85  other_platforms        474415 non-null  float64\n",
      "dtypes: float64(73), int64(13)\n",
      "memory usage: 311.3 MB\n"
     ]
    }
   ],
   "source": [
    "df.info()"
   ]
  },
  {
   "cell_type": "code",
   "execution_count": 4,
   "id": "2d2cd4c5",
   "metadata": {},
   "outputs": [],
   "source": [
    "x =df.drop(['rating','rating_top','other_genres','other_platforms'],axis=1)\n",
    "y = df['rating']"
   ]
  },
  {
   "cell_type": "code",
   "execution_count": 5,
   "id": "f14706f1",
   "metadata": {},
   "outputs": [],
   "source": [
    "from sklearn.model_selection import train_test_split\n",
    "x_train,x_test,y_train,y_test=train_test_split(x,y,test_size=0.2)"
   ]
  },
  {
   "cell_type": "code",
   "execution_count": 6,
   "id": "1963840d",
   "metadata": {},
   "outputs": [],
   "source": [
    "from sklearn.preprocessing import StandardScaler\n",
    "scaler=StandardScaler()\n",
    "x_train=scaler.fit_transform(x_train)\n",
    "x_test=scaler.transform(x_test)\n"
   ]
  },
  {
   "cell_type": "code",
   "execution_count": 7,
   "id": "e3c8357f",
   "metadata": {},
   "outputs": [],
   "source": [
    "# applaying tree algorithms to test which is better and use best scenario"
   ]
  },
  {
   "cell_type": "code",
   "execution_count": 8,
   "id": "a275f45e",
   "metadata": {},
   "outputs": [
    {
     "name": "stderr",
     "output_type": "stream",
     "text": [
      "/usr/lib/python3/dist-packages/pkg_resources/__init__.py:116: PkgResourcesDeprecationWarning: 1.16.0-unknown is an invalid version and will not be supported in a future release\n",
      "  warnings.warn(\n",
      "/usr/lib/python3/dist-packages/pkg_resources/__init__.py:116: PkgResourcesDeprecationWarning: 1.4-py1 is an invalid version and will not be supported in a future release\n",
      "  warnings.warn(\n",
      "/usr/lib/python3/dist-packages/pkg_resources/__init__.py:116: PkgResourcesDeprecationWarning: 1.12.1-git20200711.33e2d80-dfsg1-0.6 is an invalid version and will not be supported in a future release\n",
      "  warnings.warn(\n"
     ]
    }
   ],
   "source": [
    "from sklearn.tree import DecisionTreeRegressor\n",
    "from sklearn.ensemble import RandomForestRegressor\n",
    "# from xgboost import XGBRegressor"
   ]
  },
  {
   "cell_type": "code",
   "execution_count": 9,
   "id": "7458a12f",
   "metadata": {},
   "outputs": [],
   "source": [
    "rf = RandomForestRegressor()"
   ]
  },
  {
   "cell_type": "code",
   "execution_count": 10,
   "id": "46b0f69e",
   "metadata": {},
   "outputs": [],
   "source": [
    "from sklearn.model_selection import cross_validate\n",
    "\n",
    "rf_cv=cross_validate(rf,x,y,cv=10,return_train_score=True)"
   ]
  },
  {
   "cell_type": "code",
   "execution_count": 29,
   "id": "ae93d182",
   "metadata": {},
   "outputs": [
    {
     "data": {
      "text/plain": [
       "{'fit_time': array([39.65889168, 39.27166057, 38.58802128, 38.10660672, 44.36871982,\n",
       "        41.60176444, 40.82940364, 28.19239926, 40.53992367, 40.48451567]),\n",
       " 'score_time': array([0.12478757, 0.13208795, 0.13622689, 0.12727118, 0.11060953,\n",
       "        0.11218381, 0.10287237, 0.09633517, 0.09602356, 0.19999123]),\n",
       " 'test_score': array([0.982036  , 0.979049  , 0.98071836, 0.98539658, 0.98626315,\n",
       "        0.98183158, 0.98449108, 0.98230942, 0.98343385, 0.98548353]),\n",
       " 'train_score': array([0.99778573, 0.99785234, 0.99782188, 0.99775372, 0.99775061,\n",
       "        0.9978046 , 0.99779053, 0.99779961, 0.99779732, 0.99771404])}"
      ]
     },
     "execution_count": 29,
     "metadata": {},
     "output_type": "execute_result"
    }
   ],
   "source": [
    "rf_cv"
   ]
  },
  {
   "cell_type": "code",
   "execution_count": 11,
   "id": "a820d5c0",
   "metadata": {},
   "outputs": [
    {
     "data": {
      "text/plain": [
       "RandomForestRegressor()"
      ]
     },
     "execution_count": 11,
     "metadata": {},
     "output_type": "execute_result"
    }
   ],
   "source": [
    "rf.fit(x_train,y_train)"
   ]
  },
  {
   "cell_type": "code",
   "execution_count": 12,
   "id": "10e9f0c4",
   "metadata": {},
   "outputs": [
    {
     "data": {
      "text/plain": [
       "0.983173148415372"
      ]
     },
     "execution_count": 12,
     "metadata": {},
     "output_type": "execute_result"
    }
   ],
   "source": [
    "rf.score(x_test,y_test)"
   ]
  },
  {
   "cell_type": "code",
   "execution_count": 13,
   "id": "5164e794",
   "metadata": {},
   "outputs": [],
   "source": [
    "import joblib"
   ]
  },
  {
   "cell_type": "code",
   "execution_count": 14,
   "id": "86689af6",
   "metadata": {},
   "outputs": [
    {
     "data": {
      "text/plain": [
       "['scaler.h5']"
      ]
     },
     "execution_count": 14,
     "metadata": {},
     "output_type": "execute_result"
    }
   ],
   "source": [
    "joblib.dump(rf,'rf.h5')\n",
    "joblib.dump(scaler,'scaler.h5')"
   ]
  },
  {
   "cell_type": "code",
   "execution_count": 16,
   "id": "1d28246a",
   "metadata": {},
   "outputs": [
    {
     "data": {
      "text/plain": [
       "Index(['playtime', 'achievements_count', 'ratings_count', 'suggestions_count',\n",
       "       'game_series_count', 'reviews_count', 'added_status_yet',\n",
       "       'added_status_owned', 'added_status_beaten', 'added_status_toplay',\n",
       "       'added_status_dropped', 'added_status_playing'],\n",
       "      dtype='object')"
      ]
     },
     "execution_count": 16,
     "metadata": {},
     "output_type": "execute_result"
    }
   ],
   "source": [
    "x.columns[:12] # slicing based on data and its values"
   ]
  },
  {
   "cell_type": "code",
   "execution_count": 17,
   "id": "95a7a5f5",
   "metadata": {},
   "outputs": [
    {
     "data": {
      "text/plain": [
       "Index(['Adventure', 'Puzzle', 'Simulation', 'Indie', 'Arcade', 'Action', 'RPG',\n",
       "       'Strategy', 'Massively Multiplayer', 'Shooter', 'Platformer',\n",
       "       'Educational', 'Casual', 'Racing', 'Sports', 'Fighting', 'Family',\n",
       "       'Board Games', 'Card'],\n",
       "      dtype='object')"
      ]
     },
     "execution_count": 17,
     "metadata": {},
     "output_type": "execute_result"
    }
   ],
   "source": [
    "x.columns[12:31]"
   ]
  },
  {
   "cell_type": "code",
   "execution_count": 27,
   "id": "529d8d71",
   "metadata": {},
   "outputs": [
    {
     "data": {
      "text/plain": [
       "array([[0., 1., 0., 0., 0., 0., 0., 0., 0., 0., 0., 0., 0., 0., 0., 0.,\n",
       "        0., 0., 0.],\n",
       "       [0., 0., 0., 0., 0., 0., 0., 0., 0., 0., 0., 0., 1., 0., 0., 0.,\n",
       "        0., 0., 0.],\n",
       "       [0., 0., 0., 0., 0., 0., 0., 0., 0., 0., 0., 0., 0., 0., 0., 0.,\n",
       "        1., 0., 0.],\n",
       "       [0., 0., 0., 0., 0., 0., 0., 0., 0., 1., 0., 0., 0., 0., 0., 0.,\n",
       "        0., 0., 0.],\n",
       "       [0., 0., 1., 0., 0., 0., 0., 0., 0., 0., 0., 0., 0., 0., 0., 0.,\n",
       "        0., 0., 0.],\n",
       "       [1., 0., 0., 0., 0., 0., 0., 0., 0., 0., 0., 0., 0., 0., 0., 0.,\n",
       "        0., 0., 0.],\n",
       "       [0., 0., 0., 0., 0., 0., 0., 0., 0., 0., 0., 0., 0., 1., 0., 0.,\n",
       "        0., 0., 0.],\n",
       "       [0., 0., 0., 0., 0., 0., 0., 0., 0., 0., 0., 0., 0., 0., 0., 0.,\n",
       "        0., 0., 1.],\n",
       "       [0., 0., 0., 0., 0., 0., 0., 0., 0., 0., 1., 0., 0., 0., 0., 0.,\n",
       "        0., 0., 0.],\n",
       "       [0., 0., 0., 0., 0., 0., 0., 0., 0., 0., 0., 0., 0., 0., 0., 1.,\n",
       "        0., 0., 0.],\n",
       "       [0., 0., 0., 0., 0., 0., 0., 0., 0., 0., 0., 1., 0., 0., 0., 0.,\n",
       "        0., 0., 0.],\n",
       "       [0., 0., 0., 0., 0., 0., 1., 0., 0., 0., 0., 0., 0., 0., 0., 0.,\n",
       "        0., 0., 0.],\n",
       "       [0., 0., 0., 0., 0., 1., 0., 0., 0., 0., 0., 0., 0., 0., 0., 0.,\n",
       "        0., 0., 0.],\n",
       "       [0., 0., 0., 0., 0., 0., 0., 0., 0., 0., 0., 0., 0., 0., 1., 0.,\n",
       "        0., 0., 0.],\n",
       "       [0., 0., 0., 0., 0., 0., 0., 0., 0., 0., 0., 0., 0., 0., 0., 0.,\n",
       "        0., 1., 0.],\n",
       "       [0., 0., 0., 0., 0., 0., 0., 0., 1., 0., 0., 0., 0., 0., 0., 0.,\n",
       "        0., 0., 0.],\n",
       "       [0., 0., 0., 0., 0., 0., 0., 1., 0., 0., 0., 0., 0., 0., 0., 0.,\n",
       "        0., 0., 0.],\n",
       "       [0., 0., 0., 1., 0., 0., 0., 0., 0., 0., 0., 0., 0., 0., 0., 0.,\n",
       "        0., 0., 0.],\n",
       "       [0., 0., 0., 0., 1., 0., 0., 0., 0., 0., 0., 0., 0., 0., 0., 0.,\n",
       "        0., 0., 0.]])"
      ]
     },
     "execution_count": 27,
     "metadata": {},
     "output_type": "execute_result"
    }
   ],
   "source": [
    "from sklearn.preprocessing import OneHotEncoder\n",
    "# representing the data in one hot encoding to help write down dummies for the deployment\n",
    "Encoder = OneHotEncoder()\n",
    "Encoder.fit_transform(pd.DataFrame(x.columns[12:31])).toarray()"
   ]
  },
  {
   "cell_type": "code",
   "execution_count": 28,
   "id": "5631e8a8",
   "metadata": {},
   "outputs": [
    {
     "data": {
      "text/plain": [
       "array([0., 0., 0., 0., 0., 0., 0., 0., 0., 0., 0., 0., 0., 0., 0., 0., 0.,\n",
       "       0., 0., 0., 0., 0., 0., 0., 0., 0., 0., 0., 0., 1., 0., 0., 0., 0.,\n",
       "       0., 0., 0., 0., 0., 0., 0., 0., 0., 0., 0., 0., 0., 0., 0., 0., 0.])"
      ]
     },
     "execution_count": 28,
     "metadata": {},
     "output_type": "execute_result"
    }
   ],
   "source": [
    "from sklearn.preprocessing import OneHotEncoder\n",
    "\n",
    "Encoder = OneHotEncoder()\n",
    "Encoder.fit_transform(pd.DataFrame(x.columns[31:])).toarray()[0]"
   ]
  },
  {
   "cell_type": "code",
   "execution_count": null,
   "id": "3c605ffb",
   "metadata": {},
   "outputs": [],
   "source": [
    "[0., 0., 0., 0., 0., 0., 0., 0., 0., 0., 0., 0., 0., 0., 0., 0., 0.,\n",
    "       0., 0., 0., 0., 0., 0., 0., 0., 0., 0., 0., 0., 0., 0., 0., 0., 0.,\n",
    "       0., 0., 0., 0., 0., 0., 0., 0., 0., 0., 0., 0., 0., 0., 0., 0., 0.]"
   ]
  },
  {
   "cell_type": "markdown",
   "id": "f424166c",
   "metadata": {},
   "source": [
    "## https://game-information.herokuapp.com/"
   ]
  }
 ],
 "metadata": {
  "kernelspec": {
   "display_name": "Python 3 (ipykernel)",
   "language": "python",
   "name": "python3"
  },
  "language_info": {
   "codemirror_mode": {
    "name": "ipython",
    "version": 3
   },
   "file_extension": ".py",
   "mimetype": "text/x-python",
   "name": "python",
   "nbconvert_exporter": "python",
   "pygments_lexer": "ipython3",
   "version": "3.9.10"
  }
 },
 "nbformat": 4,
 "nbformat_minor": 5
}
