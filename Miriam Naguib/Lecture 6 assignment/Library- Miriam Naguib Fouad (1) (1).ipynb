{
 "cells": [
  {
   "cell_type": "code",
   "execution_count": 1,
   "metadata": {},
   "outputs": [],
   "source": [
    "class Library:\n",
    "    def __init__(self,AvailableBooks):\n",
    "        self.books=AvailableBooks\n",
    "    def display(self):\n",
    "        for book in self.books:\n",
    "            print(book)\n",
    "    def lend(self,book):\n",
    "        if book in self.books:\n",
    "            print(\"okay i'll lend u this book\")\n",
    "            self.books.remove(book)\n",
    "        else:\n",
    "            print(\"this book isn't existed\")\n",
    "    def add_book(self,book):\n",
    "        self.books.append(book)"
   ]
  },
  {
   "cell_type": "code",
   "execution_count": 4,
   "metadata": {},
   "outputs": [],
   "source": [
    "class Student:\n",
    "    \n",
    "    def borrow(self,book):\n",
    "        return book\n",
    "    def return_book(self,book):\n",
    "        return book"
   ]
  },
  {
   "cell_type": "code",
   "execution_count": 6,
   "metadata": {},
   "outputs": [
    {
     "name": "stdout",
     "output_type": "stream",
     "text": [
      "Aladdin\n",
      "Redeeming Love\n",
      "Anne with an E\n",
      "Harry Potter\n"
     ]
    }
   ],
   "source": [
    "library1=Library(['Aladdin','Redeeming Love','Anne with an E','Harry Potter'])\n",
    "library1.display()"
   ]
  },
  {
   "cell_type": "code",
   "execution_count": null,
   "metadata": {},
   "outputs": [
    {
     "name": "stdout",
     "output_type": "stream",
     "text": [
      " -------------Choose from the options--------\n",
      " 1-display books \n",
      " 2-borrow a book \n",
      " 3- return a book \n",
      " 4- exit\n",
      "1\n",
      "Aladdin\n",
      "Redeeming Love\n",
      "Anne with an E\n",
      "Harry Potter\n",
      " -------------Choose from the options--------\n",
      " 1-display books \n",
      " 2-borrow a book \n",
      " 3- return a book \n",
      " 4- exit\n",
      "2\n",
      "Enter The book Name: Anne with an E\n",
      "okay i'll lend u this book\n",
      " -------------Choose from the options--------\n",
      " 1-display books \n",
      " 2-borrow a book \n",
      " 3- return a book \n",
      " 4- exit\n",
      "1\n",
      "Aladdin\n",
      "Redeeming Love\n",
      "Harry Potter\n",
      " -------------Choose from the options--------\n",
      " 1-display books \n",
      " 2-borrow a book \n",
      " 3- return a book \n",
      " 4- exit\n",
      "3\n",
      "Enter The book Name: Anne with an E\n",
      " -------------Choose from the options--------\n",
      " 1-display books \n",
      " 2-borrow a book \n",
      " 3- return a book \n",
      " 4- exit\n",
      "1\n",
      "Aladdin\n",
      "Redeeming Love\n",
      "Harry Potter\n",
      "Anne with an E\n",
      " -------------Choose from the options--------\n",
      " 1-display books \n",
      " 2-borrow a book \n",
      " 3- return a book \n",
      " 4- exit\n"
     ]
    }
   ],
   "source": [
    "while True:\n",
    "    print(\" -------------Choose from the options--------\\n 1-display books \\n 2-borrow a book \\n 3- return a book \\n 4- exit\")\n",
    "    choice=int(input())\n",
    "    if choice==1:\n",
    "        library1.display()\n",
    "    elif choice==2:\n",
    "        book=input('Enter The book Name: ')\n",
    "        library1.lend(book)\n",
    "    elif choice==3:\n",
    "        book=input('Enter The book Name: ')\n",
    "        library1.add_book(book)\n",
    "    elif choice==4:\n",
    "        break"
   ]
  },
  {
   "cell_type": "code",
   "execution_count": null,
   "metadata": {},
   "outputs": [],
   "source": []
  },
  {
   "cell_type": "code",
   "execution_count": null,
   "metadata": {},
   "outputs": [],
   "source": []
  }
 ],
 "metadata": {
  "kernelspec": {
   "display_name": "Python 3",
   "language": "python",
   "name": "python3"
  },
  "language_info": {
   "codemirror_mode": {
    "name": "ipython",
    "version": 3
   },
   "file_extension": ".py",
   "mimetype": "text/x-python",
   "name": "python",
   "nbconvert_exporter": "python",
   "pygments_lexer": "ipython3",
   "version": "3.7.6"
  }
 },
 "nbformat": 4,
 "nbformat_minor": 4
}
