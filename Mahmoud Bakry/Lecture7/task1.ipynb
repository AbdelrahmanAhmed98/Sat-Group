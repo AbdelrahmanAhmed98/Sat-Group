{
 "cells": [
  {
   "cell_type": "code",
   "execution_count": 3,
   "id": "f8ed5819",
   "metadata": {},
   "outputs": [],
   "source": [
    "import requests\n"
   ]
  },
  {
   "cell_type": "code",
   "execution_count": 4,
   "id": "7c65c169",
   "metadata": {},
   "outputs": [
    {
     "data": {
      "text/plain": [
       "b'{\"amount\":1.0,\"base\":\"USD\",\"date\":\"2022-02-25\",\"rates\":{\"EUR\":0.89158}}'"
      ]
     },
     "execution_count": 4,
     "metadata": {},
     "output_type": "execute_result"
    }
   ],
   "source": [
    "respons=requests.get('https://api.frankfurter.app/latest?amount=1&amp;from=USD&amp;to=EUR')\n",
    "respons.content"
   ]
  },
  {
   "cell_type": "code",
   "execution_count": 5,
   "id": "bb7af8af",
   "metadata": {},
   "outputs": [
    {
     "data": {
      "text/plain": [
       "{'amount': 1.0, 'base': 'USD', 'date': '2022-02-25', 'rates': {'EUR': 0.89158}}"
      ]
     },
     "execution_count": 5,
     "metadata": {},
     "output_type": "execute_result"
    }
   ],
   "source": [
    "data=respons.json()\n",
    "data"
   ]
  },
  {
   "cell_type": "code",
   "execution_count": 8,
   "id": "068b8e96",
   "metadata": {},
   "outputs": [],
   "source": [
    "data['amount']\n",
    "\n",
    "valu=data['rates']['EUR']\n"
   ]
  },
  {
   "cell_type": "code",
   "execution_count": 10,
   "id": "68691eb6",
   "metadata": {},
   "outputs": [
    {
     "name": "stdout",
     "output_type": "stream",
     "text": [
      "Enter USD : 10\n"
     ]
    },
    {
     "data": {
      "text/plain": [
       "8.9158"
      ]
     },
     "execution_count": 10,
     "metadata": {},
     "output_type": "execute_result"
    }
   ],
   "source": [
    "value = float(input('Enter USD : '))\n",
    "out= valu * value\n",
    "out"
   ]
  },
  {
   "cell_type": "code",
   "execution_count": null,
   "id": "0b674dcf",
   "metadata": {},
   "outputs": [],
   "source": []
  }
 ],
 "metadata": {
  "kernelspec": {
   "display_name": "Python 3",
   "language": "python",
   "name": "python3"
  },
  "language_info": {
   "codemirror_mode": {
    "name": "ipython",
    "version": 3
   },
   "file_extension": ".py",
   "mimetype": "text/x-python",
   "name": "python",
   "nbconvert_exporter": "python",
   "pygments_lexer": "ipython3",
   "version": "3.8.8"
  }
 },
 "nbformat": 4,
 "nbformat_minor": 5
}
