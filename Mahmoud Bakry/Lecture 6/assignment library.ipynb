{
 "cells": [
  {
   "cell_type": "code",
   "execution_count": 52,
   "id": "8d16408c",
   "metadata": {},
   "outputs": [],
   "source": [
    "class library:\n",
    "    def __init__(self,availablebooks):\n",
    "        self.books=availablebooks\n",
    "    def display(self):\n",
    "        for book in self.books:\n",
    "             print(book)\n",
    "    def lend(self,book):\n",
    "         if book in self.books:\n",
    "            print('it is available ')\n",
    "            self.books.remove(book)\n",
    "    \n",
    "         else:\n",
    "            print('the book is not available')\n",
    "    def add(self,book):\n",
    "            self.books.append(book)"
   ]
  },
  {
   "cell_type": "code",
   "execution_count": 53,
   "id": "b718ef31",
   "metadata": {},
   "outputs": [],
   "source": [
    "class student:\n",
    "    def borrow(self,book):\n",
    "        return book\n",
    "    def return_book(self,book):\n",
    "        return book\n",
    "    "
   ]
  },
  {
   "cell_type": "code",
   "execution_count": 72,
   "id": "17202c5a",
   "metadata": {},
   "outputs": [],
   "source": [
    "library1=library(['journey','journy2','jomanje','journey to center of eirth'])"
   ]
  },
  {
   "cell_type": "code",
   "execution_count": 75,
   "id": "35f0ec0b",
   "metadata": {},
   "outputs": [
    {
     "name": "stdout",
     "output_type": "stream",
     "text": [
      "journey\n",
      "journy2\n",
      "jomanje\n",
      "journey to center of eirth\n"
     ]
    }
   ],
   "source": [
    "library1.display()"
   ]
  },
  {
   "cell_type": "code",
   "execution_count": 76,
   "id": "766596e6",
   "metadata": {},
   "outputs": [],
   "source": [
    "student1=student()"
   ]
  },
  {
   "cell_type": "code",
   "execution_count": 77,
   "id": "4f3e335d",
   "metadata": {},
   "outputs": [
    {
     "name": "stdout",
     "output_type": "stream",
     "text": [
      "it is available \n"
     ]
    }
   ],
   "source": [
    "library1.lend(student1.borrow('jomanje'))"
   ]
  },
  {
   "cell_type": "code",
   "execution_count": 78,
   "id": "ba60e3c3",
   "metadata": {},
   "outputs": [
    {
     "name": "stdout",
     "output_type": "stream",
     "text": [
      "journey\n",
      "journy2\n",
      "journey to center of eirth\n"
     ]
    }
   ],
   "source": [
    "library1.display()"
   ]
  },
  {
   "cell_type": "code",
   "execution_count": 82,
   "id": "b08bcccf",
   "metadata": {},
   "outputs": [],
   "source": [
    "library1.add(student1.return_book('jomanje'))"
   ]
  },
  {
   "cell_type": "code",
   "execution_count": 84,
   "id": "6d2b4640",
   "metadata": {},
   "outputs": [
    {
     "name": "stdout",
     "output_type": "stream",
     "text": [
      "journey\n",
      "journy2\n",
      "journey to center of eirth\n",
      "jomanje\n"
     ]
    }
   ],
   "source": [
    "library1.display()"
   ]
  },
  {
   "cell_type": "code",
   "execution_count": null,
   "id": "5e0b6639",
   "metadata": {},
   "outputs": [],
   "source": []
  }
 ],
 "metadata": {
  "kernelspec": {
   "display_name": "Python 3",
   "language": "python",
   "name": "python3"
  },
  "language_info": {
   "codemirror_mode": {
    "name": "ipython",
    "version": 3
   },
   "file_extension": ".py",
   "mimetype": "text/x-python",
   "name": "python",
   "nbconvert_exporter": "python",
   "pygments_lexer": "ipython3",
   "version": "3.8.8"
  }
 },
 "nbformat": 4,
 "nbformat_minor": 5
}
