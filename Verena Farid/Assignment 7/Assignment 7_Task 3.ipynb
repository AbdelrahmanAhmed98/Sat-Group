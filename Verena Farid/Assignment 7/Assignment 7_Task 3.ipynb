{
 "cells": [
  {
   "cell_type": "code",
   "execution_count": 1,
   "metadata": {},
   "outputs": [],
   "source": [
    "import requests"
   ]
  },
  {
   "cell_type": "code",
   "execution_count": 2,
   "metadata": {},
   "outputs": [
    {
     "data": {
      "text/plain": [
       "b'{\"code\":200,\"meta\":{\"pagination\":{\"total\":2158,\"pages\":108,\"page\":1,\"limit\":20}},\"data\":[{\"id\":5428,\"name\":\"NewID${Random}\",\"email\":\"bramakrishnareddy@1634904829086ce.com\",\"gender\":\"male\",\"status\":\"active\"},{\"id\":5406,\"name\":\"NewID${Random}\",\"email\":\"bramakrishnareddy@1634904734512ce.com\",\"gender\":\"male\",\"status\":\"active\"},{\"id\":5407,\"name\":\"Ricardo Lopez\",\"email\":\"bramakrishnareddy@1634904739425ce.com\",\"gender\":\"male\",\"status\":\"active\"},{\"id\":5450,\"name\":\"NewID${Random}\",\"email\":\"bramakrishnareddy@1634904929325ce.com\",\"gender\":\"male\",\"status\":\"active\"},{\"id\":5397,\"name\":\"NewID${Random}\",\"email\":\"bramakrishnareddy@1634904694677ce.com\",\"gender\":\"male\",\"status\":\"active\"},{\"id\":1556,\"name\":\"NewID${Random}\",\"email\":\"apimonitoringc1bki@synthetic.com\",\"gender\":\"male\",\"status\":\"active\"},{\"id\":1531,\"name\":\"NewID${Random}\",\"email\":\"victor.moreno00@bairesdev.com\",\"gender\":\"male\",\"status\":\"inactive\"},{\"id\":5410,\"name\":\"NewID${Random}\",\"email\":\"test123@mailinator.comm\",\"gender\":\"male\",\"status\":\"active\"},{\"id\":5427,\"name\":\"NewID${Random}\",\"email\":\"636pepito@yoloGroup.com\",\"gender\":\"male\",\"status\":\"active\"},{\"id\":5393,\"name\":\"Ricardo Lopez\",\"email\":\"mushamuday@gmail.com\",\"gender\":\"male\",\"status\":\"active\"},{\"id\":5430,\"name\":\"Milhouse\",\"email\":\"test_1634904616@mailinator.commm\",\"gender\":\"female\",\"status\":\"active\"},{\"id\":5398,\"name\":\"Juan Perez\",\"email\":\"bramakrishnareddy@1634904703069ce.com\",\"gender\":\"male\",\"status\":\"active\"},{\"id\":5408,\"name\":\"Ricardo Lopez\",\"email\":\"bramakrishnareddy@1634904741066ce.com\",\"gender\":\"male\",\"status\":\"active\"},{\"id\":5402,\"name\":\"Milhouse\",\"email\":\"bramakrishnareddy@1634904721608ce.com\",\"gender\":\"male\",\"status\":\"active\"},{\"id\":5426,\"name\":\"Ricardo Lopez\",\"email\":\"bramakrishnareddy@1634904822705ce.com\",\"gender\":\"male\",\"status\":\"active\"},{\"id\":5429,\"name\":\"NewID27022\",\"email\":\"bramakrishnareddy@1634904830274ce.com\",\"gender\":\"male\",\"status\":\"active\"},{\"id\":1976,\"name\":\"NewID63476\",\"email\":\"test1634894297707@gmail.com\",\"gender\":\"male\",\"status\":\"active\"},{\"id\":5698,\"name\":\"Junacito Modificado\",\"email\":\"137pepito@yoloGroup.com\",\"gender\":\"male\",\"status\":\"active\"},{\"id\":5694,\"name\":\"NewID29330\",\"email\":\"juancitoperez@synthetic.com\",\"gender\":\"male\",\"status\":\"inactive\"},{\"id\":5697,\"name\":\"Ricardo Lopez\",\"email\":\"187pepito@yoloGroup.com\",\"gender\":\"male\",\"status\":\"active\"}]}'"
      ]
     },
     "execution_count": 2,
     "metadata": {},
     "output_type": "execute_result"
    }
   ],
   "source": [
    "response=requests.get('https://gorest.co.in/public-api/users?_format=json&amp;access-token=H4lYmIGLXZkDlpy_w0ZVS5rgcpDXbN7fhRRy')\n",
    "response.content"
   ]
  },
  {
   "cell_type": "code",
   "execution_count": 3,
   "metadata": {},
   "outputs": [],
   "source": [
    "mydata=response.json()"
   ]
  },
  {
   "cell_type": "code",
   "execution_count": 4,
   "metadata": {},
   "outputs": [
    {
     "name": "stdout",
     "output_type": "stream",
     "text": [
      " Name: NewID${Random}, Email: bramakrishnareddy@1634904829086ce.com, Gender: male, Status: active\n",
      " Name: NewID${Random}, Email: bramakrishnareddy@1634904734512ce.com, Gender: male, Status: active\n",
      " Name: Ricardo Lopez, Email: bramakrishnareddy@1634904739425ce.com, Gender: male, Status: active\n",
      " Name: NewID${Random}, Email: bramakrishnareddy@1634904929325ce.com, Gender: male, Status: active\n",
      " Name: NewID${Random}, Email: bramakrishnareddy@1634904694677ce.com, Gender: male, Status: active\n",
      " Name: NewID${Random}, Email: apimonitoringc1bki@synthetic.com, Gender: male, Status: active\n",
      " Name: NewID${Random}, Email: victor.moreno00@bairesdev.com, Gender: male, Status: inactive\n",
      " Name: NewID${Random}, Email: test123@mailinator.comm, Gender: male, Status: active\n",
      " Name: NewID${Random}, Email: 636pepito@yoloGroup.com, Gender: male, Status: active\n",
      " Name: Ricardo Lopez, Email: mushamuday@gmail.com, Gender: male, Status: active\n",
      " Name: Milhouse, Email: test_1634904616@mailinator.commm, Gender: female, Status: active\n",
      " Name: Juan Perez, Email: bramakrishnareddy@1634904703069ce.com, Gender: male, Status: active\n",
      " Name: Ricardo Lopez, Email: bramakrishnareddy@1634904741066ce.com, Gender: male, Status: active\n",
      " Name: Milhouse, Email: bramakrishnareddy@1634904721608ce.com, Gender: male, Status: active\n",
      " Name: Ricardo Lopez, Email: bramakrishnareddy@1634904822705ce.com, Gender: male, Status: active\n",
      " Name: NewID27022, Email: bramakrishnareddy@1634904830274ce.com, Gender: male, Status: active\n",
      " Name: NewID63476, Email: test1634894297707@gmail.com, Gender: male, Status: active\n",
      " Name: Junacito Modificado, Email: 137pepito@yoloGroup.com, Gender: male, Status: active\n",
      " Name: NewID29330, Email: juancitoperez@synthetic.com, Gender: male, Status: inactive\n",
      " Name: Ricardo Lopez, Email: 187pepito@yoloGroup.com, Gender: male, Status: active\n"
     ]
    }
   ],
   "source": [
    "#name, email, gender, Status (0 for ‘inactive’,1 for‘active’)\n",
    "for id in mydata['data']:\n",
    "    print(f\" Name: {id['name']}, Email: {id['email']}, Gender: {id['gender']}, Status: {id['status']}\")\n",
    "   "
   ]
  },
  {
   "cell_type": "code",
   "execution_count": 5,
   "metadata": {},
   "outputs": [],
   "source": [
    "import csv"
   ]
  },
  {
   "cell_type": "code",
   "execution_count": 7,
   "metadata": {},
   "outputs": [],
   "source": [
    "with open('task3.csv', 'w') as f:\n",
    "    writer=csv.writer(f)\n",
    "    writer.writerow(['Name', 'Email', 'Gender', 'Status'])\n",
    "    for id in mydata['data']: \n",
    "        Name=id['name']\n",
    "        Email=id['email']\n",
    "        Gender=id['gender']\n",
    "        if id['status']=='active':\n",
    "            status=1\n",
    "        elif id['status']=='inactive':\n",
    "            status=0\n",
    "        writer.writerow([Name, Email, Gender, status])"
   ]
  },
  {
   "cell_type": "code",
   "execution_count": null,
   "metadata": {},
   "outputs": [],
   "source": []
  }
 ],
 "metadata": {
  "kernelspec": {
   "display_name": "Python 3",
   "language": "python",
   "name": "python3"
  },
  "language_info": {
   "codemirror_mode": {
    "name": "ipython",
    "version": 3
   },
   "file_extension": ".py",
   "mimetype": "text/x-python",
   "name": "python",
   "nbconvert_exporter": "python",
   "pygments_lexer": "ipython3",
   "version": "3.7.11"
  }
 },
 "nbformat": 4,
 "nbformat_minor": 4
}
