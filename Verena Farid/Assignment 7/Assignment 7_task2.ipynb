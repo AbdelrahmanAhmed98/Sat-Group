{
 "cells": [
  {
   "cell_type": "code",
   "execution_count": 1,
   "metadata": {},
   "outputs": [],
   "source": [
    "import requests"
   ]
  },
  {
   "cell_type": "code",
   "execution_count": 2,
   "metadata": {},
   "outputs": [
    {
     "data": {
      "text/plain": [
       "b'{\"consolidated_weather\":[{\"id\":6413840028794880,\"weather_state_name\":\"Light Cloud\",\"weather_state_abbr\":\"lc\",\"wind_direction_compass\":\"NNE\",\"created\":\"2021-10-22T13:34:22.553976Z\",\"applicable_date\":\"2021-10-22\",\"min_temp\":17.73,\"max_temp\":29.03,\"the_temp\":26.63,\"wind_speed\":6.915565051480686,\"wind_direction\":19.515010134431613,\"air_pressure\":1020.5,\"humidity\":50,\"visibility\":13.892617116042313,\"predictability\":70},{\"id\":6386775132995584,\"weather_state_name\":\"Clear\",\"weather_state_abbr\":\"c\",\"wind_direction_compass\":\"NNE\",\"created\":\"2021-10-22T13:34:25.580633Z\",\"applicable_date\":\"2021-10-23\",\"min_temp\":18.36,\"max_temp\":29.189999999999998,\"the_temp\":27.075,\"wind_speed\":7.394023889034703,\"wind_direction\":11.499999999999998,\"air_pressure\":1020.0,\"humidity\":49,\"visibility\":12.78409090909091,\"predictability\":68},{\"id\":5922663273857024,\"weather_state_name\":\"Clear\",\"weather_state_abbr\":\"c\",\"wind_direction_compass\":\"NNE\",\"created\":\"2021-10-22T13:34:28.568535Z\",\"applicable_date\":\"2021-10-24\",\"min_temp\":17.175,\"max_temp\":28.66,\"the_temp\":26.375,\"wind_speed\":6.452254700371166,\"wind_direction\":26.49220004016826,\"air_pressure\":1019.0,\"humidity\":49,\"visibility\":13.918404020520162,\"predictability\":68},{\"id\":5359713320435712,\"weather_state_name\":\"Clear\",\"weather_state_abbr\":\"c\",\"wind_direction_compass\":\"NNE\",\"created\":\"2021-10-22T13:34:31.672420Z\",\"applicable_date\":\"2021-10-25\",\"min_temp\":18.305,\"max_temp\":29.485,\"the_temp\":27.28,\"wind_speed\":6.32779499818394,\"wind_direction\":24.999999999999996,\"air_pressure\":1016.0,\"humidity\":53,\"visibility\":13.785119899785254,\"predictability\":68},{\"id\":6670166361374720,\"weather_state_name\":\"Clear\",\"weather_state_abbr\":\"c\",\"wind_direction_compass\":\"NE\",\"created\":\"2021-10-22T13:34:35.155627Z\",\"applicable_date\":\"2021-10-26\",\"min_temp\":18.380000000000003,\"max_temp\":29.985,\"the_temp\":27.935000000000002,\"wind_speed\":7.184275508165645,\"wind_direction\":34.84157804553684,\"air_pressure\":1016.0,\"humidity\":53,\"visibility\":13.816499144993239,\"predictability\":68},{\"id\":6137150157357056,\"weather_state_name\":\"Clear\",\"weather_state_abbr\":\"c\",\"wind_direction_compass\":\"NE\",\"created\":\"2021-10-22T13:34:37.782334Z\",\"applicable_date\":\"2021-10-27\",\"min_temp\":19.049999999999997,\"max_temp\":30.72,\"the_temp\":27.29,\"wind_speed\":7.315676250695935,\"wind_direction\":53.00000000000001,\"air_pressure\":1015.0,\"humidity\":55,\"visibility\":9.999726596675416,\"predictability\":68}],\"time\":\"2021-10-22T18:18:30.088811+02:00\",\"sun_rise\":\"2021-10-22T06:01:37.818644+02:00\",\"sun_set\":\"2021-10-22T17:16:52.337168+02:00\",\"timezone_name\":\"LMT\",\"parent\":{\"title\":\"Egypt\",\"location_type\":\"Country\",\"woeid\":23424802,\"latt_long\":\"26.837090,30.796391\"},\"sources\":[{\"title\":\"BBC\",\"slug\":\"bbc\",\"url\":\"http://www.bbc.co.uk/weather/\",\"crawl_rate\":360},{\"title\":\"Forecast.io\",\"slug\":\"forecast-io\",\"url\":\"http://forecast.io/\",\"crawl_rate\":480},{\"title\":\"HAMweather\",\"slug\":\"hamweather\",\"url\":\"http://www.hamweather.com/\",\"crawl_rate\":360},{\"title\":\"Met Office\",\"slug\":\"met-office\",\"url\":\"http://www.metoffice.gov.uk/\",\"crawl_rate\":180},{\"title\":\"OpenWeatherMap\",\"slug\":\"openweathermap\",\"url\":\"http://openweathermap.org/\",\"crawl_rate\":360},{\"title\":\"Weather Underground\",\"slug\":\"wunderground\",\"url\":\"https://www.wunderground.com/?apiref=fc30dc3cd224e19b\",\"crawl_rate\":720},{\"title\":\"World Weather Online\",\"slug\":\"world-weather-online\",\"url\":\"http://www.worldweatheronline.com/\",\"crawl_rate\":360}],\"title\":\"Cairo\",\"location_type\":\"City\",\"woeid\":1521894,\"latt_long\":\"30.049950,31.248600\",\"timezone\":\"Africa/Cairo\"}'"
      ]
     },
     "execution_count": 2,
     "metadata": {},
     "output_type": "execute_result"
    }
   ],
   "source": [
    "response=requests.get('https://www.metaweather.com/api/location/1521894/')\n",
    "response.content"
   ]
  },
  {
   "cell_type": "code",
   "execution_count": 3,
   "metadata": {},
   "outputs": [
    {
     "data": {
      "text/plain": [
       "{'consolidated_weather': [{'id': 6413840028794880,\n",
       "   'weather_state_name': 'Light Cloud',\n",
       "   'weather_state_abbr': 'lc',\n",
       "   'wind_direction_compass': 'NNE',\n",
       "   'created': '2021-10-22T13:34:22.553976Z',\n",
       "   'applicable_date': '2021-10-22',\n",
       "   'min_temp': 17.73,\n",
       "   'max_temp': 29.03,\n",
       "   'the_temp': 26.63,\n",
       "   'wind_speed': 6.915565051480686,\n",
       "   'wind_direction': 19.515010134431613,\n",
       "   'air_pressure': 1020.5,\n",
       "   'humidity': 50,\n",
       "   'visibility': 13.892617116042313,\n",
       "   'predictability': 70},\n",
       "  {'id': 6386775132995584,\n",
       "   'weather_state_name': 'Clear',\n",
       "   'weather_state_abbr': 'c',\n",
       "   'wind_direction_compass': 'NNE',\n",
       "   'created': '2021-10-22T13:34:25.580633Z',\n",
       "   'applicable_date': '2021-10-23',\n",
       "   'min_temp': 18.36,\n",
       "   'max_temp': 29.189999999999998,\n",
       "   'the_temp': 27.075,\n",
       "   'wind_speed': 7.394023889034703,\n",
       "   'wind_direction': 11.499999999999998,\n",
       "   'air_pressure': 1020.0,\n",
       "   'humidity': 49,\n",
       "   'visibility': 12.78409090909091,\n",
       "   'predictability': 68},\n",
       "  {'id': 5922663273857024,\n",
       "   'weather_state_name': 'Clear',\n",
       "   'weather_state_abbr': 'c',\n",
       "   'wind_direction_compass': 'NNE',\n",
       "   'created': '2021-10-22T13:34:28.568535Z',\n",
       "   'applicable_date': '2021-10-24',\n",
       "   'min_temp': 17.175,\n",
       "   'max_temp': 28.66,\n",
       "   'the_temp': 26.375,\n",
       "   'wind_speed': 6.452254700371166,\n",
       "   'wind_direction': 26.49220004016826,\n",
       "   'air_pressure': 1019.0,\n",
       "   'humidity': 49,\n",
       "   'visibility': 13.918404020520162,\n",
       "   'predictability': 68},\n",
       "  {'id': 5359713320435712,\n",
       "   'weather_state_name': 'Clear',\n",
       "   'weather_state_abbr': 'c',\n",
       "   'wind_direction_compass': 'NNE',\n",
       "   'created': '2021-10-22T13:34:31.672420Z',\n",
       "   'applicable_date': '2021-10-25',\n",
       "   'min_temp': 18.305,\n",
       "   'max_temp': 29.485,\n",
       "   'the_temp': 27.28,\n",
       "   'wind_speed': 6.32779499818394,\n",
       "   'wind_direction': 24.999999999999996,\n",
       "   'air_pressure': 1016.0,\n",
       "   'humidity': 53,\n",
       "   'visibility': 13.785119899785254,\n",
       "   'predictability': 68},\n",
       "  {'id': 6670166361374720,\n",
       "   'weather_state_name': 'Clear',\n",
       "   'weather_state_abbr': 'c',\n",
       "   'wind_direction_compass': 'NE',\n",
       "   'created': '2021-10-22T13:34:35.155627Z',\n",
       "   'applicable_date': '2021-10-26',\n",
       "   'min_temp': 18.380000000000003,\n",
       "   'max_temp': 29.985,\n",
       "   'the_temp': 27.935000000000002,\n",
       "   'wind_speed': 7.184275508165645,\n",
       "   'wind_direction': 34.84157804553684,\n",
       "   'air_pressure': 1016.0,\n",
       "   'humidity': 53,\n",
       "   'visibility': 13.816499144993239,\n",
       "   'predictability': 68},\n",
       "  {'id': 6137150157357056,\n",
       "   'weather_state_name': 'Clear',\n",
       "   'weather_state_abbr': 'c',\n",
       "   'wind_direction_compass': 'NE',\n",
       "   'created': '2021-10-22T13:34:37.782334Z',\n",
       "   'applicable_date': '2021-10-27',\n",
       "   'min_temp': 19.049999999999997,\n",
       "   'max_temp': 30.72,\n",
       "   'the_temp': 27.29,\n",
       "   'wind_speed': 7.315676250695935,\n",
       "   'wind_direction': 53.00000000000001,\n",
       "   'air_pressure': 1015.0,\n",
       "   'humidity': 55,\n",
       "   'visibility': 9.999726596675416,\n",
       "   'predictability': 68}],\n",
       " 'time': '2021-10-22T18:18:30.088811+02:00',\n",
       " 'sun_rise': '2021-10-22T06:01:37.818644+02:00',\n",
       " 'sun_set': '2021-10-22T17:16:52.337168+02:00',\n",
       " 'timezone_name': 'LMT',\n",
       " 'parent': {'title': 'Egypt',\n",
       "  'location_type': 'Country',\n",
       "  'woeid': 23424802,\n",
       "  'latt_long': '26.837090,30.796391'},\n",
       " 'sources': [{'title': 'BBC',\n",
       "   'slug': 'bbc',\n",
       "   'url': 'http://www.bbc.co.uk/weather/',\n",
       "   'crawl_rate': 360},\n",
       "  {'title': 'Forecast.io',\n",
       "   'slug': 'forecast-io',\n",
       "   'url': 'http://forecast.io/',\n",
       "   'crawl_rate': 480},\n",
       "  {'title': 'HAMweather',\n",
       "   'slug': 'hamweather',\n",
       "   'url': 'http://www.hamweather.com/',\n",
       "   'crawl_rate': 360},\n",
       "  {'title': 'Met Office',\n",
       "   'slug': 'met-office',\n",
       "   'url': 'http://www.metoffice.gov.uk/',\n",
       "   'crawl_rate': 180},\n",
       "  {'title': 'OpenWeatherMap',\n",
       "   'slug': 'openweathermap',\n",
       "   'url': 'http://openweathermap.org/',\n",
       "   'crawl_rate': 360},\n",
       "  {'title': 'Weather Underground',\n",
       "   'slug': 'wunderground',\n",
       "   'url': 'https://www.wunderground.com/?apiref=fc30dc3cd224e19b',\n",
       "   'crawl_rate': 720},\n",
       "  {'title': 'World Weather Online',\n",
       "   'slug': 'world-weather-online',\n",
       "   'url': 'http://www.worldweatheronline.com/',\n",
       "   'crawl_rate': 360}],\n",
       " 'title': 'Cairo',\n",
       " 'location_type': 'City',\n",
       " 'woeid': 1521894,\n",
       " 'latt_long': '30.049950,31.248600',\n",
       " 'timezone': 'Africa/Cairo'}"
      ]
     },
     "execution_count": 3,
     "metadata": {},
     "output_type": "execute_result"
    }
   ],
   "source": [
    "#the weather temperature, humidity, visibility, air pressure, wind speed &amp;\n",
    "#datetime\n",
    "data=response.json() \n",
    "data"
   ]
  },
  {
   "cell_type": "code",
   "execution_count": 4,
   "metadata": {},
   "outputs": [
    {
     "data": {
      "text/plain": [
       "[{'id': 6413840028794880,\n",
       "  'weather_state_name': 'Light Cloud',\n",
       "  'weather_state_abbr': 'lc',\n",
       "  'wind_direction_compass': 'NNE',\n",
       "  'created': '2021-10-22T13:34:22.553976Z',\n",
       "  'applicable_date': '2021-10-22',\n",
       "  'min_temp': 17.73,\n",
       "  'max_temp': 29.03,\n",
       "  'the_temp': 26.63,\n",
       "  'wind_speed': 6.915565051480686,\n",
       "  'wind_direction': 19.515010134431613,\n",
       "  'air_pressure': 1020.5,\n",
       "  'humidity': 50,\n",
       "  'visibility': 13.892617116042313,\n",
       "  'predictability': 70},\n",
       " {'id': 6386775132995584,\n",
       "  'weather_state_name': 'Clear',\n",
       "  'weather_state_abbr': 'c',\n",
       "  'wind_direction_compass': 'NNE',\n",
       "  'created': '2021-10-22T13:34:25.580633Z',\n",
       "  'applicable_date': '2021-10-23',\n",
       "  'min_temp': 18.36,\n",
       "  'max_temp': 29.189999999999998,\n",
       "  'the_temp': 27.075,\n",
       "  'wind_speed': 7.394023889034703,\n",
       "  'wind_direction': 11.499999999999998,\n",
       "  'air_pressure': 1020.0,\n",
       "  'humidity': 49,\n",
       "  'visibility': 12.78409090909091,\n",
       "  'predictability': 68},\n",
       " {'id': 5922663273857024,\n",
       "  'weather_state_name': 'Clear',\n",
       "  'weather_state_abbr': 'c',\n",
       "  'wind_direction_compass': 'NNE',\n",
       "  'created': '2021-10-22T13:34:28.568535Z',\n",
       "  'applicable_date': '2021-10-24',\n",
       "  'min_temp': 17.175,\n",
       "  'max_temp': 28.66,\n",
       "  'the_temp': 26.375,\n",
       "  'wind_speed': 6.452254700371166,\n",
       "  'wind_direction': 26.49220004016826,\n",
       "  'air_pressure': 1019.0,\n",
       "  'humidity': 49,\n",
       "  'visibility': 13.918404020520162,\n",
       "  'predictability': 68},\n",
       " {'id': 5359713320435712,\n",
       "  'weather_state_name': 'Clear',\n",
       "  'weather_state_abbr': 'c',\n",
       "  'wind_direction_compass': 'NNE',\n",
       "  'created': '2021-10-22T13:34:31.672420Z',\n",
       "  'applicable_date': '2021-10-25',\n",
       "  'min_temp': 18.305,\n",
       "  'max_temp': 29.485,\n",
       "  'the_temp': 27.28,\n",
       "  'wind_speed': 6.32779499818394,\n",
       "  'wind_direction': 24.999999999999996,\n",
       "  'air_pressure': 1016.0,\n",
       "  'humidity': 53,\n",
       "  'visibility': 13.785119899785254,\n",
       "  'predictability': 68},\n",
       " {'id': 6670166361374720,\n",
       "  'weather_state_name': 'Clear',\n",
       "  'weather_state_abbr': 'c',\n",
       "  'wind_direction_compass': 'NE',\n",
       "  'created': '2021-10-22T13:34:35.155627Z',\n",
       "  'applicable_date': '2021-10-26',\n",
       "  'min_temp': 18.380000000000003,\n",
       "  'max_temp': 29.985,\n",
       "  'the_temp': 27.935000000000002,\n",
       "  'wind_speed': 7.184275508165645,\n",
       "  'wind_direction': 34.84157804553684,\n",
       "  'air_pressure': 1016.0,\n",
       "  'humidity': 53,\n",
       "  'visibility': 13.816499144993239,\n",
       "  'predictability': 68},\n",
       " {'id': 6137150157357056,\n",
       "  'weather_state_name': 'Clear',\n",
       "  'weather_state_abbr': 'c',\n",
       "  'wind_direction_compass': 'NE',\n",
       "  'created': '2021-10-22T13:34:37.782334Z',\n",
       "  'applicable_date': '2021-10-27',\n",
       "  'min_temp': 19.049999999999997,\n",
       "  'max_temp': 30.72,\n",
       "  'the_temp': 27.29,\n",
       "  'wind_speed': 7.315676250695935,\n",
       "  'wind_direction': 53.00000000000001,\n",
       "  'air_pressure': 1015.0,\n",
       "  'humidity': 55,\n",
       "  'visibility': 9.999726596675416,\n",
       "  'predictability': 68}]"
      ]
     },
     "execution_count": 4,
     "metadata": {},
     "output_type": "execute_result"
    }
   ],
   "source": [
    "data['consolidated_weather']"
   ]
  },
  {
   "cell_type": "code",
   "execution_count": 5,
   "metadata": {},
   "outputs": [
    {
     "data": {
      "text/plain": [
       "['consolidated_weather',\n",
       " 'time',\n",
       " 'sun_rise',\n",
       " 'sun_set',\n",
       " 'timezone_name',\n",
       " 'parent',\n",
       " 'sources',\n",
       " 'title',\n",
       " 'location_type',\n",
       " 'woeid',\n",
       " 'latt_long',\n",
       " 'timezone']"
      ]
     },
     "execution_count": 5,
     "metadata": {},
     "output_type": "execute_result"
    }
   ],
   "source": [
    "list(data.keys())"
   ]
  },
  {
   "cell_type": "code",
   "execution_count": 6,
   "metadata": {},
   "outputs": [
    {
     "data": {
      "text/plain": [
       "'2021-10-22T18:18:30.088811+02:00'"
      ]
     },
     "execution_count": 6,
     "metadata": {},
     "output_type": "execute_result"
    }
   ],
   "source": [
    "data['time']"
   ]
  },
  {
   "cell_type": "code",
   "execution_count": 7,
   "metadata": {},
   "outputs": [
    {
     "name": "stdout",
     "output_type": "stream",
     "text": [
      "Temperature: 26.63, Humidity: 50, Visibility: 13.892617116042313, Air_pressure: 1020.5, Wind_speed: 6.915565051480686, Date_time: 2021-10-22T13:34:22.553976Z  \n",
      "Temperature: 27.075, Humidity: 49, Visibility: 12.78409090909091, Air_pressure: 1020.0, Wind_speed: 7.394023889034703, Date_time: 2021-10-22T13:34:25.580633Z  \n",
      "Temperature: 26.375, Humidity: 49, Visibility: 13.918404020520162, Air_pressure: 1019.0, Wind_speed: 6.452254700371166, Date_time: 2021-10-22T13:34:28.568535Z  \n",
      "Temperature: 27.28, Humidity: 53, Visibility: 13.785119899785254, Air_pressure: 1016.0, Wind_speed: 6.32779499818394, Date_time: 2021-10-22T13:34:31.672420Z  \n",
      "Temperature: 27.935000000000002, Humidity: 53, Visibility: 13.816499144993239, Air_pressure: 1016.0, Wind_speed: 7.184275508165645, Date_time: 2021-10-22T13:34:35.155627Z  \n",
      "Temperature: 27.29, Humidity: 55, Visibility: 9.999726596675416, Air_pressure: 1015.0, Wind_speed: 7.315676250695935, Date_time: 2021-10-22T13:34:37.782334Z  \n"
     ]
    }
   ],
   "source": [
    "for id in data['consolidated_weather']:\n",
    "        print(f\"Temperature: {id['the_temp']}, Humidity: {id['humidity']}, Visibility: {id['visibility']}, Air_pressure: {id['air_pressure']}, Wind_speed: {id['wind_speed']}, Date_time: {id['created']}  \")"
   ]
  },
  {
   "cell_type": "code",
   "execution_count": null,
   "metadata": {},
   "outputs": [],
   "source": []
  },
  {
   "cell_type": "code",
   "execution_count": 9,
   "metadata": {},
   "outputs": [],
   "source": [
    "import csv"
   ]
  },
  {
   "cell_type": "code",
   "execution_count": 10,
   "metadata": {},
   "outputs": [],
   "source": [
    "with open('task2.csv', 'a') as f:\n",
    "    writer=csv.writer(f)\n",
    "    writer.writerow(['Temperature', 'Humidity', 'Visibility','Air_pressure','Wind_speed','Date_time'])\n",
    "    for id in data['consolidated_weather']: \n",
    "        Temperature=id['the_temp']\n",
    "        Humidity=id['humidity']\n",
    "        Visibility=id['visibility']\n",
    "        Air_pressure=id['air_pressure']\n",
    "        Wind_speed=id['wind_speed']\n",
    "        Date_time=id['created']\n",
    "        writer.writerow([Temperature,Humidity,Visibility,Air_pressure,Wind_speed,Date_time])"
   ]
  },
  {
   "cell_type": "code",
   "execution_count": null,
   "metadata": {},
   "outputs": [],
   "source": []
  },
  {
   "cell_type": "code",
   "execution_count": null,
   "metadata": {},
   "outputs": [],
   "source": []
  }
 ],
 "metadata": {
  "kernelspec": {
   "display_name": "Python 3",
   "language": "python",
   "name": "python3"
  },
  "language_info": {
   "codemirror_mode": {
    "name": "ipython",
    "version": 3
   },
   "file_extension": ".py",
   "mimetype": "text/x-python",
   "name": "python",
   "nbconvert_exporter": "python",
   "pygments_lexer": "ipython3",
   "version": "3.7.6"
  }
 },
 "nbformat": 4,
 "nbformat_minor": 4
}
