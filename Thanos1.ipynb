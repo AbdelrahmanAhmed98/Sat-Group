import os
import random

def people_of_backup():
    return os.listdir('Project 1 - Thanos/backup')

for i in range(len(people_of_backup())//2):
    people=people_of_backup()
    random_victim=random.choice(people)
    os.remove('Project 1 - Thanos/backup/'+random_victim)
