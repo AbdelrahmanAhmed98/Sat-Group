{
 "cells": [
  {
   "cell_type": "markdown",
   "id": "68d6d9e7",
   "metadata": {},
   "source": [
    "### EXCHANGE RATE SCRAPE"
   ]
  },
  {
   "cell_type": "code",
   "execution_count": 1,
   "id": "d18fbcf6",
   "metadata": {},
   "outputs": [
    {
     "data": {
      "text/plain": [
       "'1 USD = 15.706 EGP'"
      ]
     },
     "execution_count": 1,
     "metadata": {},
     "output_type": "execute_result"
    }
   ],
   "source": [
    "from bs4 import BeautifulSoup\n",
    "import requests\n",
    "response=requests.get('https://www.exchangerates.org.uk/Dollars-to-Egyptian-Pounds-currency-conversion-page.html')\n",
    "response.text\n",
    "soup=BeautifulSoup(response.text,'html.parser')\n",
    "soup.find('table').find('tr').get_text()"
   ]
  },
  {
   "cell_type": "markdown",
   "id": "fb23de1d",
   "metadata": {},
   "source": [
    "### USD TO EGP"
   ]
  },
  {
   "cell_type": "code",
   "execution_count": 2,
   "id": "970abc1a",
   "metadata": {},
   "outputs": [
    {
     "name": "stdout",
     "output_type": "stream",
     "text": [
      "Enter the amount of dollars you want to exchange:25\n",
      "EGP exchange:392.65\n"
     ]
    }
   ],
   "source": [
    "from bs4 import BeautifulSoup\n",
    "import requests\n",
    "response=requests.get('https://www.exchangerates.org.uk/Dollars-to-Egyptian-Pounds-currency-conversion-page.html')\n",
    "response.text\n",
    "soup=BeautifulSoup(response.text,'html.parser')\n",
    "soup.find('table').find('tr').get_text().split(' ')[3]\n",
    "usd_amount=float(input('Enter the amount of dollars you want to exchange:'))\n",
    "egp_amount=usd_amount*float(soup.find('table').find('tr').get_text().split(' ')[3])\n",
    "print(f'EGP exchange:{egp_amount}')"
   ]
  },
  {
   "cell_type": "code",
   "execution_count": null,
   "id": "0bbe43fd",
   "metadata": {},
   "outputs": [],
   "source": []
  }
 ],
 "metadata": {
  "kernelspec": {
   "display_name": "Python 3 (ipykernel)",
   "language": "python",
   "name": "python3"
  },
  "language_info": {
   "codemirror_mode": {
    "name": "ipython",
    "version": 3
   },
   "file_extension": ".py",
   "mimetype": "text/x-python",
   "name": "python",
   "nbconvert_exporter": "python",
   "pygments_lexer": "ipython3",
   "version": "3.8.8"
  }
 },
 "nbformat": 4,
 "nbformat_minor": 5
}
