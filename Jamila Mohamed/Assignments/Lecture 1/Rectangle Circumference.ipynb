{
 "cells": [
  {
   "cell_type": "code",
   "execution_count": 1,
   "id": "bdcd1d16",
   "metadata": {},
   "outputs": [
    {
     "name": "stdout",
     "output_type": "stream",
     "text": [
      "Enter the length:6\n"
     ]
    }
   ],
   "source": [
    "l=float(input(\"Enter the length:\"))"
   ]
  },
  {
   "cell_type": "code",
   "execution_count": 2,
   "id": "2b567584",
   "metadata": {},
   "outputs": [
    {
     "name": "stdout",
     "output_type": "stream",
     "text": [
      "Enter the width:4\n"
     ]
    }
   ],
   "source": [
    "w=float(input(\"Enter the width:\"))"
   ]
  },
  {
   "cell_type": "code",
   "execution_count": 3,
   "id": "048b9239",
   "metadata": {},
   "outputs": [],
   "source": [
    "circumference=2*(l+w)"
   ]
  },
  {
   "cell_type": "code",
   "execution_count": 4,
   "id": "bff56356",
   "metadata": {},
   "outputs": [
    {
     "name": "stdout",
     "output_type": "stream",
     "text": [
      "20.0\n"
     ]
    }
   ],
   "source": [
    "print(circumference)"
   ]
  },
  {
   "cell_type": "code",
   "execution_count": null,
   "id": "d67f62b8",
   "metadata": {},
   "outputs": [],
   "source": []
  }
 ],
 "metadata": {
  "kernelspec": {
   "display_name": "Python 3 (ipykernel)",
   "language": "python",
   "name": "python3"
  },
  "language_info": {
   "codemirror_mode": {
    "name": "ipython",
    "version": 3
   },
   "file_extension": ".py",
   "mimetype": "text/x-python",
   "name": "python",
   "nbconvert_exporter": "python",
   "pygments_lexer": "ipython3",
   "version": "3.8.8"
  }
 },
 "nbformat": 4,
 "nbformat_minor": 5
}
