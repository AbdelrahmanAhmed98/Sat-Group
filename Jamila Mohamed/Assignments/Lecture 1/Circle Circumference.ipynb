{
 "cells": [
  {
   "cell_type": "code",
   "execution_count": 1,
   "id": "b02fd5f7",
   "metadata": {},
   "outputs": [
    {
     "name": "stdout",
     "output_type": "stream",
     "text": [
      "Enter the radius:5\n"
     ]
    }
   ],
   "source": [
    "radius=float(input(\"Enter the radius:\"))"
   ]
  },
  {
   "cell_type": "code",
   "execution_count": 2,
   "id": "34c2e22d",
   "metadata": {},
   "outputs": [],
   "source": [
    "p=22/7"
   ]
  },
  {
   "cell_type": "code",
   "execution_count": 3,
   "id": "c0eb7ea2",
   "metadata": {},
   "outputs": [],
   "source": [
    "circumference=2*p*radius"
   ]
  },
  {
   "cell_type": "code",
   "execution_count": 4,
   "id": "d076c91b",
   "metadata": {},
   "outputs": [
    {
     "name": "stdout",
     "output_type": "stream",
     "text": [
      "31.428571428571427\n"
     ]
    }
   ],
   "source": [
    "print(circumference)"
   ]
  },
  {
   "cell_type": "code",
   "execution_count": null,
   "id": "d66be822",
   "metadata": {},
   "outputs": [],
   "source": []
  }
 ],
 "metadata": {
  "kernelspec": {
   "display_name": "Python 3 (ipykernel)",
   "language": "python",
   "name": "python3"
  },
  "language_info": {
   "codemirror_mode": {
    "name": "ipython",
    "version": 3
   },
   "file_extension": ".py",
   "mimetype": "text/x-python",
   "name": "python",
   "nbconvert_exporter": "python",
   "pygments_lexer": "ipython3",
   "version": "3.8.8"
  }
 },
 "nbformat": 4,
 "nbformat_minor": 5
}
