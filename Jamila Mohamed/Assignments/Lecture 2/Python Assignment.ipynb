{
 "cells": [
  {
   "cell_type": "markdown",
   "id": "c158553e",
   "metadata": {
    "id": "c158553e"
   },
   "source": [
    "## Numbers\n",
    "\n",
    "Answer these 3 questions without typing code. Then type code to check your answer.\n",
    "\n",
    "    What is the value of the expression 4 * (6 + 5)\n",
    "    \n",
    "    What is the value of the expression 4 * 6 + 5 \n",
    "    \n",
    "    What is the value of the expression 4 + 6 * 5 "
   ]
  },
  {
   "cell_type": "code",
   "execution_count": 1,
   "id": "49d4f60a",
   "metadata": {
    "id": "49d4f60a"
   },
   "outputs": [
    {
     "data": {
      "text/plain": [
       "44"
      ]
     },
     "execution_count": 1,
     "metadata": {},
     "output_type": "execute_result"
    }
   ],
   "source": [
    "x=6+5\n",
    "x=4*x\n",
    "x\n",
    "#4*(6+5)=44"
   ]
  },
  {
   "cell_type": "code",
   "execution_count": 2,
   "id": "9e97f23b",
   "metadata": {
    "id": "9e97f23b"
   },
   "outputs": [
    {
     "data": {
      "text/plain": [
       "29"
      ]
     },
     "execution_count": 2,
     "metadata": {},
     "output_type": "execute_result"
    }
   ],
   "source": [
    "y=4*6\n",
    "y=y+5\n",
    "y\n",
    "#4*6+5=29"
   ]
  },
  {
   "cell_type": "code",
   "execution_count": 3,
   "id": "5afb8e73",
   "metadata": {},
   "outputs": [
    {
     "data": {
      "text/plain": [
       "34"
      ]
     },
     "execution_count": 3,
     "metadata": {},
     "output_type": "execute_result"
    }
   ],
   "source": [
    "z=6*5\n",
    "z=4+z\n",
    "z\n",
    "#4+6*5=34"
   ]
  },
  {
   "cell_type": "markdown",
   "id": "f3913404",
   "metadata": {
    "id": "f3913404"
   },
   "source": [
    "What would you use to find the 5 square ? "
   ]
  },
  {
   "cell_type": "code",
   "execution_count": 4,
   "id": "74bbcfb6",
   "metadata": {},
   "outputs": [
    {
     "data": {
      "text/plain": [
       "25"
      ]
     },
     "execution_count": 4,
     "metadata": {},
     "output_type": "execute_result"
    }
   ],
   "source": [
    "5**2"
   ]
  },
  {
   "cell_type": "markdown",
   "id": "7e261c0b",
   "metadata": {
    "id": "7e261c0b"
   },
   "source": [
    "## Strings\n",
    "Given the string 'hello' give an index command that returns 'e'. Enter your code in the cell below:"
   ]
  },
  {
   "cell_type": "code",
   "execution_count": 5,
   "id": "0f0eaa1d",
   "metadata": {
    "id": "0f0eaa1d"
   },
   "outputs": [
    {
     "data": {
      "text/plain": [
       "'e'"
      ]
     },
     "execution_count": 5,
     "metadata": {},
     "output_type": "execute_result"
    }
   ],
   "source": [
    "s = 'hello'\n",
    "# Print out 'e' using indexing\n",
    "\n",
    "s[1]\n"
   ]
  },
  {
   "cell_type": "markdown",
   "id": "bd51f7eb",
   "metadata": {
    "id": "bd51f7eb"
   },
   "source": [
    "Reverse the string 'hello' using slicing:"
   ]
  },
  {
   "cell_type": "code",
   "execution_count": 6,
   "id": "45b88f1f",
   "metadata": {
    "id": "45b88f1f"
   },
   "outputs": [
    {
     "data": {
      "text/plain": [
       "'olleh'"
      ]
     },
     "execution_count": 6,
     "metadata": {},
     "output_type": "execute_result"
    }
   ],
   "source": [
    "s ='hello'\n",
    "# Reverse the string using slicing\n",
    "\n",
    "s[::-1]\n"
   ]
  },
  {
   "cell_type": "markdown",
   "id": "04553c74",
   "metadata": {
    "id": "04553c74"
   },
   "source": [
    "Given the string hello, give two methods of producing the letter 'o' using indexing."
   ]
  },
  {
   "cell_type": "code",
   "execution_count": 7,
   "id": "e8ebd5bf",
   "metadata": {
    "id": "e8ebd5bf"
   },
   "outputs": [
    {
     "data": {
      "text/plain": [
       "'o'"
      ]
     },
     "execution_count": 7,
     "metadata": {},
     "output_type": "execute_result"
    }
   ],
   "source": [
    "s ='hello'\n",
    "# Print out the 'o'\n",
    "\n",
    "# Method 1:\n",
    "s[4]\n"
   ]
  },
  {
   "cell_type": "code",
   "execution_count": 8,
   "id": "69a509e4",
   "metadata": {
    "id": "69a509e4"
   },
   "outputs": [
    {
     "data": {
      "text/plain": [
       "'o'"
      ]
     },
     "execution_count": 8,
     "metadata": {},
     "output_type": "execute_result"
    }
   ],
   "source": [
    "\n",
    "# Method 2:\n",
    "s[-1]\n"
   ]
  },
  {
   "cell_type": "markdown",
   "id": "0e6478a3",
   "metadata": {
    "id": "0e6478a3"
   },
   "source": [
    "## List\n",
    "Reassign 'hello' in this list to say 'goodbye' instead:"
   ]
  },
  {
   "cell_type": "code",
   "execution_count": 9,
   "id": "9b92c164",
   "metadata": {
    "colab": {
     "base_uri": "https://localhost:8080/"
    },
    "executionInfo": {
     "elapsed": 582,
     "status": "ok",
     "timestamp": 1631952901561,
     "user": {
      "displayName": "Mohamed Gamal",
      "photoUrl": "https://lh3.googleusercontent.com/a-/AOh14GhIqTUM92Wj0vDc5J_uU_RcSBB6cw22WugIM8Gy9w=s64",
      "userId": "09632020874518135982"
     },
     "user_tz": -120
    },
    "id": "9b92c164",
    "outputId": "43e55950-1af1-4c58-9b1c-3f698079fbef"
   },
   "outputs": [
    {
     "data": {
      "text/plain": [
       "[2, 44.6, 'goodbye']"
      ]
     },
     "execution_count": 9,
     "metadata": {},
     "output_type": "execute_result"
    }
   ],
   "source": [
    "List0=[2,44.6,\"Hello\"]\n",
    "\n",
    "List0[2]='goodbye'\n",
    "List0"
   ]
  },
  {
   "cell_type": "markdown",
   "id": "e965d70c",
   "metadata": {
    "id": "e965d70c"
   },
   "source": [
    "Sort the list below:"
   ]
  },
  {
   "cell_type": "code",
   "execution_count": 10,
   "id": "4990b26a",
   "metadata": {
    "id": "4990b26a"
   },
   "outputs": [
    {
     "name": "stdout",
     "output_type": "stream",
     "text": [
      "[1, 3, 4, 5, 6]\n"
     ]
    }
   ],
   "source": [
    "list1 = [5,3,4,6,1]\n",
    "\n",
    "list1.sort()\n",
    "print(list1)"
   ]
  },
  {
   "cell_type": "code",
   "execution_count": 11,
   "id": "72d86cb5",
   "metadata": {},
   "outputs": [
    {
     "name": "stdout",
     "output_type": "stream",
     "text": [
      "[6, 5, 4, 3, 1]\n"
     ]
    }
   ],
   "source": [
    "list1.sort(reverse=True)\n",
    "print(list1)"
   ]
  },
  {
   "cell_type": "code",
   "execution_count": null,
   "id": "2ff61d36",
   "metadata": {},
   "outputs": [],
   "source": []
  }
 ],
 "metadata": {
  "colab": {
   "name": "Python Assignment.ipynb",
   "provenance": []
  },
  "kernelspec": {
   "display_name": "Python 3 (ipykernel)",
   "language": "python",
   "name": "python3"
  },
  "language_info": {
   "codemirror_mode": {
    "name": "ipython",
    "version": 3
   },
   "file_extension": ".py",
   "mimetype": "text/x-python",
   "name": "python",
   "nbconvert_exporter": "python",
   "pygments_lexer": "ipython3",
   "version": "3.8.8"
  }
 },
 "nbformat": 4,
 "nbformat_minor": 5
}
