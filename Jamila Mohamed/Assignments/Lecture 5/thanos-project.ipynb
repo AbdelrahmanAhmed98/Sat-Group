{
 "cells": [
  {
   "cell_type": "markdown",
   "id": "31dcb893",
   "metadata": {},
   "source": [
    "## THANOS"
   ]
  },
  {
   "cell_type": "code",
   "execution_count": 1,
   "id": "d28e5be5",
   "metadata": {},
   "outputs": [
    {
     "name": "stdout",
     "output_type": "stream",
     "text": [
      "['cover001.png', 'cover002.png', 'cover003.png', 'cover004.png', 'cover005.png', 'cover006.png', 'cover007.png', 'cover008.png', 'cover009.png', 'cover010.png', 'cover011.png', 'cover012.png', 'cover013.png', 'cover014.png', 'cover015.png', 'cover016.png', 'cover017.png', 'cover018.png', 'cover019.png', 'cover020.png', 'cover021.png', 'cover022.png', 'cover023.png', 'cover024.png', 'cover025.png', 'cover026.png', 'cover027.png', 'cover028.png', 'cover029.png', 'cover030.png', 'cover031.png', 'cover032.png', 'cover033.png', 'cover034.png', 'cover035.png', 'cover036.png', 'cover037.png', 'cover038.png', 'cover039.png', 'cover040.png', 'cover041.png', 'cover042.png', 'cover043.png', 'cover044.png', 'cover045.png', 'cover046.png', 'cover047.png', 'cover048.png', 'cover049.png', 'cover050.png']\n",
      "------------------------------------\n",
      "['cover002.png', 'cover004.png', 'cover011.png', 'cover012.png', 'cover013.png', 'cover015.png', 'cover016.png', 'cover018.png', 'cover021.png', 'cover024.png', 'cover026.png', 'cover028.png', 'cover031.png', 'cover032.png', 'cover033.png', 'cover034.png', 'cover036.png', 'cover038.png', 'cover040.png', 'cover041.png', 'cover042.png', 'cover043.png', 'cover044.png', 'cover045.png', 'cover049.png']\n"
     ]
    }
   ],
   "source": [
    "import os\n",
    "import random\n",
    "def photos_of_backup():\n",
    "    return os.listdir('gamila mohamed/lecture5-github Assignment/backup/')\n",
    "print(photos_of_backup())\n",
    "print('------------------------------------')\n",
    "\n",
    "for i in range(len(photos_of_backup())//2):\n",
    "    os.remove('gamila mohamed/lecture5-github Assignment/backup/' + random.choice(photos_of_backup()))\n",
    "print(photos_of_backup())"
   ]
  },
  {
   "cell_type": "code",
   "execution_count": null,
   "id": "cda40c5c",
   "metadata": {},
   "outputs": [],
   "source": []
  }
 ],
 "metadata": {
  "kernelspec": {
   "display_name": "Python 3",
   "language": "python",
   "name": "python3"
  },
  "language_info": {
   "codemirror_mode": {
    "name": "ipython",
    "version": 3
   },
   "file_extension": ".py",
   "mimetype": "text/x-python",
   "name": "python",
   "nbconvert_exporter": "python",
   "pygments_lexer": "ipython3",
   "version": "3.8.8"
  }
 },
 "nbformat": 4,
 "nbformat_minor": 5
}
