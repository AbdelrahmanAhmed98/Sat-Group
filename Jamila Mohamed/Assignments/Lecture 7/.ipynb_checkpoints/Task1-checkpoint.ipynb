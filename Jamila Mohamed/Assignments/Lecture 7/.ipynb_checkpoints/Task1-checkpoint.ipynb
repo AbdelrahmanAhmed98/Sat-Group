{
 "cells": [
  {
   "cell_type": "markdown",
   "id": "7d610b56",
   "metadata": {},
   "source": [
    "### EXCHANGE RATE SCRAPE"
   ]
  },
  {
   "cell_type": "code",
   "execution_count": 1,
   "id": "5bd768df",
   "metadata": {},
   "outputs": [
    {
     "data": {
      "text/plain": [
       "{'amount': 1.0, 'base': 'USD', 'date': '2021-10-26', 'rates': {'EUR': 0.86073}}"
      ]
     },
     "execution_count": 1,
     "metadata": {},
     "output_type": "execute_result"
    }
   ],
   "source": [
    "import requests\n",
    "response=requests.request('GET','https://api.frankfurter.app/latest?amount=1&from=USD&to=EUR')\n",
    "exchange_data=response.json()\n",
    "exchange_data"
   ]
  },
  {
   "cell_type": "markdown",
   "id": "425ba98e",
   "metadata": {},
   "source": [
    "### USD TO EUR"
   ]
  },
  {
   "cell_type": "code",
   "execution_count": 2,
   "id": "b2dd9e46",
   "metadata": {},
   "outputs": [
    {
     "name": "stdout",
     "output_type": "stream",
     "text": [
      "Enter the amount you want to transfer in USD:10\n",
      "Amount in EUR:8.6073\n"
     ]
    }
   ],
   "source": [
    "amount_in_USD=float(input('Enter the amount you want to transfer in USD:'))\n",
    "exchange_in_EUR=amount_in_USD*float(exchange_data['rates']['EUR'])\n",
    "print(f'Amount in EUR:{exchange_in_EUR}')"
   ]
  },
  {
   "cell_type": "code",
   "execution_count": null,
   "id": "2d773e8b",
   "metadata": {},
   "outputs": [],
   "source": []
  }
 ],
 "metadata": {
  "kernelspec": {
   "display_name": "Python 3 (ipykernel)",
   "language": "python",
   "name": "python3"
  },
  "language_info": {
   "codemirror_mode": {
    "name": "ipython",
    "version": 3
   },
   "file_extension": ".py",
   "mimetype": "text/x-python",
   "name": "python",
   "nbconvert_exporter": "python",
   "pygments_lexer": "ipython3",
   "version": "3.8.8"
  }
 },
 "nbformat": 4,
 "nbformat_minor": 5
}
