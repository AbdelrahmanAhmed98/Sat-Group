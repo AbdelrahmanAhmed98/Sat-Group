{
 "cells": [
  {
   "cell_type": "code",
   "execution_count": 2,
   "id": "2b7b36eb",
   "metadata": {},
   "outputs": [],
   "source": [
    "import pandas as pd\n",
    "from bs4 import BeautifulSoup\n",
    "import requests\n",
    "import sqlite3"
   ]
  },
  {
   "cell_type": "markdown",
   "id": "22e34d7d",
   "metadata": {},
   "source": [
    "## Inserting data into categories table"
   ]
  },
  {
   "cell_type": "code",
   "execution_count": 18,
   "id": "28c42a96",
   "metadata": {},
   "outputs": [],
   "source": [
    "connection=sqlite3.connect('books.db')\n",
    "for category in soup.find('ul',attrs={'class':''}).find_all('a'):\n",
    "    category_name=category.get_text().strip()\n",
    "    sql='insert into categories (categoryName) values(?)'\n",
    "    value=[category_name]\n",
    "    cursor=connection.execute(sql,value)\n",
    "    connection.commit()\n",
    "connection.close()"
   ]
  },
  {
   "cell_type": "markdown",
   "id": "b158cb30",
   "metadata": {},
   "source": [
    "## inserting data into books table"
   ]
  },
  {
   "cell_type": "code",
   "execution_count": 3,
   "id": "a1c358a5",
   "metadata": {},
   "outputs": [],
   "source": [
    "rate={'One':1,'Two':2,'Three':3,'Four':4,'Five':5}\n",
    "connection=sqlite3.connect('books.db')\n",
    "url='https://books.toscrape.com/index.html'\n",
    "response=requests.get(url)\n",
    "soup=BeautifulSoup(response.text,'html.parser')\n",
    "categoryId=0\n",
    "for category in soup.find('ul',attrs={'class':''}).find_all('a'):\n",
    "        domain='https://books.toscrape.com/'\n",
    "        url_category=str(domain+category.get('href'))\n",
    "        response=requests.get(url_category)\n",
    "        soup=BeautifulSoup(response.text,'html.parser')\n",
    "        categoryId+=1\n",
    "        while True:\n",
    "            for book in soup.find_all('article',attrs={'class':'product_pod'}):\n",
    "                rating=rate[book.find('p').get('class')[1]]\n",
    "                book_name=book.find('h3').find('a').get('title')\n",
    "                price=float(book.find('p',attrs={'class':'price_color'}).get_text()[2:])\n",
    "                sql='insert into books (bookName,price,rate,categoryId) values (?,?,?,?)'\n",
    "                values=[book_name,price,rating,categoryId]\n",
    "                cursor=connection.execute(sql,values)\n",
    "                connection.commit()\n",
    "            if soup.find('li',attrs={'class':'next'}) != None:\n",
    "                next_url=url_category[:url_category.rfind('/')+1]+soup.find('li',attrs={'class':'next'}).find('a').get('href')\n",
    "                response=requests.get(next_url)\n",
    "                soup=BeautifulSoup(response.text,'html.parser')\n",
    "            else:\n",
    "                break\n",
    "        \n",
    "connection.close()"
   ]
  }
 ],
 "metadata": {
  "kernelspec": {
   "display_name": "Python 3",
   "language": "python",
   "name": "python3"
  },
  "language_info": {
   "codemirror_mode": {
    "name": "ipython",
    "version": 3
   },
   "file_extension": ".py",
   "mimetype": "text/x-python",
   "name": "python",
   "nbconvert_exporter": "python",
   "pygments_lexer": "ipython3",
   "version": "3.8.8"
  }
 },
 "nbformat": 4,
 "nbformat_minor": 5
}
