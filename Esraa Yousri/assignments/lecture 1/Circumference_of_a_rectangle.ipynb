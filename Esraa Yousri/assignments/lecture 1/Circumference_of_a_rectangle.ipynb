{
 "cells": [
  {
   "cell_type": "markdown",
   "metadata": {},
   "source": [
    "# Circumference of a rectangle"
   ]
  },
  {
   "cell_type": "code",
   "execution_count": 2,
   "metadata": {},
   "outputs": [
    {
     "name": "stdout",
     "output_type": "stream",
     "text": [
      "Please enter the length of the rectangle: 2\n",
      "Please enter the width of the rectangle: 3\n"
     ]
    }
   ],
   "source": [
    "length=float(input(\"Please enter the length of the rectangle: \"))\n",
    "width=float(input(\"Please enter the width of the rectangle: \"))"
   ]
  },
  {
   "cell_type": "code",
   "execution_count": 4,
   "metadata": {},
   "outputs": [
    {
     "name": "stdout",
     "output_type": "stream",
     "text": [
      "Cicumference of the rectangle is 10.0\n"
     ]
    }
   ],
   "source": [
    "print(\"Cicumference of the rectangle is \"+str(2*(length+width)))"
   ]
  }
 ],
 "metadata": {
  "kernelspec": {
   "display_name": "Python 3",
   "language": "python",
   "name": "python3"
  },
  "language_info": {
   "codemirror_mode": {
    "name": "ipython",
    "version": 3
   },
   "file_extension": ".py",
   "mimetype": "text/x-python",
   "name": "python",
   "nbconvert_exporter": "python",
   "pygments_lexer": "ipython3",
   "version": "3.7.6"
  }
 },
 "nbformat": 4,
 "nbformat_minor": 4
}
