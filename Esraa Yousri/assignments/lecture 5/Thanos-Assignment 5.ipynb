{
 "cells": [
  {
   "cell_type": "code",
   "execution_count": 1,
   "id": "6f15d475",
   "metadata": {},
   "outputs": [
    {
     "data": {
      "text/plain": [
       "['cover001.png',\n",
       " 'cover002.png',\n",
       " 'cover006.png',\n",
       " 'cover007.png',\n",
       " 'cover008.png',\n",
       " 'cover009.png',\n",
       " 'cover013.png',\n",
       " 'cover015.png',\n",
       " 'cover016.png',\n",
       " 'cover018.png',\n",
       " 'cover021.png',\n",
       " 'cover024.png',\n",
       " 'cover026.png',\n",
       " 'cover027.png',\n",
       " 'cover029.png',\n",
       " 'cover032.png',\n",
       " 'cover033.png',\n",
       " 'cover034.png',\n",
       " 'cover035.png',\n",
       " 'cover037.png',\n",
       " 'cover038.png',\n",
       " 'cover043.png',\n",
       " 'cover045.png',\n",
       " 'cover047.png',\n",
       " 'cover050.png']"
      ]
     },
     "execution_count": 1,
     "metadata": {},
     "output_type": "execute_result"
    }
   ],
   "source": [
    "import os\n",
    "import random\n",
    "\n",
    "def people_of_universe():\n",
    "    return os.listdir('thanos/universe')\n",
    "people =people_of_universe()\n",
    "\n",
    "for i in range(len(people)//2):\n",
    "    people=people_of_universe()\n",
    "    os.remove('thanos/universe/'+random.choice(people))\n",
    "\n",
    "os.listdir('thanos/universe')"
   ]
  },
  {
   "cell_type": "code",
   "execution_count": null,
   "id": "ea700b22",
   "metadata": {},
   "outputs": [],
   "source": []
  }
 ],
 "metadata": {
  "kernelspec": {
   "display_name": "Python 3",
   "language": "python",
   "name": "python3"
  },
  "language_info": {
   "codemirror_mode": {
    "name": "ipython",
    "version": 3
   },
   "file_extension": ".py",
   "mimetype": "text/x-python",
   "name": "python",
   "nbconvert_exporter": "python",
   "pygments_lexer": "ipython3",
   "version": "3.8.8"
  }
 },
 "nbformat": 4,
 "nbformat_minor": 5
}
