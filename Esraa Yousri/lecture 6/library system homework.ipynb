{
 "cells": [
  {
   "cell_type": "code",
   "execution_count": 1,
   "id": "1f32b06d",
   "metadata": {},
   "outputs": [],
   "source": [
    "class Library:\n",
    "    def __init__(self,books):\n",
    "        self.books=books\n",
    "    def display(self):\n",
    "        for i in self.books:\n",
    "            print(i)\n",
    "    def lend(self,book):\n",
    "        if book in self.books:\n",
    "            self.books.remove(book)\n",
    "            print('Okay')\n",
    "        else:\n",
    "            print('Not available')\n",
    "    def add(self,book):\n",
    "        self.books.append(book)\n",
    "class Student:\n",
    "    def borrow(self,book):\n",
    "        return book\n",
    "    def return_book(self,book):\n",
    "        return book"
   ]
  },
  {
   "cell_type": "code",
   "execution_count": 2,
   "id": "6410e594",
   "metadata": {},
   "outputs": [],
   "source": [
    "lib=Library(['harry Potter','Mistborn','Hunger Games','Alice in wonderland'])"
   ]
  },
  {
   "cell_type": "code",
   "execution_count": 3,
   "id": "cf54f6c3",
   "metadata": {},
   "outputs": [
    {
     "name": "stdout",
     "output_type": "stream",
     "text": [
      "harry Potter\n",
      "Mistborn\n",
      "Hunger Games\n",
      "Alice in wonderland\n"
     ]
    }
   ],
   "source": [
    "lib.display()"
   ]
  },
  {
   "cell_type": "code",
   "execution_count": 4,
   "id": "45577b3c",
   "metadata": {},
   "outputs": [],
   "source": [
    "studen1=Student()"
   ]
  },
  {
   "cell_type": "code",
   "execution_count": 5,
   "id": "b0374e39",
   "metadata": {},
   "outputs": [
    {
     "name": "stdout",
     "output_type": "stream",
     "text": [
      "Not available\n"
     ]
    }
   ],
   "source": [
    "lib.lend(studen1.borrow(\"1984\"))"
   ]
  },
  {
   "cell_type": "code",
   "execution_count": 6,
   "id": "b0e8578b",
   "metadata": {},
   "outputs": [
    {
     "name": "stdout",
     "output_type": "stream",
     "text": [
      "Okay\n"
     ]
    }
   ],
   "source": [
    "lib.lend(studen1.borrow(\"Alice in wonderland\"))"
   ]
  },
  {
   "cell_type": "code",
   "execution_count": 7,
   "id": "8329c71d",
   "metadata": {},
   "outputs": [
    {
     "name": "stdout",
     "output_type": "stream",
     "text": [
      "harry Potter\n",
      "Mistborn\n",
      "Hunger Games\n"
     ]
    }
   ],
   "source": [
    "lib.display()"
   ]
  },
  {
   "cell_type": "code",
   "execution_count": 8,
   "id": "975b363f",
   "metadata": {},
   "outputs": [],
   "source": [
    "lib.add(studen1.return_book(\"Alice in wonderland\"))"
   ]
  },
  {
   "cell_type": "code",
   "execution_count": 9,
   "id": "37539dc7",
   "metadata": {},
   "outputs": [
    {
     "name": "stdout",
     "output_type": "stream",
     "text": [
      "harry Potter\n",
      "Mistborn\n",
      "Hunger Games\n",
      "Alice in wonderland\n"
     ]
    }
   ],
   "source": [
    "lib.display()"
   ]
  },
  {
   "cell_type": "code",
   "execution_count": 11,
   "id": "0448c2e5",
   "metadata": {},
   "outputs": [
    {
     "name": "stdout",
     "output_type": "stream",
     "text": [
      " --Choose from the options--\n",
      "1-display books \n",
      "2-borrow a book \n",
      "3- return a book \n",
      "4- exit\n",
      "\n",
      "2\n",
      "Enter book name: Mistborn\n",
      "Not available\n",
      "\n",
      "\n",
      "\n",
      " --Choose from the options--\n",
      "1-display books \n",
      "2-borrow a book \n",
      "3- return a book \n",
      "4- exit\n",
      "\n",
      "3\n",
      "Enter book name: Mistborn\n",
      "\n",
      "\n",
      "\n",
      " --Choose from the options--\n",
      "1-display books \n",
      "2-borrow a book \n",
      "3- return a book \n",
      "4- exit\n",
      "\n",
      "1\n",
      "harry Potter\n",
      "Hunger Games\n",
      "Alice in wonderland\n",
      "Mistborn\n",
      "\n",
      "\n",
      "\n",
      " --Choose from the options--\n",
      "1-display books \n",
      "2-borrow a book \n",
      "3- return a book \n",
      "4- exit\n",
      "\n",
      "4\n"
     ]
    }
   ],
   "source": [
    "while 1:\n",
    "    print(\" --Choose from the options--\\n1-display books \\n2-borrow a book \\n3- return a book \\n4- exit\\n\")\n",
    "    choice=int(input())\n",
    "    if choice==1:\n",
    "        lib.display()\n",
    "        print(\"\\n\\n\")\n",
    "    elif choice==2:\n",
    "        book=input(\"Enter book name: \")\n",
    "        lib.lend(studen1.borrow(book))\n",
    "        print(\"\\n\\n\")\n",
    "    elif choice==3:\n",
    "        book=input(\"Enter book name: \")\n",
    "        lib.add(studen1.return_book(book))\n",
    "        print(\"\\n\\n\")\n",
    "    elif choice==4:\n",
    "        break"
   ]
  },
  {
   "cell_type": "code",
   "execution_count": null,
   "id": "72a90c4e",
   "metadata": {},
   "outputs": [],
   "source": []
  }
 ],
 "metadata": {
  "kernelspec": {
   "display_name": "Python 3",
   "language": "python",
   "name": "python3"
  },
  "language_info": {
   "codemirror_mode": {
    "name": "ipython",
    "version": 3
   },
   "file_extension": ".py",
   "mimetype": "text/x-python",
   "name": "python",
   "nbconvert_exporter": "python",
   "pygments_lexer": "ipython3",
   "version": "3.8.8"
  }
 },
 "nbformat": 4,
 "nbformat_minor": 5
}
