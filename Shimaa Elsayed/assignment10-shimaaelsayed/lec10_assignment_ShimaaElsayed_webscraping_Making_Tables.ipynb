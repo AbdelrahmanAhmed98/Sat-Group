{
 "cells": [
  {
   "cell_type": "markdown",
   "id": "4d534780",
   "metadata": {},
   "source": [
    "# Making Tables"
   ]
  },
  {
   "cell_type": "code",
   "execution_count": 41,
   "id": "104bdae8",
   "metadata": {},
   "outputs": [
    {
     "name": "stdout",
     "output_type": "stream",
     "text": [
      "--- 102.74026370048523 seconds ---\n"
     ]
    }
   ],
   "source": [
    "import requests\n",
    "from bs4 import BeautifulSoup\n",
    "import csv\n",
    "import pandas as pd\n",
    "import numpy as np\n",
    "from datetime import datetime\n",
    "import time\n",
    "start_time = time.time()\n",
    "\n",
    "url='https://books.toscrape.com'\n",
    "response=requests.get(url)\n",
    "soup=BeautifulSoup(response.text,'html.parser')\n",
    "\n",
    "#getting a list of references and a list of categories\n",
    "\n",
    "\n",
    "\n",
    "rating_dic={'One':1,'Two':2,'Three':3,'Four':4,'Five':5}\n",
    "\n",
    "listofcateg=soup.find('ul',attrs={'class':'nav nav-list'})\n",
    "\n",
    "id1=0\n",
    "id2=0\n",
    "# making the first table:\n",
    "        \n",
    "with open('book_price_rate.csv','w',newline='', encoding='utf-8') as f:\n",
    "    writer=csv.writer(f)\n",
    "    writer.writerow(['id','Book Title','Price','Rate'])\n",
    "        \n",
    "    \n",
    "    for categ_ref_li in listofcateg.find('ul').find_all('li'):\n",
    "        categ_name=(categ_ref_li.find('a').get_text().strip()) \n",
    "        \n",
    "        \n",
    "        categ_ref=('https://books.toscrape.com/'+(categ_ref_li.find('a').get('href')))\n",
    "        response_categ=requests.get(categ_ref)\n",
    "        soup_categ=BeautifulSoup(response_categ.text,'html.parser')\n",
    "\n",
    "\n",
    "\n",
    "    \n",
    "        for book in soup_categ.find_all('article',attrs={'class':'product_pod'}):\n",
    "            book_name=book.find('h3').find('a').get('title')\n",
    "            rate=rating_dic[book.find('p').get('class')[1]]\n",
    "            price=float(book.find('div',attrs={'class':'product_price'}).find('p',attrs={'class':'price_color'}).get_text()[2:])\n",
    "            writer.writerow([id1,book_name,price,rate])\n",
    "            id1=id1+1\n",
    "        \n",
    "\n",
    "# making the second table:\n",
    "\n",
    "with open('book_categ.csv','w',newline='', encoding='utf-8') as f:\n",
    "    writer=csv.writer(f)\n",
    "    writer.writerow(['id','BookTitle','Category'])\n",
    "    \n",
    "    for categ_ref_li in listofcateg.find('ul').find_all('li'):\n",
    "        categ_name=(categ_ref_li.find('a').get_text().strip()) \n",
    "        \n",
    "        \n",
    "        categ_ref=('https://books.toscrape.com/'+(categ_ref_li.find('a').get('href')))\n",
    "        response_categ=requests.get(categ_ref)\n",
    "        soup_categ=BeautifulSoup(response_categ.text,'html.parser')\n",
    "\n",
    "\n",
    "\n",
    "        for book_num in soup_categ.find_all('article',attrs={'class':'product_pod'}):\n",
    "            bookname=(book_num.find('h3').find('a').get('title'))\n",
    "            writer.writerow([id2,bookname,categ_name])\n",
    "            id2=id2+1\n",
    "        \n",
    "        \n",
    "\n",
    "print(\"--- %s seconds ---\" % (time.time() - start_time))\n",
    "\n",
    "\n",
    "        \n",
    "    \n",
    "    \n",
    "\n"
   ]
  },
  {
   "cell_type": "code",
   "execution_count": 39,
   "id": "85805e94",
   "metadata": {},
   "outputs": [],
   "source": []
  }
 ],
 "metadata": {
  "kernelspec": {
   "display_name": "Python 3",
   "language": "python",
   "name": "python3"
  },
  "language_info": {
   "codemirror_mode": {
    "name": "ipython",
    "version": 3
   },
   "file_extension": ".py",
   "mimetype": "text/x-python",
   "name": "python",
   "nbconvert_exporter": "python",
   "pygments_lexer": "ipython3",
   "version": "3.8.8"
  }
 },
 "nbformat": 4,
 "nbformat_minor": 5
}
