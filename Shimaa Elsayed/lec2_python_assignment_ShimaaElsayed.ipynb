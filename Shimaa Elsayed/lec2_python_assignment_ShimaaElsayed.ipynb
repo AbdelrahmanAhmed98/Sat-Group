{
 "cells": [
  {
   "cell_type": "markdown",
   "id": "c158553e",
   "metadata": {},
   "source": [
    "## Numbers\n",
    "\n",
    "Answer these 3 questions without typing code. Then type code to check your answer.\n",
    "\n",
    "    What is the value of the expression 4 * (6 + 5)= 44\n",
    "    \n",
    "    What is the value of the expression 4 * 6 + 5 =29 \n",
    "    \n",
    "    What is the value of the expression 4 + 6 * 5 =34"
   ]
  },
  {
   "cell_type": "code",
   "execution_count": 2,
   "id": "49d4f60a",
   "metadata": {},
   "outputs": [
    {
     "name": "stdout",
     "output_type": "stream",
     "text": [
      "expression 1=  44\n",
      "expression 2=  29\n",
      "expression 3=  34\n"
     ]
    }
   ],
   "source": [
    "print (\"expression 1= \",4*(6+5))\n",
    "print (\"expression 2= \",4*6+5)\n",
    "print (\"expression 3= \",4+6*5)"
   ]
  },
  {
   "cell_type": "code",
   "execution_count": null,
   "id": "9e97f23b",
   "metadata": {},
   "outputs": [],
   "source": []
  },
  {
   "cell_type": "markdown",
   "id": "f3913404",
   "metadata": {},
   "source": [
    "What would you use to find the 5 square ? "
   ]
  },
  {
   "cell_type": "code",
   "execution_count": 3,
   "id": "1ddc4334",
   "metadata": {},
   "outputs": [
    {
     "name": "stdout",
     "output_type": "stream",
     "text": [
      "5^2 =  25\n"
     ]
    }
   ],
   "source": [
    "print (\"5^2 = \",5**2)"
   ]
  },
  {
   "cell_type": "code",
   "execution_count": null,
   "id": "4a800444",
   "metadata": {},
   "outputs": [],
   "source": []
  },
  {
   "cell_type": "markdown",
   "id": "7e261c0b",
   "metadata": {},
   "source": [
    "## Strings\n",
    "Given the string 'hello' give an index command that returns 'e'. Enter your code in the cell below:"
   ]
  },
  {
   "cell_type": "code",
   "execution_count": 4,
   "id": "0f0eaa1d",
   "metadata": {},
   "outputs": [
    {
     "data": {
      "text/plain": [
       "'e'"
      ]
     },
     "execution_count": 4,
     "metadata": {},
     "output_type": "execute_result"
    }
   ],
   "source": [
    "s = 'hello'\n",
    "# Print out 'e' using indexing\n",
    "\n",
    "s[1]\n"
   ]
  },
  {
   "cell_type": "markdown",
   "id": "bd51f7eb",
   "metadata": {},
   "source": [
    "Reverse the string 'hello' using slicing:"
   ]
  },
  {
   "cell_type": "code",
   "execution_count": 6,
   "id": "45b88f1f",
   "metadata": {},
   "outputs": [
    {
     "data": {
      "text/plain": [
       "'olleh'"
      ]
     },
     "execution_count": 6,
     "metadata": {},
     "output_type": "execute_result"
    }
   ],
   "source": [
    "s ='hello'\n",
    "# Reverse the string using slicing\n",
    "\n",
    "s[::-1]\n"
   ]
  },
  {
   "cell_type": "markdown",
   "id": "04553c74",
   "metadata": {},
   "source": [
    "Given the string hello, give two methods of producing the letter 'o' using indexing."
   ]
  },
  {
   "cell_type": "code",
   "execution_count": 8,
   "id": "e8ebd5bf",
   "metadata": {},
   "outputs": [
    {
     "data": {
      "text/plain": [
       "'o'"
      ]
     },
     "execution_count": 8,
     "metadata": {},
     "output_type": "execute_result"
    }
   ],
   "source": [
    "s ='hello'\n",
    "# Print out the 'o'\n",
    "\n",
    "# Method 1:\n",
    "s[4]\n"
   ]
  },
  {
   "cell_type": "code",
   "execution_count": 9,
   "id": "69a509e4",
   "metadata": {},
   "outputs": [
    {
     "data": {
      "text/plain": [
       "'o'"
      ]
     },
     "execution_count": 9,
     "metadata": {},
     "output_type": "execute_result"
    }
   ],
   "source": [
    "\n",
    "# Method 2:\n",
    "s[-1]\n"
   ]
  },
  {
   "cell_type": "markdown",
   "id": "0e6478a3",
   "metadata": {},
   "source": [
    "## List\n",
    "Reassign 'hello' in this list to say 'goodbye' instead:"
   ]
  },
  {
   "cell_type": "code",
   "execution_count": 15,
   "id": "9b92c164",
   "metadata": {},
   "outputs": [
    {
     "name": "stdout",
     "output_type": "stream",
     "text": [
      "List0 with goodbye:  [2, 44.6, 'goodbye']\n"
     ]
    }
   ],
   "source": [
    "List0=[2,44.6,\"Hello\"]\n",
    "List0[2]=\"goodbye\"\n",
    "print(\"List0 with goodbye: \",List0)\n"
   ]
  },
  {
   "cell_type": "markdown",
   "id": "e965d70c",
   "metadata": {},
   "source": [
    "Sort the list below:"
   ]
  },
  {
   "cell_type": "code",
   "execution_count": 14,
   "id": "4990b26a",
   "metadata": {},
   "outputs": [
    {
     "name": "stdout",
     "output_type": "stream",
     "text": [
      "list1 sorted is:  [1, 3, 4, 5, 6]\n"
     ]
    }
   ],
   "source": [
    "list1 = [5,3,4,6,1]\n",
    "list1.sort()\n",
    "print(\"list1 sorted is: \",list1)\n",
    "\n",
    "\n"
   ]
  }
 ],
 "metadata": {
  "kernelspec": {
   "display_name": "Python 3",
   "language": "python",
   "name": "python3"
  },
  "language_info": {
   "codemirror_mode": {
    "name": "ipython",
    "version": 3
   },
   "file_extension": ".py",
   "mimetype": "text/x-python",
   "name": "python",
   "nbconvert_exporter": "python",
   "pygments_lexer": "ipython3",
   "version": "3.8.8"
  }
 },
 "nbformat": 4,
 "nbformat_minor": 5
}
