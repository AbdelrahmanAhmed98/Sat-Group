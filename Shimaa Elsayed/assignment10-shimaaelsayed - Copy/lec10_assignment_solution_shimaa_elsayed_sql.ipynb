{
 "cells": [
  {
   "cell_type": "code",
   "execution_count": 21,
   "id": "26e938a1",
   "metadata": {
    "scrolled": true
   },
   "outputs": [
    {
     "name": "stdout",
     "output_type": "stream",
     "text": [
      "Data Doesnt exist\n"
     ]
    }
   ],
   "source": [
    "import sqlite3\n",
    "\n",
    "#01) Write a sql query to get books that has rate >=3 and has 'Mr' in its name\n",
    "connection=sqlite3.connect('lec10_booktables_shimaaelsayed.db')\n",
    "rows=connection.execute(\"select * from booktitle_price_rate where rate >=3 and booktitle like '%Mr%'\").fetchall()\n",
    "connection.close()\n",
    "if rows==[]:\n",
    "    print('Data Doesnt exist')\n",
    "else:    \n",
    "    for book,price,rate  in rows :\n",
    "        print(f'book name: {book} its price: {price} and rate:{rate} ')"
   ]
  },
  {
   "cell_type": "code",
   "execution_count": 23,
   "id": "6f26c1aa",
   "metadata": {},
   "outputs": [
    {
     "name": "stdout",
     "output_type": "stream",
     "text": [
      "book name: A Light in the Attic its price: 51.77 and rate:3 \n",
      "book name: Sharp Objects its price: 47.82 and rate:4 \n",
      "book name: Sapiens: A Brief History of Humankind its price: 54.23 and rate:5 \n",
      "book name: The Dirty Little Secrets of Getting Your Dream Job its price: 33.34 and rate:4 \n",
      "book name: The Boys in the Boat: Nine Americans and Their Epic Quest for Gold at the 1936 Berlin Olympics its price: 22.6 and rate:4 \n",
      "book name: Shakespeare's Sonnets its price: 20.66 and rate:4 \n",
      "book name: Scott Pilgrim's Precious Little Life (Scott Pilgrim #1) its price: 52.29 and rate:5 \n",
      "book name: Rip it Up and Start Again its price: 35.02 and rate:5 \n",
      "book name: Our Band Could Be Your Life: Scenes from the American Indie Underground, 1981-1991 its price: 57.25 and rate:3 \n"
     ]
    }
   ],
   "source": [
    "#02) Write a sql query to get books that has rate >=3 or price > 20\n",
    "connection=sqlite3.connect('lec10_booktables_shimaaelsayed.db')\n",
    "rows=connection.execute(\"select * from booktitle_price_rate where rate >=3 and price>20\").fetchall()\n",
    "connection.close()\n",
    "if rows==[]:\n",
    "    print('Data Doesnt exist')\n",
    "else:    \n",
    "    for book,price,rate  in rows :\n",
    "        print(f'book name: {book} its price: {price} and rate:{rate} ')"
   ]
  },
  {
   "cell_type": "code",
   "execution_count": 25,
   "id": "892a9234",
   "metadata": {},
   "outputs": [
    {
     "name": "stdout",
     "output_type": "stream",
     "text": [
      "book name: Tipping the Velvet its price: 53.74 and rate:1 \n",
      "book name: Soumission its price: 50.1 and rate:1 \n",
      "book name: Sharp Objects its price: 47.82 and rate:4 \n",
      "book name: Sapiens: A Brief History of Humankind its price: 54.23 and rate:5 \n",
      "book name: The Requiem Red its price: 22.65 and rate:1 \n",
      "book name: The Dirty Little Secrets of Getting Your Dream Job its price: 33.34 and rate:4 \n",
      "book name: The Boys in the Boat: Nine Americans and Their Epic Quest for Gold at the 1936 Berlin Olympics its price: 22.6 and rate:4 \n",
      "book name: The Black Maria its price: 52.15 and rate:1 \n",
      "book name: Starving Hearts (Triangular Trade Trilogy, #1) its price: 13.99 and rate:2 \n",
      "book name: Shakespeare's Sonnets its price: 20.66 and rate:4 \n",
      "book name: Set Me Free its price: 17.46 and rate:5 \n",
      "book name: Scott Pilgrim's Precious Little Life (Scott Pilgrim #1) its price: 52.29 and rate:5 \n",
      "book name: Rip it Up and Start Again its price: 35.02 and rate:5 \n",
      "book name: Olio its price: 23.88 and rate:1 \n",
      "book name: Mesaerion: The Best Science Fiction Stories 1800-1849 its price: 37.59 and rate:1 \n",
      "book name: Libertarianism for Beginners its price: 51.33 and rate:2 \n",
      "book name: It's Only the Himalayas its price: 45.17 and rate:2 \n"
     ]
    }
   ],
   "source": [
    "#03) Write a sql query to get books that has rate not 3\n",
    "\n",
    "connection=sqlite3.connect('lec10_booktables_shimaaelsayed.db')\n",
    "rows=connection.execute(\"select * from booktitle_price_rate where rate !=3 \").fetchall()\n",
    "connection.close()\n",
    "if rows==[]:\n",
    "    print('Data Doesnt exist')\n",
    "else:    \n",
    "    for book,price,rate  in rows :\n",
    "        print(f'book name: {book} its price: {price} and rate:{rate} ')"
   ]
  },
  {
   "cell_type": "code",
   "execution_count": 27,
   "id": "fa860c59",
   "metadata": {},
   "outputs": [
    {
     "name": "stdout",
     "output_type": "stream",
     "text": [
      "book name: The Coming Woman: A Novel Based on the Life of the Infamous Feminist, Victoria Woodhull its price: 17.93 and rate:3 \n"
     ]
    }
   ],
   "source": [
    "#04) Write a sql query to get books that has price between 10 and 40 and has rate 3 or 4 or 1\n",
    "connection=sqlite3.connect('lec10_booktables_shimaaelsayed.db')\n",
    "rows=connection.execute(\"select * from booktitle_price_rate where rate in (1,3,4) and price between 10 and 20\").fetchall()\n",
    "connection.close()\n",
    "if rows==[]:\n",
    "    print('Data Doesnt exist')\n",
    "else:    \n",
    "    for book,price,rate  in rows :\n",
    "        print(f'book name: {book} its price: {price} and rate:{rate} ')"
   ]
  },
  {
   "cell_type": "code",
   "execution_count": 29,
   "id": "bba2add3",
   "metadata": {},
   "outputs": [
    {
     "name": "stdout",
     "output_type": "stream",
     "text": [
      "book name: Our Band Could Be Your Life: Scenes from the American Indie Underground, 1981-1991 its price: 57.25 and rate:3 \n",
      "book name: Sapiens: A Brief History of Humankind its price: 54.23 and rate:5 \n",
      "book name: Tipping the Velvet its price: 53.74 and rate:1 \n",
      "book name: Scott Pilgrim's Precious Little Life (Scott Pilgrim #1) its price: 52.29 and rate:5 \n",
      "book name: The Black Maria its price: 52.15 and rate:1 \n"
     ]
    }
   ],
   "source": [
    "#05) Write a sql query to get the top 5 most expensive books \n",
    "#(order books desc with price column and then limit the result to the first 5).\n",
    "\n",
    "connection=sqlite3.connect('lec10_booktables_shimaaelsayed.db')\n",
    "rows=connection.execute(\"select * from booktitle_price_rate order by price desc limit 5\").fetchall()\n",
    "connection.close()\n",
    "if rows==[]:\n",
    "    print('Data Doesnt exist')\n",
    "else:    \n",
    "    for book,price,rate  in rows :\n",
    "        print(f'book name: {book} its price: {price} and rate:{rate} ')\n",
    "\n",
    "\n",
    "\n"
   ]
  },
  {
   "cell_type": "code",
   "execution_count": 35,
   "id": "7615cfc0",
   "metadata": {},
   "outputs": [
    {
     "name": "stdout",
     "output_type": "stream",
     "text": [
      "book name: Scott Pilgrim's Precious Little Life (Scott Pilgrim #1) its price: 52.29 and rate:5 \n",
      "book name: Sapiens: A Brief History of Humankind its price: 54.23 and rate:5 \n",
      "book name: Shakespeare's Sonnets its price: 20.66 and rate:4 \n",
      "book name: The Boys in the Boat: Nine Americans and Their Epic Quest for Gold at the 1936 Berlin Olympics its price: 22.6 and rate:4 \n",
      "book name: The Dirty Little Secrets of Getting Your Dream Job its price: 33.34 and rate:4 \n",
      "book name: Sharp Objects its price: 47.82 and rate:4 \n",
      "book name: The Coming Woman: A Novel Based on the Life of the Infamous Feminist, Victoria Woodhull its price: 17.93 and rate:3 \n",
      "book name: A Light in the Attic its price: 51.77 and rate:3 \n",
      "book name: Our Band Could Be Your Life: Scenes from the American Indie Underground, 1981-1991 its price: 57.25 and rate:3 \n",
      "book name: Starving Hearts (Triangular Trade Trilogy, #1) its price: 13.99 and rate:2 \n"
     ]
    }
   ],
   "source": [
    "#06) Write a sql query to get the 3rd 10 books in the books table order first by rate desc and then by price asc\n",
    "\n",
    "connection=sqlite3.connect('lec10_booktables_shimaaelsayed.db')\n",
    "rows=connection.execute(\"select * from booktitle_price_rate order by rate desc , price asc limit 10 offset 2\").fetchall()\n",
    "connection.close()\n",
    "if rows==[]:\n",
    "    print('Data Doesnt exist')\n",
    "else:    \n",
    "    for book,price,rate  in rows :\n",
    "        print(f'book name: {book} its price: {price} and rate:{rate} ')"
   ]
  },
  {
   "cell_type": "code",
   "execution_count": 50,
   "id": "09bde3a7",
   "metadata": {},
   "outputs": [],
   "source": [
    "#07) Write a sql query to add a new category in categories table and add 5 books to this category\n",
    "#in books table with title, rate and price\n",
    "\n",
    "connection=sqlite3.connect('lec10_booktables_shimaaelsayed.db')\n",
    "\n",
    "cur = connection.cursor()\n",
    "# Insert data\n",
    "\n",
    "cur.execute(\"INSERT INTO booktitle_price_rate VALUES ('book1',1,1)\")\n",
    "cur.execute(\"INSERT INTO booktitle_price_rate VALUES ('book2',2,2)\")\n",
    "cur.execute(\"INSERT INTO booktitle_price_rate VALUES ('book3',3,3)\")\n",
    "cur.execute(\"INSERT INTO booktitle_price_rate VALUES ('book4',4,4)\")\n",
    "cur.execute(\"INSERT INTO booktitle_price_rate VALUES ('book5',5,5)\")\n",
    "\n",
    "\n",
    "# Save (commit) the changes\n",
    "connection.commit()\n",
    "\n",
    "connection.close()\n",
    "\n"
   ]
  },
  {
   "cell_type": "code",
   "execution_count": 54,
   "id": "7d4e6764",
   "metadata": {},
   "outputs": [
    {
     "name": "stdout",
     "output_type": "stream",
     "text": [
      "book name: A Light in the Attic its price: 51.77 and rate:3 \n",
      "book name: Tipping the Velvet its price: 53.74 and rate:1 \n",
      "book name: Soumission its price: 50.1 and rate:1 \n",
      "book name: Sharp Objects its price: 47.82 and rate:4 \n",
      "book name: Sapiens: A Brief History of Humankind its price: 54.23 and rate:5 \n",
      "book name: The Requiem Red its price: 22.65 and rate:1 \n",
      "book name: The Dirty Little Secrets of Getting Your Dream Job its price: 33.34 and rate:4 \n",
      "book name: The Coming Woman: A Novel Based on the Life of the Infamous Feminist, Victoria Woodhull its price: 17.93 and rate:3 \n",
      "book name: The Boys in the Boat: Nine Americans and Their Epic Quest for Gold at the 1936 Berlin Olympics its price: 22.6 and rate:4 \n",
      "book name: The Black Maria its price: 52.15 and rate:1 \n",
      "book name: Starving Hearts (Triangular Trade Trilogy, #1) its price: 13.99 and rate:3 \n",
      "book name: Shakespeare's Sonnets its price: 20.66 and rate:4 \n",
      "book name: Set Me Free its price: 17.46 and rate:3 \n",
      "book name: Scott Pilgrim's Precious Little Life (Scott Pilgrim #1) its price: 52.29 and rate:5 \n",
      "book name: Rip it Up and Start Again its price: 35.02 and rate:5 \n",
      "book name: Our Band Could Be Your Life: Scenes from the American Indie Underground, 1981-1991 its price: 57.25 and rate:3 \n",
      "book name: Olio its price: 23.88 and rate:1 \n",
      "book name: Mesaerion: The Best Science Fiction Stories 1800-1849 its price: 37.59 and rate:1 \n",
      "book name: Libertarianism for Beginners its price: 51.33 and rate:2 \n",
      "book name: It's Only the Himalayas its price: 45.17 and rate:2 \n",
      "book name: book1 its price: 1.0 and rate:3 \n",
      "book name: book2 its price: 2.0 and rate:3 \n",
      "book name: book3 its price: 3.0 and rate:3 \n",
      "book name: book4 its price: 4.0 and rate:3 \n",
      "book name: book5 its price: 5.0 and rate:3 \n"
     ]
    }
   ],
   "source": [
    "#checking if executed\n",
    "connection=sqlite3.connect('lec10_booktables_shimaaelsayed.db')\n",
    "rows=connection.execute(\"select * from booktitle_price_rate\").fetchall()\n",
    "connection.close()\n",
    "if rows==[]:\n",
    "    print('Data Doesnt exist')\n",
    "else:    \n",
    "    for book,price,rate  in rows :\n",
    "        print(f'book name: {book} its price: {price} and rate:{rate} ')"
   ]
  },
  {
   "cell_type": "code",
   "execution_count": 51,
   "id": "5c39e986",
   "metadata": {},
   "outputs": [],
   "source": [
    "#08) Write a sql query to update book's rate to 3 that thier price < 20£\n",
    "\n",
    "\n",
    "connection=sqlite3.connect('lec10_booktables_shimaaelsayed.db')\n",
    "\n",
    "cur = connection.cursor()\n",
    "# Insert data\n",
    "\n",
    "cur.execute(\"update booktitle_price_rate set rate=3 where price<20\")\n",
    "\n",
    "\n",
    "\n",
    "# Save (commit) the changes\n",
    "connection.commit()\n",
    "\n",
    "connection.close()\n"
   ]
  },
  {
   "cell_type": "code",
   "execution_count": 53,
   "id": "5e71a620",
   "metadata": {},
   "outputs": [
    {
     "name": "stdout",
     "output_type": "stream",
     "text": [
      "book name: The Coming Woman: A Novel Based on the Life of the Infamous Feminist, Victoria Woodhull its price: 17.93 and rate:3 \n",
      "book name: Starving Hearts (Triangular Trade Trilogy, #1) its price: 13.99 and rate:3 \n",
      "book name: Set Me Free its price: 17.46 and rate:3 \n",
      "book name: book1 its price: 1.0 and rate:3 \n",
      "book name: book2 its price: 2.0 and rate:3 \n",
      "book name: book3 its price: 3.0 and rate:3 \n",
      "book name: book4 its price: 4.0 and rate:3 \n",
      "book name: book5 its price: 5.0 and rate:3 \n"
     ]
    }
   ],
   "source": [
    "#checking if executed\n",
    "connection=sqlite3.connect('lec10_booktables_shimaaelsayed.db')\n",
    "rows=connection.execute(\"select * from booktitle_price_rate where price<20\").fetchall()\n",
    "connection.close()\n",
    "if rows==[]:\n",
    "    print('Data Doesnt exist')\n",
    "else:    \n",
    "    for book,price,rate  in rows :\n",
    "        print(f'book name: {book} its price: {price} and rate:{rate} ')"
   ]
  },
  {
   "cell_type": "code",
   "execution_count": 56,
   "id": "609d9cae",
   "metadata": {},
   "outputs": [],
   "source": [
    "#09) Write a sql query to delete all books that have price > 50£ and has rate <= 2.\n",
    "\n",
    "\n",
    "connection=sqlite3.connect('lec10_booktables_shimaaelsayed.db')\n",
    "\n",
    "cur = connection.cursor()\n",
    "# Insert data\n",
    "\n",
    "cur.execute(\"delete from booktitle_price_rate where price>50 and rate <=2 \")\n",
    "\n",
    "\n",
    "\n",
    "# Save (commit) the changes\n",
    "connection.commit()\n",
    "\n",
    "connection.close()\n",
    "\n"
   ]
  },
  {
   "cell_type": "code",
   "execution_count": 58,
   "id": "a79bc5fd",
   "metadata": {},
   "outputs": [
    {
     "name": "stdout",
     "output_type": "stream",
     "text": [
      "Data Doesnt exist\n"
     ]
    }
   ],
   "source": [
    "#checking if executed\n",
    "connection=sqlite3.connect('lec10_booktables_shimaaelsayed.db')\n",
    "rows=connection.execute(\"select * from booktitle_price_rate where price>50 and rate<=2\").fetchall()\n",
    "connection.close()\n",
    "if rows==[]:\n",
    "    print('Data Doesnt exist')\n",
    "else:    \n",
    "    for book,price,rate  in rows :\n",
    "        print(f'book name: {book} its price: {price} and rate:{rate} ')"
   ]
  },
  {
   "cell_type": "code",
   "execution_count": 77,
   "id": "dfb74ac2",
   "metadata": {},
   "outputs": [
    {
     "name": "stdout",
     "output_type": "stream",
     "text": [
      "the number of books that have 'Secret' in thier names and price between 10£ and 25£ is:  0\n"
     ]
    }
   ],
   "source": [
    "#10) Write a sql query to count the number of books that have 'Secret' in thier names and price\n",
    "#between 10£ and 25£.\n",
    "\n",
    "connection=sqlite3.connect('lec10_booktables_shimaaelsayed.db')\n",
    "rows=connection.execute(\"select count(BookTitle) from booktitle_price_rate where BookTitle like '%Secret%' and price between 10 and 25\").fetchall()\n",
    "connection.close()\n",
    "if rows==[]:\n",
    "    print('Data Doesnt exist')\n",
    "else:    \n",
    "    print(\"the number of books that have 'Secret' in thier names and price between 10£ and 25£ is: \",rows[0][0])"
   ]
  },
  {
   "cell_type": "code",
   "execution_count": 74,
   "id": "381798ca",
   "metadata": {},
   "outputs": [
    {
     "name": "stdout",
     "output_type": "stream",
     "text": [
      "the minimum price of rate=5 :  35.02\n",
      "the maximum price of rate=5 :  54.23\n"
     ]
    }
   ],
   "source": [
    "#11) Write a sql query to get the minimum & maximum price for all the books that have rate 5.\n",
    "\n",
    "connection=sqlite3.connect('lec10_booktables_shimaaelsayed.db')\n",
    "rows=connection.execute(\"select min(price) from booktitle_price_rate  where rate=5 \").fetchall()\n",
    "connection.close()\n",
    "if rows==[]:\n",
    "    print('Data Doesnt exist')\n",
    "else:    \n",
    "    print(\"the minimum price of rate=5 : \",rows[0][0])\n",
    "connection=sqlite3.connect('booktitle_price_rate.db')\n",
    "rows=connection.execute(\"select max(price) from booktitle_price_rate where rate=5 \").fetchall()\n",
    "connection.close()\n",
    "if rows==[]:\n",
    "    print('Data Doesnt exist')\n",
    "else:    \n",
    "    print(\"the maximum price of rate=5 : \",rows[0][0])"
   ]
  },
  {
   "cell_type": "code",
   "execution_count": 78,
   "id": "8a107188",
   "metadata": {},
   "outputs": [
    {
     "name": "stdout",
     "output_type": "stream",
     "text": [
      "the avg price for all the books that have rate 5 :  47.18\n"
     ]
    }
   ],
   "source": [
    "#12) Write a sql query to calculate the avg price for all the books that have rate 5.\n",
    "\n",
    "connection=sqlite3.connect('lec10_booktables_shimaaelsayed.db')\n",
    "rows=connection.execute(\"select avg(price) from booktitle_price_rate where rate=5 \").fetchall()\n",
    "connection.close()\n",
    "\n",
    "if rows==[]:\n",
    "    print('Data Doesnt exist')\n",
    "else:    \n",
    "    print(\"the avg price for all the books that have rate 5 : \",rows[0][0])"
   ]
  },
  {
   "cell_type": "code",
   "execution_count": 81,
   "id": "bba2e02e",
   "metadata": {},
   "outputs": [
    {
     "name": "stdout",
     "output_type": "stream",
     "text": [
      "the sum of all book's price that have rate 2 and price between 10 and 40:  None\n"
     ]
    }
   ],
   "source": [
    "#13) Write a sql query to sum all book's price that have rate 2 and price between 10 and 40\n",
    "\n",
    "connection=sqlite3.connect('lec10_booktables_shimaaelsayed.db')\n",
    "rows=connection.execute(\"select sum(price) from booktitle_price_rate where rate=2 and price between 10 and 40 \").fetchall()\n",
    "connection.close()\n",
    "\n",
    "if rows==[]:\n",
    "    print('Data Doesnt exist')\n",
    "else:    \n",
    "    print(\"the sum of all book's price that have rate 2 and price between 10 and 40: \",rows[0][0])"
   ]
  },
  {
   "cell_type": "code",
   "execution_count": 3,
   "id": "272dc9c2",
   "metadata": {},
   "outputs": [
    {
     "ename": "OperationalError",
     "evalue": "RIGHT and FULL OUTER JOINs are not currently supported",
     "output_type": "error",
     "traceback": [
      "\u001b[1;31m---------------------------------------------------------------------------\u001b[0m",
      "\u001b[1;31mOperationalError\u001b[0m                          Traceback (most recent call last)",
      "\u001b[1;32m<ipython-input-3-58d1e5904561>\u001b[0m in \u001b[0;36m<module>\u001b[1;34m\u001b[0m\n\u001b[0;32m      3\u001b[0m \u001b[1;32mimport\u001b[0m \u001b[0msqlite3\u001b[0m\u001b[1;33m\u001b[0m\u001b[1;33m\u001b[0m\u001b[0m\n\u001b[0;32m      4\u001b[0m \u001b[0mconnection\u001b[0m\u001b[1;33m=\u001b[0m\u001b[0msqlite3\u001b[0m\u001b[1;33m.\u001b[0m\u001b[0mconnect\u001b[0m\u001b[1;33m(\u001b[0m\u001b[1;34m'booktables.db'\u001b[0m\u001b[1;33m)\u001b[0m\u001b[1;33m\u001b[0m\u001b[1;33m\u001b[0m\u001b[0m\n\u001b[1;32m----> 5\u001b[1;33m \u001b[0mrows\u001b[0m\u001b[1;33m=\u001b[0m\u001b[0mconnection\u001b[0m\u001b[1;33m.\u001b[0m\u001b[0mexecute\u001b[0m\u001b[1;33m(\u001b[0m\u001b[1;34m\"SELECT booktitle_price_rate.BookTitle, booktitle_price_rate.price, booktitle_price_rate.rate, categories_and_books.BookTitle, categories_and_books.Category FROM booktitle_price_rate FULL OUTER JOIN categories_and_books ON booktitle_price_rate.BookTitle=categories_and_books.BookTitle \"\u001b[0m\u001b[1;33m)\u001b[0m\u001b[1;33m.\u001b[0m\u001b[0mfetchall\u001b[0m\u001b[1;33m(\u001b[0m\u001b[1;33m)\u001b[0m\u001b[1;33m\u001b[0m\u001b[1;33m\u001b[0m\u001b[0m\n\u001b[0m\u001b[0;32m      6\u001b[0m \u001b[0mconnection\u001b[0m\u001b[1;33m.\u001b[0m\u001b[0mclose\u001b[0m\u001b[1;33m(\u001b[0m\u001b[1;33m)\u001b[0m\u001b[1;33m\u001b[0m\u001b[1;33m\u001b[0m\u001b[0m\n\u001b[0;32m      7\u001b[0m \u001b[1;33m\u001b[0m\u001b[0m\n",
      "\u001b[1;31mOperationalError\u001b[0m: RIGHT and FULL OUTER JOINs are not currently supported"
     ]
    }
   ],
   "source": [
    "# 14) Write a sql query to join both books & categories table into one new table containing\n",
    "#book_name & category_name & book_rate and book_price\n",
    "import sqlite3\n",
    "connection=sqlite3.connect('lec10_booktables_shimaaelsayed.db')\n",
    "rows=connection.execute(\"SELECT booktitle_price_rate.BookTitle, booktitle_price_rate.price, booktitle_price_rate.rate, categories_and_books.BookTitle, categories_and_books.Category FROM booktitle_price_rate FULL OUTER JOIN categories_and_books ON booktitle_price_rate.BookTitle=categories_and_books.BookTitle \").fetchall()\n",
    "connection.close()\n",
    "\n",
    "if rows==[]:\n",
    "    print('Data Doesnt exist')\n",
    "else:    \n",
    "    print(\"the sum of all book's price that have rate 2 and price between 10 and 40: \",rows[0][0])"
   ]
  },
  {
   "cell_type": "code",
   "execution_count": 22,
   "id": "76597ef1",
   "metadata": {},
   "outputs": [
    {
     "name": "stdout",
     "output_type": "stream",
     "text": [
      "rate: 1 its count: 2 \n",
      "rate: 4 its count: 2 \n"
     ]
    }
   ],
   "source": [
    "#15) Write a sql query to calculate how many books each rate has and have price between 20£ and 30£\n",
    "\n",
    "\n",
    "connection=sqlite3.connect('lec10_booktables_shimaaelsayed.db')\n",
    "rows=connection.execute(\"select rate, count(BookTitle) from booktitle_price_rate where price between 20 and 30 group by rate\").fetchall()\n",
    "connection.close()\n",
    "\n",
    "if rows==[]:\n",
    "    print('Data Doesnt exist')\n",
    "else:    \n",
    "    for rate,count in rows :\n",
    "        print(f'rate: {rate} its count: {count} ')"
   ]
  },
  {
   "cell_type": "code",
   "execution_count": 23,
   "id": "45c7f8c0",
   "metadata": {},
   "outputs": [
    {
     "name": "stdout",
     "output_type": "stream",
     "text": [
      "category: Travel its count: 517 \n"
     ]
    }
   ],
   "source": [
    "#16) Write a sql query to calculate how many books each category has having count > 10.\n",
    "\n",
    "connection=sqlite3.connect('lec10_booktables_shimaaelsayed.db')\n",
    "rows=connection.execute(\"select category, count(BookTitle) from categories_and_books\").fetchall()\n",
    "connection.close()\n",
    "\n",
    "if rows==[]:\n",
    "    print('Data Doesnt exist')\n",
    "else:    \n",
    "    for category,count in rows :\n",
    "        print(f'category: {category} its count: {count} ')"
   ]
  },
  {
   "cell_type": "code",
   "execution_count": null,
   "id": "a8789540",
   "metadata": {},
   "outputs": [],
   "source": [
    "#17) Write a sql query to get all books with category_name='Music' using subquery.\n"
   ]
  },
  {
   "cell_type": "code",
   "execution_count": null,
   "id": "c1f0bc83",
   "metadata": {},
   "outputs": [],
   "source": [
    "# read db using pandas"
   ]
  }
 ],
 "metadata": {
  "kernelspec": {
   "display_name": "Python 3",
   "language": "python",
   "name": "python3"
  },
  "language_info": {
   "codemirror_mode": {
    "name": "ipython",
    "version": 3
   },
   "file_extension": ".py",
   "mimetype": "text/x-python",
   "name": "python",
   "nbconvert_exporter": "python",
   "pygments_lexer": "ipython3",
   "version": "3.8.8"
  }
 },
 "nbformat": 4,
 "nbformat_minor": 5
}
