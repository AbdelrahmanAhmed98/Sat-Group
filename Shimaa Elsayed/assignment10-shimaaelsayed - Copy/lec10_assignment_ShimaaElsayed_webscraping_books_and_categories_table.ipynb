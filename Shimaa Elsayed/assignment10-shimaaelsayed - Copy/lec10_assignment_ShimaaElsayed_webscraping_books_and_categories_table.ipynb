{
 "cells": [
  {
   "cell_type": "markdown",
   "id": "4d534780",
   "metadata": {},
   "source": [
    "# books_and_categories_table"
   ]
  },
  {
   "cell_type": "code",
   "execution_count": 1,
   "id": "104bdae8",
   "metadata": {},
   "outputs": [
    {
     "name": "stdout",
     "output_type": "stream",
     "text": [
      "--- 53.95271348953247 seconds ---\n"
     ]
    }
   ],
   "source": [
    "import requests\n",
    "from bs4 import BeautifulSoup\n",
    "import csv\n",
    "import pandas as pd\n",
    "import numpy as np\n",
    "from datetime import datetime\n",
    "import time\n",
    "start_time = time.time()\n",
    "\n",
    "url='https://books.toscrape.com'\n",
    "response=requests.get(url)\n",
    "soup=BeautifulSoup(response.text,'html.parser')\n",
    "\n",
    "#getting a list of references and a list of categories\n",
    "\n",
    "\n",
    "listofcateg=soup.find('ul',attrs={'class':'nav nav-list'})\n",
    "\n",
    "with open('categories_and_books.csv','w',newline='', encoding='utf-8') as f:\n",
    "    writer=csv.writer(f)\n",
    "    writer.writerow(['BookTitle','Category'])\n",
    "    \n",
    "    for categ_ref_li in listofcateg.find('ul').find_all('li'):\n",
    "        categ_name=(categ_ref_li.find('a').get_text().strip()) \n",
    "        \n",
    "        \n",
    "        categ_ref=('https://books.toscrape.com/'+(categ_ref_li.find('a').get('href')))\n",
    "        response_categ=requests.get(categ_ref)\n",
    "        soup_categ=BeautifulSoup(response_categ.text,'html.parser')\n",
    "\n",
    "        for book_num in soup_categ.find_all('article',attrs={'class':'product_pod'}):\n",
    "            bookname=(book_num.find('h3').find('a').get('title'))\n",
    "            writer.writerow([bookname,categ_name])\n",
    "        \n",
    "        \n",
    "        \n",
    "#df = pd.read_csv('categories_and_books.csv')\n",
    "#df_t=df.T\n",
    "#df_t.to_csv('categories_and_books.csv', encoding='utf-8')\n",
    "\n",
    "\n",
    "\n",
    "print(\"--- %s seconds ---\" % (time.time() - start_time))\n",
    "\n",
    "\n",
    "\n"
   ]
  },
  {
   "cell_type": "code",
   "execution_count": 12,
   "id": "85805e94",
   "metadata": {},
   "outputs": [
    {
     "data": {
      "text/html": [
       "<div>\n",
       "<style scoped>\n",
       "    .dataframe tbody tr th:only-of-type {\n",
       "        vertical-align: middle;\n",
       "    }\n",
       "\n",
       "    .dataframe tbody tr th {\n",
       "        vertical-align: top;\n",
       "    }\n",
       "\n",
       "    .dataframe thead th {\n",
       "        text-align: right;\n",
       "    }\n",
       "</style>\n",
       "<table border=\"1\" class=\"dataframe\">\n",
       "  <thead>\n",
       "    <tr style=\"text-align: right;\">\n",
       "      <th></th>\n",
       "      <th>BookTitle</th>\n",
       "      <th>Category</th>\n",
       "    </tr>\n",
       "  </thead>\n",
       "  <tbody>\n",
       "    <tr>\n",
       "      <th>0</th>\n",
       "      <td>It's Only the Himalayas</td>\n",
       "      <td>Travel</td>\n",
       "    </tr>\n",
       "    <tr>\n",
       "      <th>1</th>\n",
       "      <td>Full Moon over Noahâs Ark: An Odyssey to Mou...</td>\n",
       "      <td>Travel</td>\n",
       "    </tr>\n",
       "    <tr>\n",
       "      <th>2</th>\n",
       "      <td>See America: A Celebration of Our National Par...</td>\n",
       "      <td>Travel</td>\n",
       "    </tr>\n",
       "    <tr>\n",
       "      <th>3</th>\n",
       "      <td>Vagabonding: An Uncommon Guide to the Art of L...</td>\n",
       "      <td>Travel</td>\n",
       "    </tr>\n",
       "    <tr>\n",
       "      <th>4</th>\n",
       "      <td>Under the Tuscan Sun</td>\n",
       "      <td>Travel</td>\n",
       "    </tr>\n",
       "    <tr>\n",
       "      <th>...</th>\n",
       "      <td>...</td>\n",
       "      <td>...</td>\n",
       "    </tr>\n",
       "    <tr>\n",
       "      <th>512</th>\n",
       "      <td>Why the Right Went Wrong: Conservatism--From G...</td>\n",
       "      <td>Politics</td>\n",
       "    </tr>\n",
       "    <tr>\n",
       "      <th>513</th>\n",
       "      <td>Equal Is Unfair: America's Misguided Fight Aga...</td>\n",
       "      <td>Politics</td>\n",
       "    </tr>\n",
       "    <tr>\n",
       "      <th>514</th>\n",
       "      <td>Amid the Chaos</td>\n",
       "      <td>Cultural</td>\n",
       "    </tr>\n",
       "    <tr>\n",
       "      <th>515</th>\n",
       "      <td>Dark Notes</td>\n",
       "      <td>Erotica</td>\n",
       "    </tr>\n",
       "    <tr>\n",
       "      <th>516</th>\n",
       "      <td>The Long Shadow of Small Ghosts: Murder and Me...</td>\n",
       "      <td>Crime</td>\n",
       "    </tr>\n",
       "  </tbody>\n",
       "</table>\n",
       "<p>517 rows × 2 columns</p>\n",
       "</div>"
      ],
      "text/plain": [
       "                                             BookTitle  Category\n",
       "0                              It's Only the Himalayas    Travel\n",
       "1    Full Moon over Noahâs Ark: An Odyssey to Mou...    Travel\n",
       "2    See America: A Celebration of Our National Par...    Travel\n",
       "3    Vagabonding: An Uncommon Guide to the Art of L...    Travel\n",
       "4                                 Under the Tuscan Sun    Travel\n",
       "..                                                 ...       ...\n",
       "512  Why the Right Went Wrong: Conservatism--From G...  Politics\n",
       "513  Equal Is Unfair: America's Misguided Fight Aga...  Politics\n",
       "514                                     Amid the Chaos  Cultural\n",
       "515                                         Dark Notes   Erotica\n",
       "516  The Long Shadow of Small Ghosts: Murder and Me...     Crime\n",
       "\n",
       "[517 rows x 2 columns]"
      ]
     },
     "execution_count": 12,
     "metadata": {},
     "output_type": "execute_result"
    }
   ],
   "source": [
    "df=pd.read_csv('categories_and_books.csv')\n",
    "df\n"
   ]
  },
  {
   "cell_type": "code",
   "execution_count": 32,
   "id": "829bc275",
   "metadata": {},
   "outputs": [],
   "source": [
    "df2=df['BookTitle'].unique()\n",
    "df3=df.drop_duplicates()\n",
    "df3.to_csv('categ_and_books.csv')\n",
    "\n"
   ]
  }
 ],
 "metadata": {
  "kernelspec": {
   "display_name": "Python 3",
   "language": "python",
   "name": "python3"
  },
  "language_info": {
   "codemirror_mode": {
    "name": "ipython",
    "version": 3
   },
   "file_extension": ".py",
   "mimetype": "text/x-python",
   "name": "python",
   "nbconvert_exporter": "python",
   "pygments_lexer": "ipython3",
   "version": "3.8.8"
  }
 },
 "nbformat": 4,
 "nbformat_minor": 5
}
