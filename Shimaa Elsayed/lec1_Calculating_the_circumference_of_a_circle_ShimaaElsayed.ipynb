{
 "cells": [
  {
   "cell_type": "code",
   "execution_count": 2,
   "id": "8e96ec8f",
   "metadata": {},
   "outputs": [
    {
     "name": "stdout",
     "output_type": "stream",
     "text": [
      "Calculating the Circumference of a Circle\n",
      "-------------------------------------\n",
      "Enter your circle's radius: 5\n",
      "Circle circumference is:  31.41592653589793\n"
     ]
    }
   ],
   "source": [
    "import math\n",
    "print(\"Calculating the Circumference of a Circle\\n-------------------------------------\")\n",
    "radius = float(input(\"Enter your circle's radius: \"))\n",
    "print(\"Circle circumference is: \",(math.pi)*2*radius)"
   ]
  },
  {
   "cell_type": "code",
   "execution_count": 3,
   "id": "da175c3f",
   "metadata": {},
   "outputs": [
    {
     "name": "stdout",
     "output_type": "stream",
     "text": [
      "sam\n",
      "sam\n"
     ]
    }
   ],
   "source": [
    "name=str(input(\"\"))\n",
    "print(name)"
   ]
  }
 ],
 "metadata": {
  "kernelspec": {
   "display_name": "Python 3",
   "language": "python",
   "name": "python3"
  },
  "language_info": {
   "codemirror_mode": {
    "name": "ipython",
    "version": 3
   },
   "file_extension": ".py",
   "mimetype": "text/x-python",
   "name": "python",
   "nbconvert_exporter": "python",
   "pygments_lexer": "ipython3",
   "version": "3.8.8"
  }
 },
 "nbformat": 4,
 "nbformat_minor": 5
}
