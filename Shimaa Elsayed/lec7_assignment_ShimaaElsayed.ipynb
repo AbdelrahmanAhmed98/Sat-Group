{
 "cells": [
  {
   "cell_type": "markdown",
   "id": "683425c6",
   "metadata": {},
   "source": [
    "# Task 1"
   ]
  },
  {
   "cell_type": "code",
   "execution_count": 11,
   "id": "64ebd259",
   "metadata": {},
   "outputs": [
    {
     "name": "stdout",
     "output_type": "stream",
     "text": [
      "\n",
      "Enter amount of USD to get EUR rates: 10\n",
      "\n",
      "The EUR rates are: 8.6378 EUR for 10 USD\n"
     ]
    }
   ],
   "source": [
    "import requests\n",
    "\n",
    "#asking for user input\n",
    "usd_amount=input('\\nEnter amount of USD to get EUR rates: ')\n",
    "\n",
    "#making new link\n",
    "link='https://api.frankfurter.app/latest?amount='+usd_amount+'&from=USD&to=EUR'\n",
    "\n",
    "#requesting data\n",
    "response=requests.request('Get',link)\n",
    "\n",
    "#converting data to dictionaries\n",
    "data=response.json() #type dict\n",
    "\n",
    "# printing the rates\n",
    "print('\\nThe EUR rates are: '+str(data['rates']['EUR'])+' EUR for '+usd_amount+' USD')"
   ]
  },
  {
   "cell_type": "markdown",
   "id": "70bfff58",
   "metadata": {},
   "source": [
    "# Task 2"
   ]
  },
  {
   "cell_type": "code",
   "execution_count": 24,
   "id": "4bd2a86a",
   "metadata": {},
   "outputs": [
    {
     "name": "stdout",
     "output_type": "stream",
     "text": [
      "\n",
      "\n",
      " day1\n",
      "\n",
      "       weather  temperature  humidity  visibility  air pressure  wind speed  \\\n",
      "0  Heavy Cloud       27.915        48   13.373772        1017.0    5.605973   \n",
      "\n",
      "     datetime  \n",
      "0  2021-11-10  \n",
      "\n",
      "\n",
      " day2\n",
      "\n",
      "       weather  temperature  humidity  visibility  air pressure  wind speed  \\\n",
      "0  Heavy Cloud         25.3        53   13.743177        1015.0    6.503804   \n",
      "\n",
      "     datetime  \n",
      "0  2021-11-11  \n",
      "\n",
      "\n",
      " day3\n",
      "\n",
      "       weather  temperature  humidity  visibility  air pressure  wind speed  \\\n",
      "0  Heavy Cloud        24.83        49   13.808111        1014.0    7.511951   \n",
      "\n",
      "     datetime  \n",
      "0  2021-11-12  \n"
     ]
    }
   ],
   "source": [
    "import csv\n",
    "import pandas as pd\n",
    "import requests\n",
    "\n",
    "#used link\n",
    "link='https://www.metaweather.com/api/location/1521894/'\n",
    "\n",
    "#requesting data\n",
    "response=requests.request('Get',link)\n",
    "\n",
    "#converting data to dictionaries\n",
    "data=response.json() #type dict\n",
    "\n",
    "\n",
    "for i in [0,1,2]:\n",
    "    with open('day'+str(i)+'.csv','w',newline='') as f:\n",
    "        writer=csv.DictWriter(f,fieldnames=['weather', 'temperature', 'humidity', 'visibility', 'air pressure', 'wind speed', 'datetime'])\n",
    "        writer.writeheader()\n",
    "        \n",
    "        weather=data['consolidated_weather'][i][\"weather_state_name\"]\n",
    "        temperature=data['consolidated_weather'][i][\"the_temp\"]\n",
    "        humidity=data['consolidated_weather'][i][\"humidity\"]\n",
    "        visibility=data['consolidated_weather'][i][\"visibility\"]\n",
    "        airpressure=data['consolidated_weather'][i][\"air_pressure\"]\n",
    "        windspeed =data['consolidated_weather'][i][\"wind_speed\"]\n",
    "        datetime=data['consolidated_weather'][i][\"applicable_date\"]\n",
    "        writer.writerow({'weather':weather, 'temperature':temperature, 'humidity':humidity, 'visibility':visibility, 'air pressure':airpressure, 'wind speed':windspeed, 'datetime':datetime})\n",
    "        \n",
    "    print('\\n\\n day'+str(i+1)+'\\n')    \n",
    "    print(pd.read_csv('day'+str(i)+'.csv'))        "
   ]
  },
  {
   "cell_type": "markdown",
   "id": "f30fc750",
   "metadata": {},
   "source": [
    "# Task 3"
   ]
  },
  {
   "cell_type": "code",
   "execution_count": 31,
   "id": "d07a3950",
   "metadata": {},
   "outputs": [
    {
     "name": "stdout",
     "output_type": "stream",
     "text": [
      "      ID                      Name                                  Email  \\\n",
      "0   1715                 Test User                    test-2647@gmail.com   \n",
      "1   1719                     kiran                     kiran123@gmail.com   \n",
      "2   1747     API Monitoring:pwwlvb      apimonitoringpwwlvb@synthetic.com   \n",
      "3     65                  manideep      chandramohan_somayaji@cassin.name   \n",
      "4     18               Akshaj Bhat                 bhat_akshaj@mayert.org   \n",
      "5     19              Ankal Shukla               ankal_shukla@gerlach.biz   \n",
      "6     20        Fr. Brijesh Tagore  brijesh_fr_tagore@bailey-schaefer.org   \n",
      "7     21        Amb. Shankar Pilla            amb_pilla_shankar@okon.name   \n",
      "8     22    Adripathi Mukhopadhyay        mukhopadhyay_adripathi@rice.biz   \n",
      "9     24            Dhanvin Tandon               dhanvin_tandon@bins.name   \n",
      "10    25           Ujjwal Reddy MD       ujjwal_md_reddy@rippin-ferry.org   \n",
      "11    28                Naval Butt                 butt_naval@sporer.info   \n",
      "12    29    Charumati Dwivedi Esq.   esq_charumati_dwivedi@wilkinson.info   \n",
      "13    30            Bhoopat Ganaka               ganaka_bhoopat@pouros.co   \n",
      "14    31  Dhaanyalakshmi Ganaka IV     dhaanyalakshmi_iv_ganaka@stamm.com   \n",
      "15    32            Rajinder Joshi        joshi_rajinder@kuhic-stroman.io   \n",
      "16    33      Anasooya Kapoor Esq.           esq_kapoor_anasooya@bruen.co   \n",
      "17    34               Kama Khatri                   khatri_kama@mills.co   \n",
      "18    35           Annapurna Reddy       annapurna_reddy@crist-hamill.biz   \n",
      "19    36         Rageshwari Abbott    abbott_rageshwari@barton-hintz.info   \n",
      "\n",
      "    Gender  Status  \n",
      "0   female       1  \n",
      "1     male       1  \n",
      "2     male       1  \n",
      "3     male       0  \n",
      "4   female       1  \n",
      "5   female       1  \n",
      "6     male       0  \n",
      "7   female       0  \n",
      "8   female       1  \n",
      "9     male       0  \n",
      "10    male       1  \n",
      "11  female       1  \n",
      "12    male       1  \n",
      "13    male       0  \n",
      "14    male       0  \n",
      "15    male       1  \n",
      "16    male       1  \n",
      "17  female       0  \n",
      "18  female       0  \n",
      "19  female       1  \n"
     ]
    }
   ],
   "source": [
    "import csv\n",
    "import pandas\n",
    "import requests\n",
    "\n",
    "#used link\n",
    "link='https://gorest.co.in/public-api/users?_format=json&access-token=H4lYmIGLXZkDlpy_w0ZVS5rgcpDXbN7fhRRy'\n",
    "\n",
    "#requesting data\n",
    "response=requests.request('Get',link)\n",
    "\n",
    "#converting data to dictionaries\n",
    "dataset=response.json() #type dict\n",
    "\n",
    "\n",
    "\n",
    "with open('users.csv','w',newline='') as f:\n",
    "    writer=csv.DictWriter(f,fieldnames=['ID', 'Name', 'Email', 'Gender', 'Status'])\n",
    "    writer.writeheader()\n",
    "    for member in dataset['data']:\n",
    "        ID=member['id']\n",
    "        Name=member['name']\n",
    "        Email=member['email']\n",
    "        Gender=member['gender'] \n",
    "        Status=member['status']\n",
    "        if Status == \"active\":\n",
    "            Statnum=1\n",
    "        else:Statnum=0    \n",
    "        writer.writerow({'ID':ID, 'Name':Name, 'Email':Email, 'Gender':Gender, 'Status':Statnum})\n",
    "print(pd.read_csv('users.csv'))             "
   ]
  }
 ],
 "metadata": {
  "kernelspec": {
   "display_name": "Python 3",
   "language": "python",
   "name": "python3"
  },
  "language_info": {
   "codemirror_mode": {
    "name": "ipython",
    "version": 3
   },
   "file_extension": ".py",
   "mimetype": "text/x-python",
   "name": "python",
   "nbconvert_exporter": "python",
   "pygments_lexer": "ipython3",
   "version": "3.8.8"
  }
 },
 "nbformat": 4,
 "nbformat_minor": 5
}
