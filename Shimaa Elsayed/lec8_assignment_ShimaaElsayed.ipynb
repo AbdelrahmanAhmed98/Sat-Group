{
 "cells": [
  {
   "cell_type": "markdown",
   "id": "0ceaa269",
   "metadata": {},
   "source": [
    "# Task 1"
   ]
  },
  {
   "cell_type": "code",
   "execution_count": 12,
   "id": "def8bdf5",
   "metadata": {},
   "outputs": [
    {
     "name": "stdout",
     "output_type": "stream",
     "text": [
      "                                           Book Title  Price  Rate  \\\n",
      "0                                A Light in the Attic  51.77     3   \n",
      "1                                  Tipping the Velvet  53.74     1   \n",
      "2                                          Soumission  50.10     1   \n",
      "3                                       Sharp Objects  47.82     4   \n",
      "4               Sapiens: A Brief History of Humankind  54.23     5   \n",
      "5                                     The Requiem Red  22.65     1   \n",
      "6   The Dirty Little Secrets of Getting Your Dream...  33.34     4   \n",
      "7   The Coming Woman: A Novel Based on the Life of...  17.93     3   \n",
      "8   The Boys in the Boat: Nine Americans and Their...  22.60     4   \n",
      "9                                     The Black Maria  52.15     1   \n",
      "10     Starving Hearts (Triangular Trade Trilogy, #1)  13.99     2   \n",
      "11                              Shakespeare's Sonnets  20.66     4   \n",
      "12                                        Set Me Free  17.46     5   \n",
      "13  Scott Pilgrim's Precious Little Life (Scott Pi...  52.29     5   \n",
      "14                          Rip it Up and Start Again  35.02     5   \n",
      "15  Our Band Could Be Your Life: Scenes from the A...  57.25     3   \n",
      "16                                               Olio  23.88     1   \n",
      "17  Mesaerion: The Best Science Fiction Stories 18...  37.59     1   \n",
      "18                       Libertarianism for Beginners  51.33     2   \n",
      "19                            It's Only the Himalayas  45.17     2   \n",
      "\n",
      "        Category  \n",
      "0   All products  \n",
      "1   All products  \n",
      "2   All products  \n",
      "3   All products  \n",
      "4   All products  \n",
      "5   All products  \n",
      "6   All products  \n",
      "7   All products  \n",
      "8   All products  \n",
      "9   All products  \n",
      "10  All products  \n",
      "11  All products  \n",
      "12  All products  \n",
      "13  All products  \n",
      "14  All products  \n",
      "15  All products  \n",
      "16  All products  \n",
      "17  All products  \n",
      "18  All products  \n",
      "19  All products  \n"
     ]
    }
   ],
   "source": [
    "# import requests\n",
    "from bs4 import BeautifulSoup\n",
    "import csv\n",
    "import pandas as pd\n",
    "\n",
    "url='https://books.toscrape.com/index.html'\n",
    "response=requests.get(url)\n",
    "soup=BeautifulSoup(response.text,'html.parser')\n",
    "\n",
    "rating_dic={'One':1,'Two':2,'Three':3,'Four':4,'Five':5}\n",
    "\n",
    "with open('books.csv','w',newline='') as f:\n",
    "    writer=csv.writer(f)\n",
    "    writer.writerow(['Book Title','Price','Rate','Category'])\n",
    "    category=soup.find('title').get_text().split('|')[0].strip()\n",
    "    for book in soup.find_all('article',attrs={'class':'product_pod'}):\n",
    "        book_name=book.find('h3').find('a').get('title')\n",
    "        rate=rating_dic[book.find('p').get('class')[1]]\n",
    "        price=float(book.find('div',attrs={'class':'product_price'}).find('p',attrs={'class':'price_color'}).get_text()[2:])\n",
    "        writer.writerow([book_name,price,rate,category])\n",
    "print(pd.read_csv('books.csv'))"
   ]
  },
  {
   "cell_type": "markdown",
   "id": "94d3b102",
   "metadata": {},
   "source": [
    "# Task 2"
   ]
  },
  {
   "cell_type": "code",
   "execution_count": 10,
   "id": "89a5c372",
   "metadata": {},
   "outputs": [
    {
     "name": "stdout",
     "output_type": "stream",
     "text": [
      "\n",
      "\n",
      "Enter amout of USD to change to EGP :10\n",
      "\n",
      "Conversion rated today from USD to EGP is = 156.992\n"
     ]
    }
   ],
   "source": [
    "#importing libraries\n",
    "import requests\n",
    "from bs4 import BeautifulSoup\n",
    "import csv\n",
    "import pandas as pd\n",
    "\n",
    "#requesting and parsing the webpage\n",
    "url='https://www.exchangerates.org.uk/Dollars-to-Egyptian-Pounds-currency-conversion-page.html'\n",
    "response=requests.get(url)\n",
    "soup=BeautifulSoup(response.text,'html.parser')\n",
    "##\n",
    "foundline=soup.find('title').get_text().strip() #finding the line of data\n",
    "EGP_rates=float(foundline.split('=')[1].split(' ')[1])# converting string float to float\n",
    "##asking for user input and printing the output\n",
    "user_input=int(input('\\n\\nEnter amout of USD to change to EGP :'))\n",
    "print('\\nConversion rated today from USD to EGP is = '+str(user_input*EGP_rates))"
   ]
  },
  {
   "cell_type": "code",
   "execution_count": null,
   "id": "b633acaa",
   "metadata": {},
   "outputs": [],
   "source": []
  }
 ],
 "metadata": {
  "kernelspec": {
   "display_name": "Python 3",
   "language": "python",
   "name": "python3"
  },
  "language_info": {
   "codemirror_mode": {
    "name": "ipython",
    "version": 3
   },
   "file_extension": ".py",
   "mimetype": "text/x-python",
   "name": "python",
   "nbconvert_exporter": "python",
   "pygments_lexer": "ipython3",
   "version": "3.8.8"
  }
 },
 "nbformat": 4,
 "nbformat_minor": 5
}
