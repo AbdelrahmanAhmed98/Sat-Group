{
 "cells": [
  {
   "cell_type": "code",
   "execution_count": 4,
   "id": "96d5f690",
   "metadata": {},
   "outputs": [
    {
     "name": "stdout",
     "output_type": "stream",
     "text": [
      "Calculating the Circumference of a Rectangle\n",
      "-------------------------------------\n",
      "Enter your rectangle's length: 1\n",
      "Enter your rectangle's width: 2\n",
      "Recatangle's circumference is:  6.0\n"
     ]
    }
   ],
   "source": [
    "print(\"Calculating the Circumference of a Rectangle\\n-------------------------------------\")\n",
    "length = float(input(\"Enter your rectangle's length: \"))\n",
    "width = float(input(\"Enter your rectangle's width: \"))\n",
    "print(\"Recatangle's circumference is: \",2*(length+width))"
   ]
  },
  {
   "cell_type": "code",
   "execution_count": null,
   "id": "1bbc44f2",
   "metadata": {},
   "outputs": [],
   "source": []
  }
 ],
 "metadata": {
  "kernelspec": {
   "display_name": "Python 3",
   "language": "python",
   "name": "python3"
  },
  "language_info": {
   "codemirror_mode": {
    "name": "ipython",
    "version": 3
   },
   "file_extension": ".py",
   "mimetype": "text/x-python",
   "name": "python",
   "nbconvert_exporter": "python",
   "pygments_lexer": "ipython3",
   "version": "3.8.8"
  }
 },
 "nbformat": 4,
 "nbformat_minor": 5
}
