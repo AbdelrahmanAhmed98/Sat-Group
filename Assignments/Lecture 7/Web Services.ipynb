{
 "cells": [
  {
   "cell_type": "markdown",
   "id": "07760f2d",
   "metadata": {},
   "source": [
    "# Task 1"
   ]
  },
  {
   "cell_type": "code",
   "execution_count": 1,
   "id": "d853fe49",
   "metadata": {},
   "outputs": [
    {
     "name": "stdout",
     "output_type": "stream",
     "text": [
      "Enter the USD amount to obtain the EUR rate: 20\n",
      "\n",
      "The EUR rates are: 17.5316 EUR for 20 USD\n"
     ]
    }
   ],
   "source": [
    "import requests\n",
    "\n",
    "USDvalue=input('Enter the USD amount to obtain the EUR rate: ')\n",
    "url='https://api.frankfurter.app/latest?amount='+USDvalue+'&from=USD&to=EUR'\n",
    "response=requests.request('retrieve',url)\n",
    "\n",
    "data=response.json()\n",
    "\n",
    "print('\\nThe EUR rates are: '+str(data['rates']['EUR'])+' EUR for '+USDvalue+' USD')"
   ]
  },
  {
   "cell_type": "code",
   "execution_count": 5,
   "id": "54517f5b",
   "metadata": {},
   "outputs": [
    {
     "name": "stdout",
     "output_type": "stream",
     "text": [
      "\n",
      " day1\n",
      "\n"
     ]
    },
    {
     "ename": "FileNotFoundError",
     "evalue": "[Errno 2] No such file or directory: 'day0.csv'",
     "output_type": "error",
     "traceback": [
      "\u001b[0;31m---------------------------------------------------------------------------\u001b[0m",
      "\u001b[0;31mFileNotFoundError\u001b[0m                         Traceback (most recent call last)",
      "\u001b[0;32m<ipython-input-5-3cddd06d815e>\u001b[0m in \u001b[0;36m<module>\u001b[0;34m\u001b[0m\n\u001b[1;32m     24\u001b[0m \u001b[0;34m\u001b[0m\u001b[0m\n\u001b[1;32m     25\u001b[0m     \u001b[0mprint\u001b[0m\u001b[0;34m(\u001b[0m\u001b[0;34m'\\n day'\u001b[0m\u001b[0;34m+\u001b[0m\u001b[0mstr\u001b[0m\u001b[0;34m(\u001b[0m\u001b[0mi\u001b[0m\u001b[0;34m+\u001b[0m\u001b[0;36m1\u001b[0m\u001b[0;34m)\u001b[0m\u001b[0;34m+\u001b[0m\u001b[0;34m'\\n'\u001b[0m\u001b[0;34m)\u001b[0m\u001b[0;34m\u001b[0m\u001b[0;34m\u001b[0m\u001b[0m\n\u001b[0;32m---> 26\u001b[0;31m     \u001b[0mprint\u001b[0m\u001b[0;34m(\u001b[0m\u001b[0mpd\u001b[0m\u001b[0;34m.\u001b[0m\u001b[0mread_csv\u001b[0m\u001b[0;34m(\u001b[0m\u001b[0;34m'day'\u001b[0m\u001b[0;34m+\u001b[0m\u001b[0mstr\u001b[0m\u001b[0;34m(\u001b[0m\u001b[0mi\u001b[0m\u001b[0;34m)\u001b[0m\u001b[0;34m+\u001b[0m\u001b[0;34m'.csv'\u001b[0m\u001b[0;34m)\u001b[0m\u001b[0;34m)\u001b[0m\u001b[0;34m\u001b[0m\u001b[0;34m\u001b[0m\u001b[0m\n\u001b[0m",
      "\u001b[0;32m/srv/conda/envs/notebook/lib/python3.6/site-packages/pandas/io/parsers.py\u001b[0m in \u001b[0;36mread_csv\u001b[0;34m(filepath_or_buffer, sep, delimiter, header, names, index_col, usecols, squeeze, prefix, mangle_dupe_cols, dtype, engine, converters, true_values, false_values, skipinitialspace, skiprows, skipfooter, nrows, na_values, keep_default_na, na_filter, verbose, skip_blank_lines, parse_dates, infer_datetime_format, keep_date_col, date_parser, dayfirst, cache_dates, iterator, chunksize, compression, thousands, decimal, lineterminator, quotechar, quoting, doublequote, escapechar, comment, encoding, dialect, error_bad_lines, warn_bad_lines, delim_whitespace, low_memory, memory_map, float_precision)\u001b[0m\n\u001b[1;32m    686\u001b[0m     )\n\u001b[1;32m    687\u001b[0m \u001b[0;34m\u001b[0m\u001b[0m\n\u001b[0;32m--> 688\u001b[0;31m     \u001b[0;32mreturn\u001b[0m \u001b[0m_read\u001b[0m\u001b[0;34m(\u001b[0m\u001b[0mfilepath_or_buffer\u001b[0m\u001b[0;34m,\u001b[0m \u001b[0mkwds\u001b[0m\u001b[0;34m)\u001b[0m\u001b[0;34m\u001b[0m\u001b[0;34m\u001b[0m\u001b[0m\n\u001b[0m\u001b[1;32m    689\u001b[0m \u001b[0;34m\u001b[0m\u001b[0m\n\u001b[1;32m    690\u001b[0m \u001b[0;34m\u001b[0m\u001b[0m\n",
      "\u001b[0;32m/srv/conda/envs/notebook/lib/python3.6/site-packages/pandas/io/parsers.py\u001b[0m in \u001b[0;36m_read\u001b[0;34m(filepath_or_buffer, kwds)\u001b[0m\n\u001b[1;32m    452\u001b[0m \u001b[0;34m\u001b[0m\u001b[0m\n\u001b[1;32m    453\u001b[0m     \u001b[0;31m# Create the parser.\u001b[0m\u001b[0;34m\u001b[0m\u001b[0;34m\u001b[0m\u001b[0;34m\u001b[0m\u001b[0m\n\u001b[0;32m--> 454\u001b[0;31m     \u001b[0mparser\u001b[0m \u001b[0;34m=\u001b[0m \u001b[0mTextFileReader\u001b[0m\u001b[0;34m(\u001b[0m\u001b[0mfp_or_buf\u001b[0m\u001b[0;34m,\u001b[0m \u001b[0;34m**\u001b[0m\u001b[0mkwds\u001b[0m\u001b[0;34m)\u001b[0m\u001b[0;34m\u001b[0m\u001b[0;34m\u001b[0m\u001b[0m\n\u001b[0m\u001b[1;32m    455\u001b[0m \u001b[0;34m\u001b[0m\u001b[0m\n\u001b[1;32m    456\u001b[0m     \u001b[0;32mif\u001b[0m \u001b[0mchunksize\u001b[0m \u001b[0;32mor\u001b[0m \u001b[0miterator\u001b[0m\u001b[0;34m:\u001b[0m\u001b[0;34m\u001b[0m\u001b[0;34m\u001b[0m\u001b[0m\n",
      "\u001b[0;32m/srv/conda/envs/notebook/lib/python3.6/site-packages/pandas/io/parsers.py\u001b[0m in \u001b[0;36m__init__\u001b[0;34m(self, f, engine, **kwds)\u001b[0m\n\u001b[1;32m    946\u001b[0m             \u001b[0mself\u001b[0m\u001b[0;34m.\u001b[0m\u001b[0moptions\u001b[0m\u001b[0;34m[\u001b[0m\u001b[0;34m\"has_index_names\"\u001b[0m\u001b[0;34m]\u001b[0m \u001b[0;34m=\u001b[0m \u001b[0mkwds\u001b[0m\u001b[0;34m[\u001b[0m\u001b[0;34m\"has_index_names\"\u001b[0m\u001b[0;34m]\u001b[0m\u001b[0;34m\u001b[0m\u001b[0;34m\u001b[0m\u001b[0m\n\u001b[1;32m    947\u001b[0m \u001b[0;34m\u001b[0m\u001b[0m\n\u001b[0;32m--> 948\u001b[0;31m         \u001b[0mself\u001b[0m\u001b[0;34m.\u001b[0m\u001b[0m_make_engine\u001b[0m\u001b[0;34m(\u001b[0m\u001b[0mself\u001b[0m\u001b[0;34m.\u001b[0m\u001b[0mengine\u001b[0m\u001b[0;34m)\u001b[0m\u001b[0;34m\u001b[0m\u001b[0;34m\u001b[0m\u001b[0m\n\u001b[0m\u001b[1;32m    949\u001b[0m \u001b[0;34m\u001b[0m\u001b[0m\n\u001b[1;32m    950\u001b[0m     \u001b[0;32mdef\u001b[0m \u001b[0mclose\u001b[0m\u001b[0;34m(\u001b[0m\u001b[0mself\u001b[0m\u001b[0;34m)\u001b[0m\u001b[0;34m:\u001b[0m\u001b[0;34m\u001b[0m\u001b[0;34m\u001b[0m\u001b[0m\n",
      "\u001b[0;32m/srv/conda/envs/notebook/lib/python3.6/site-packages/pandas/io/parsers.py\u001b[0m in \u001b[0;36m_make_engine\u001b[0;34m(self, engine)\u001b[0m\n\u001b[1;32m   1178\u001b[0m     \u001b[0;32mdef\u001b[0m \u001b[0m_make_engine\u001b[0m\u001b[0;34m(\u001b[0m\u001b[0mself\u001b[0m\u001b[0;34m,\u001b[0m \u001b[0mengine\u001b[0m\u001b[0;34m=\u001b[0m\u001b[0;34m\"c\"\u001b[0m\u001b[0;34m)\u001b[0m\u001b[0;34m:\u001b[0m\u001b[0;34m\u001b[0m\u001b[0;34m\u001b[0m\u001b[0m\n\u001b[1;32m   1179\u001b[0m         \u001b[0;32mif\u001b[0m \u001b[0mengine\u001b[0m \u001b[0;34m==\u001b[0m \u001b[0;34m\"c\"\u001b[0m\u001b[0;34m:\u001b[0m\u001b[0;34m\u001b[0m\u001b[0;34m\u001b[0m\u001b[0m\n\u001b[0;32m-> 1180\u001b[0;31m             \u001b[0mself\u001b[0m\u001b[0;34m.\u001b[0m\u001b[0m_engine\u001b[0m \u001b[0;34m=\u001b[0m \u001b[0mCParserWrapper\u001b[0m\u001b[0;34m(\u001b[0m\u001b[0mself\u001b[0m\u001b[0;34m.\u001b[0m\u001b[0mf\u001b[0m\u001b[0;34m,\u001b[0m \u001b[0;34m**\u001b[0m\u001b[0mself\u001b[0m\u001b[0;34m.\u001b[0m\u001b[0moptions\u001b[0m\u001b[0;34m)\u001b[0m\u001b[0;34m\u001b[0m\u001b[0;34m\u001b[0m\u001b[0m\n\u001b[0m\u001b[1;32m   1181\u001b[0m         \u001b[0;32melse\u001b[0m\u001b[0;34m:\u001b[0m\u001b[0;34m\u001b[0m\u001b[0;34m\u001b[0m\u001b[0m\n\u001b[1;32m   1182\u001b[0m             \u001b[0;32mif\u001b[0m \u001b[0mengine\u001b[0m \u001b[0;34m==\u001b[0m \u001b[0;34m\"python\"\u001b[0m\u001b[0;34m:\u001b[0m\u001b[0;34m\u001b[0m\u001b[0;34m\u001b[0m\u001b[0m\n",
      "\u001b[0;32m/srv/conda/envs/notebook/lib/python3.6/site-packages/pandas/io/parsers.py\u001b[0m in \u001b[0;36m__init__\u001b[0;34m(self, src, **kwds)\u001b[0m\n\u001b[1;32m   2008\u001b[0m         \u001b[0mkwds\u001b[0m\u001b[0;34m[\u001b[0m\u001b[0;34m\"usecols\"\u001b[0m\u001b[0;34m]\u001b[0m \u001b[0;34m=\u001b[0m \u001b[0mself\u001b[0m\u001b[0;34m.\u001b[0m\u001b[0musecols\u001b[0m\u001b[0;34m\u001b[0m\u001b[0;34m\u001b[0m\u001b[0m\n\u001b[1;32m   2009\u001b[0m \u001b[0;34m\u001b[0m\u001b[0m\n\u001b[0;32m-> 2010\u001b[0;31m         \u001b[0mself\u001b[0m\u001b[0;34m.\u001b[0m\u001b[0m_reader\u001b[0m \u001b[0;34m=\u001b[0m \u001b[0mparsers\u001b[0m\u001b[0;34m.\u001b[0m\u001b[0mTextReader\u001b[0m\u001b[0;34m(\u001b[0m\u001b[0msrc\u001b[0m\u001b[0;34m,\u001b[0m \u001b[0;34m**\u001b[0m\u001b[0mkwds\u001b[0m\u001b[0;34m)\u001b[0m\u001b[0;34m\u001b[0m\u001b[0;34m\u001b[0m\u001b[0m\n\u001b[0m\u001b[1;32m   2011\u001b[0m         \u001b[0mself\u001b[0m\u001b[0;34m.\u001b[0m\u001b[0munnamed_cols\u001b[0m \u001b[0;34m=\u001b[0m \u001b[0mself\u001b[0m\u001b[0;34m.\u001b[0m\u001b[0m_reader\u001b[0m\u001b[0;34m.\u001b[0m\u001b[0munnamed_cols\u001b[0m\u001b[0;34m\u001b[0m\u001b[0;34m\u001b[0m\u001b[0m\n\u001b[1;32m   2012\u001b[0m \u001b[0;34m\u001b[0m\u001b[0m\n",
      "\u001b[0;32mpandas/_libs/parsers.pyx\u001b[0m in \u001b[0;36mpandas._libs.parsers.TextReader.__cinit__\u001b[0;34m()\u001b[0m\n",
      "\u001b[0;32mpandas/_libs/parsers.pyx\u001b[0m in \u001b[0;36mpandas._libs.parsers.TextReader._setup_parser_source\u001b[0;34m()\u001b[0m\n",
      "\u001b[0;31mFileNotFoundError\u001b[0m: [Errno 2] No such file or directory: 'day0.csv'"
     ]
    }
   ],
   "source": [
    "import csv\n",
    "import pandas as pd\n",
    "import requests\n",
    "\n",
    "link='https://www.metaweather.com/api/location/1521894/'\n",
    "response=requests.request('Get',link)\n",
    "\n",
    "data=response.json()\n",
    "\n",
    "\n",
    "for i in [0,1,2]:\n",
    "    with open('Day: '+str(i)+'.csv','w',newline='') as f:\n",
    "        writer=csv.DictWriter(f,fieldnames=['Weather', 'Temperature', 'Humidity', 'Visibility', 'Air pressure', 'Wind speed', 'Datetime'])\n",
    "        writer.writeheader()\n",
    "        \n",
    "        Weather=data['consolidated_weather'][i][\"weather_state_name\"]\n",
    "        Temperature=data['consolidated_weather'][i][\"the_temp\"]\n",
    "        Humidity=data['consolidated_weather'][i][\"humidity\"]\n",
    "        Visibility=data['consolidated_weather'][i][\"visibility\"]\n",
    "        Airpressure=data['consolidated_weather'][i][\"air_pressure\"]\n",
    "        Windspeed =data['consolidated_weather'][i][\"wind_speed\"]\n",
    "        Datetime=data['consolidated_weather'][i][\"applicable_date\"]\n",
    "        writer.writerow({'Weather':Weather, 'Temperature':Temperature, 'Humidity':Humidity, 'Visibility':Visibility, 'Air pressure':Airpressure, 'Wind speed':Windspeed, 'Datetime':Datetime})\n",
    "        \n",
    "    print('\\n day'+str(i+1)+'\\n')    \n",
    "    print(pd.read_csv('day'+str(i)+'.csv')) "
   ]
  },
  {
   "cell_type": "markdown",
   "id": "991b80c1",
   "metadata": {},
   "source": [
    "# Task 3"
   ]
  },
  {
   "cell_type": "code",
   "execution_count": 8,
   "id": "1a185e46",
   "metadata": {},
   "outputs": [
    {
     "name": "stdout",
     "output_type": "stream",
     "text": [
      "      ID                      Name                                  Email  \\\n",
      "0   3439         Chandrani Naik DO           chandrani_do_naik@block.info   \n",
      "1   3438          Bhagvan Somayaji           somayaji_bhagvan@hagenes.net   \n",
      "2   3437              Keerti Joshi   joshi_keerti@balistreri-effertz.info   \n",
      "3   3436                Bilva Nair             bilva_nair@gusikowski.info   \n",
      "4   3435    Prof. Chidaatma Sharma     chidaatma_sharma_prof@kilback.info   \n",
      "5   3434               Rati Guneta                guneta_rati@dibbert.com   \n",
      "6   3433    Mrs. Gorakhnath Achari      achari_mrs_gorakhnath@champlin.io   \n",
      "7   3432           Anaadi Panicker            anaadi_panicker@dickens.net   \n",
      "8   3431          Sushil Ahluwalia           sushil_ahluwalia@prosacco.io   \n",
      "9   3430           Draupadi Abbott  abbott_draupadi@krajcik-aufderhar.net   \n",
      "10  3429             Narinder Kaul     narinder_kaul@rosenbaum-lakin.info   \n",
      "11  3427              Deepan Reddy                deepan_reddy@klocko.net   \n",
      "12  3426               Gopal Pilla               gopal_pilla@goodwin.info   \n",
      "13  3425           Paramartha Shah           shah_paramartha@bahringer.io   \n",
      "14  3424          Anamika Johar JD            johar_jd_anamika@kuvalis.co   \n",
      "15  3423         Dr. Apsara Mishra             mishra_apsara_dr@haley.com   \n",
      "16  3422           Gajaadhar Ahuja            ahuja_gajaadhar@corkery.org   \n",
      "17  3421         Dhyaneshwar Mehra            mehra_dhyaneshwar@olson.net   \n",
      "18  3420              Veda Mahajan             mahajan_veda@kutch-haag.co   \n",
      "19  3419  Prof. Chitrali Pothuvaal      pothuvaal_chitrali_prof@olson.biz   \n",
      "\n",
      "    Gender  Status  \n",
      "0     male       1  \n",
      "1   female       1  \n",
      "2     male       1  \n",
      "3   female       0  \n",
      "4     male       0  \n",
      "5   female       0  \n",
      "6     male       1  \n",
      "7     male       0  \n",
      "8     male       0  \n",
      "9   female       0  \n",
      "10    male       1  \n",
      "11  female       0  \n",
      "12    male       1  \n",
      "13  female       1  \n",
      "14  female       1  \n",
      "15    male       1  \n",
      "16  female       0  \n",
      "17    male       1  \n",
      "18    male       1  \n",
      "19  female       0  \n"
     ]
    }
   ],
   "source": [
    "import requests\n",
    "import csv\n",
    "import pandas\n",
    "\n",
    "link='https://gorest.co.in/public-api/users?_format=json&access-token=H4lYmIGLXZkDlpy_w0ZVS5rgcpDXbN7fhRRy'\n",
    "response=requests.request('Get',link)\n",
    "\n",
    "dataset=response.json()\n",
    "\n",
    "\n",
    "\n",
    "with open('users.csv','w',newline='') as f:\n",
    "    writer=csv.DictWriter(f,fieldnames=['ID', 'Name', 'Email', 'Gender', 'Status'])\n",
    "    writer.writeheader()\n",
    "    for member in dataset['data']:\n",
    "        ID=member['id']\n",
    "        Name=member['name']\n",
    "        Email=member['email']\n",
    "        Gender=member['gender'] \n",
    "        Status=member['status']\n",
    "        if Status == \"active\":\n",
    "            Statnum=1\n",
    "        else:Statnum=0    \n",
    "        writer.writerow({'ID':ID, 'Name':Name, 'Email':Email, 'Gender':Gender, 'Status':Statnum})\n",
    "print(pd.read_csv('users.csv'))        "
   ]
  },
  {
   "cell_type": "code",
   "execution_count": null,
   "id": "2d432d8e",
   "metadata": {},
   "outputs": [],
   "source": []
  }
 ],
 "metadata": {
  "kernelspec": {
   "display_name": "Python 3",
   "language": "python",
   "name": "python3"
  },
  "language_info": {
   "codemirror_mode": {
    "name": "ipython",
    "version": 3
   },
   "file_extension": ".py",
   "mimetype": "text/x-python",
   "name": "python",
   "nbconvert_exporter": "python",
   "pygments_lexer": "ipython3",
   "version": "3.6.13"
  }
 },
 "nbformat": 4,
 "nbformat_minor": 5
}
