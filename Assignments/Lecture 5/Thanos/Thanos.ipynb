{
 "cells": [
  {
   "cell_type": "code",
   "execution_count": 1,
   "id": "8c93baf6",
   "metadata": {},
   "outputs": [],
   "source": [
    "import os\n",
    "import random\n",
    "import time"
   ]
  },
  {
   "cell_type": "code",
   "execution_count": 2,
   "id": "ba1d4ca5",
   "metadata": {},
   "outputs": [],
   "source": [
    "def universe2(path):\n",
    "    return os.listdir(path)"
   ]
  },
  {
   "cell_type": "code",
   "execution_count": 3,
   "id": "804a7d67",
   "metadata": {},
   "outputs": [
    {
     "ename": "SyntaxError",
     "evalue": "invalid syntax (<ipython-input-3-62ed207948ce>, line 2)",
     "output_type": "error",
     "traceback": [
      "\u001b[0;36m  File \u001b[0;32m\"<ipython-input-3-62ed207948ce>\"\u001b[0;36m, line \u001b[0;32m2\u001b[0m\n\u001b[0;31m    universe=loading_universe(''Universe'')\u001b[0m\n\u001b[0m                                       ^\u001b[0m\n\u001b[0;31mSyntaxError\u001b[0m\u001b[0;31m:\u001b[0m invalid syntax\n"
     ]
    }
   ],
   "source": [
    "def destroy_pictures():\n",
    "    universe=loading_universe(''Universe'')\n",
    "    universe\n",
    "    pass\n",
    "    for i in range(len(Universe)//2):\n",
    "        Universe=loading_universe(''Universe'')\n",
    "        random_choice=random.choice(Universe)\n",
    "        print('detroying: '+random_choice)\n",
    "        time.sleep(1)\n",
    "        os.remove(''Universe/''+random_choice)\n",
    "    print('Now, every thing is ok')\n",
    "    print('no. of new universe= ' + str(len(loading_universe(''Universe''))) )\n",
    "    print(loading_universe(''Universe''))"
   ]
  },
  {
   "cell_type": "code",
   "execution_count": 4,
   "id": "60db3372",
   "metadata": {},
   "outputs": [],
   "source": [
    "def destroy_half():\n",
    "    universe2=loading_universe('Universe')\n",
    "    universe2\n",
    "    pass\n",
    "    for i in range(len(Universe)//2):\n",
    "        universe2=loading_universe('Universe')\n",
    "        random_choice=random.choice(Universe)\n",
    "        print('detroying: '+random_choice)\n",
    "        time.sleep(1)\n",
    "        os.remove('Universe/'+random_choice)\n",
    "    print('Now, every thing is ok')\n",
    "    print('no. of new universe= ' + str(len(loading_universe('Universe'))) )\n",
    "    print(loading_universe('Universe'))"
   ]
  },
  {
   "cell_type": "code",
   "execution_count": 5,
   "id": "6e8e2e1e",
   "metadata": {},
   "outputs": [
    {
     "ename": "NameError",
     "evalue": "name 'loading_universe' is not defined",
     "output_type": "error",
     "traceback": [
      "\u001b[0;31m---------------------------------------------------------------------------\u001b[0m",
      "\u001b[0;31mNameError\u001b[0m                                 Traceback (most recent call last)",
      "\u001b[0;32m<ipython-input-5-167b67e25299>\u001b[0m in \u001b[0;36m<module>\u001b[0;34m\u001b[0m\n\u001b[0;32m----> 1\u001b[0;31m \u001b[0mdestroy_half\u001b[0m\u001b[0;34m(\u001b[0m\u001b[0;34m)\u001b[0m\u001b[0;34m\u001b[0m\u001b[0;34m\u001b[0m\u001b[0m\n\u001b[0m",
      "\u001b[0;32m<ipython-input-4-d7718becedd8>\u001b[0m in \u001b[0;36mdestroy_half\u001b[0;34m()\u001b[0m\n\u001b[1;32m      1\u001b[0m \u001b[0;32mdef\u001b[0m \u001b[0mdestroy_half\u001b[0m\u001b[0;34m(\u001b[0m\u001b[0;34m)\u001b[0m\u001b[0;34m:\u001b[0m\u001b[0;34m\u001b[0m\u001b[0;34m\u001b[0m\u001b[0m\n\u001b[0;32m----> 2\u001b[0;31m     \u001b[0muniverse2\u001b[0m\u001b[0;34m=\u001b[0m\u001b[0mloading_universe\u001b[0m\u001b[0;34m(\u001b[0m\u001b[0;34m'Universe'\u001b[0m\u001b[0;34m)\u001b[0m\u001b[0;34m\u001b[0m\u001b[0;34m\u001b[0m\u001b[0m\n\u001b[0m\u001b[1;32m      3\u001b[0m     \u001b[0muniverse2\u001b[0m\u001b[0;34m\u001b[0m\u001b[0;34m\u001b[0m\u001b[0m\n\u001b[1;32m      4\u001b[0m     \u001b[0;32mpass\u001b[0m\u001b[0;34m\u001b[0m\u001b[0;34m\u001b[0m\u001b[0m\n\u001b[1;32m      5\u001b[0m     \u001b[0;32mfor\u001b[0m \u001b[0mi\u001b[0m \u001b[0;32min\u001b[0m \u001b[0mrange\u001b[0m\u001b[0;34m(\u001b[0m\u001b[0mlen\u001b[0m\u001b[0;34m(\u001b[0m\u001b[0mUniverse\u001b[0m\u001b[0;34m)\u001b[0m\u001b[0;34m//\u001b[0m\u001b[0;36m2\u001b[0m\u001b[0;34m)\u001b[0m\u001b[0;34m:\u001b[0m\u001b[0;34m\u001b[0m\u001b[0;34m\u001b[0m\u001b[0m\n",
      "\u001b[0;31mNameError\u001b[0m: name 'loading_universe' is not defined"
     ]
    }
   ],
   "source": [
    "destroy_half()\n"
   ]
  },
  {
   "cell_type": "code",
   "execution_count": null,
   "id": "4fc6c56b",
   "metadata": {},
   "outputs": [],
   "source": []
  }
 ],
 "metadata": {
  "kernelspec": {
   "display_name": "Python 3",
   "language": "python",
   "name": "python3"
  },
  "language_info": {
   "codemirror_mode": {
    "name": "ipython",
    "version": 3
   },
   "file_extension": ".py",
   "mimetype": "text/x-python",
   "name": "python",
   "nbconvert_exporter": "python",
   "pygments_lexer": "ipython3",
   "version": "3.6.15"
  }
 },
 "nbformat": 4,
 "nbformat_minor": 5
}
