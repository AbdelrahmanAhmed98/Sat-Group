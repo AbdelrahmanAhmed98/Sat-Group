{
 "cells": [
  {
   "cell_type": "code",
   "execution_count": 1,
   "id": "03ac7163",
   "metadata": {},
   "outputs": [],
   "source": [
    "class Library():\n",
    "    def __init__(self,AvailableBooks):\n",
    "        self.books=AvailableBooks\n",
    "    \n",
    "    def display(self):\n",
    "        for book in self.books:\n",
    "            print(book)\n",
    "    \n",
    "    def lend(self,book):\n",
    "        if book in self.books:\n",
    "            print('okay i\\'ll lend u this book ')\n",
    "            self.books.remove(book)\n",
    "        else:\n",
    "            print ('this book isn\\'t existed')\n",
    "    def add_book(self,book):\n",
    "        self.books.append(book)\n",
    "        \n",
    "        \n",
    "class Student():\n",
    "    def borrow(self,book):\n",
    "        return book\n",
    "    def return_book(self,book):\n",
    "        return book"
   ]
  },
  {
   "cell_type": "code",
   "execution_count": 2,
   "id": "67dc12b4",
   "metadata": {},
   "outputs": [
    {
     "name": "stdout",
     "output_type": "stream",
     "text": [
      "Alice in the wonder\n",
      "Hands on ML\n",
      "Data Science\n",
      "Computer Vision\n"
     ]
    }
   ],
   "source": [
    "library1=Library(['Alice in the wonder','Hands on ML','Data Science','Computer Vision'])\n",
    "library1.display()"
   ]
  },
  {
   "cell_type": "code",
   "execution_count": 3,
   "id": "d69bf1b5",
   "metadata": {},
   "outputs": [
    {
     "name": "stdout",
     "output_type": "stream",
     "text": [
      "this book isn't existed\n"
     ]
    }
   ],
   "source": [
    "student=Student()\n",
    "library1.lend(student.borrow('Status for dummes'))"
   ]
  },
  {
   "cell_type": "code",
   "execution_count": 4,
   "id": "07a360fc",
   "metadata": {},
   "outputs": [
    {
     "name": "stdout",
     "output_type": "stream",
     "text": [
      "okay i'll lend u this book \n"
     ]
    }
   ],
   "source": [
    "library1.lend(student.borrow('Data Science'))"
   ]
  },
  {
   "cell_type": "code",
   "execution_count": 5,
   "id": "d2785c8d",
   "metadata": {},
   "outputs": [
    {
     "name": "stdout",
     "output_type": "stream",
     "text": [
      "Alice in the wonder\n",
      "Hands on ML\n",
      "Computer Vision\n"
     ]
    }
   ],
   "source": [
    "library1.display()"
   ]
  },
  {
   "cell_type": "code",
   "execution_count": 6,
   "id": "4dcef483",
   "metadata": {},
   "outputs": [
    {
     "name": "stdout",
     "output_type": "stream",
     "text": [
      "Alice in the wonder\n",
      "Hands on ML\n",
      "Computer Vision\n",
      "Data Science\n"
     ]
    }
   ],
   "source": [
    "library1.add_book(student.return_book('Data Science'))\n",
    "library1.display()"
   ]
  },
  {
   "cell_type": "code",
   "execution_count": 8,
   "id": "c40756ca",
   "metadata": {},
   "outputs": [
    {
     "name": "stdout",
     "output_type": "stream",
     "text": [
      "--------------- Choose from options-------- \n",
      " 1-display books \n",
      " 2-borrow a boook \n",
      " 3-return a book \n",
      " 4-exit\n",
      "1\n",
      "Alice in the wonder\n",
      "Hands on ML\n",
      "Computer Vision\n",
      "Data Science\n",
      "--------------- Choose from options-------- \n",
      " 1-display books \n",
      " 2-borrow a boook \n",
      " 3-return a book \n",
      " 4-exit\n",
      "2\n",
      "Enter the Name Book : Alice in the wonder\n",
      "okay i'll lend u this book \n",
      "--------------- Choose from options-------- \n",
      " 1-display books \n",
      " 2-borrow a boook \n",
      " 3-return a book \n",
      " 4-exit\n",
      "4\n"
     ]
    }
   ],
   "source": [
    "while True:\n",
    "    print(\"--------------- Choose from options-------- \\n 1-display books \\n 2-borrow a boook \\n 3-return a book \\n 4-exit\")\n",
    "    chose=int(input())\n",
    "    if chose==1:\n",
    "        library1.display()\n",
    "    elif chose==2:\n",
    "        book=input(\"Enter the Name Book : \")\n",
    "        library1.lend(book)\n",
    "    elif chose==3:\n",
    "        book=input(\"Enter the Name Book : \")\n",
    "        library1.add_book(book)\n",
    "    elif chose==4:\n",
    "        break\n",
    "    "
   ]
  },
  {
   "cell_type": "code",
   "execution_count": null,
   "id": "804fc3c1",
   "metadata": {},
   "outputs": [],
   "source": []
  }
 ],
 "metadata": {
  "kernelspec": {
   "display_name": "Python 3 (ipykernel)",
   "language": "python",
   "name": "python3"
  },
  "language_info": {
   "codemirror_mode": {
    "name": "ipython",
    "version": 3
   },
   "file_extension": ".py",
   "mimetype": "text/x-python",
   "name": "python",
   "nbconvert_exporter": "python",
   "pygments_lexer": "ipython3",
   "version": "3.8.12"
  }
 },
 "nbformat": 4,
 "nbformat_minor": 5
}
