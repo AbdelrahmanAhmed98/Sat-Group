{
 "cells": [
  {
   "cell_type": "code",
   "execution_count": 26,
   "metadata": {},
   "outputs": [
    {
     "name": "stdout",
     "output_type": "stream",
     "text": [
      "Please  Enter the Half of Diameter : 25\n",
      "Circumference of Circle = 157.0\n"
     ]
    }
   ],
   "source": [
    "### circumference of circle\n",
    "hDiameter=float(input(\"Please  Enter the Half of Diameter : \"))\n",
    "circumference=2*3.14*hDiameter\n",
    "print(\"Circumference of Circle = \" + str(circumference))"
   ]
  },
  {
   "cell_type": "code",
   "execution_count": 25,
   "metadata": {},
   "outputs": [
    {
     "name": "stdout",
     "output_type": "stream",
     "text": [
      "Enter your Length : 2\n",
      "Enter your Width : 5\n",
      "Circumference of Rectengle 14.0\n"
     ]
    }
   ],
   "source": [
    "### circumference of rectengle\n",
    "length=float(input(\"Enter your Length : \"))\n",
    "width=float(input(\"Enter your Width : \"))\n",
    "circumference_rectengle=2*(length+width)\n",
    "print(\"Circumference of Rectengle =\" + str(circumference_rectengle))"
   ]
  },
  {
   "cell_type": "code",
   "execution_count": null,
   "metadata": {},
   "outputs": [],
   "source": []
  }
 ],
 "metadata": {
  "kernelspec": {
   "display_name": "Python 3",
   "language": "python",
   "name": "python3"
  },
  "language_info": {
   "codemirror_mode": {
    "name": "ipython",
    "version": 3
   },
   "file_extension": ".py",
   "mimetype": "text/x-python",
   "name": "python",
   "nbconvert_exporter": "python",
   "pygments_lexer": "ipython3",
   "version": "3.8.3"
  }
 },
 "nbformat": 4,
 "nbformat_minor": 4
}
