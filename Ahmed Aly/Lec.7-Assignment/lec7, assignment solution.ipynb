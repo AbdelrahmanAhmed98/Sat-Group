{
 "cells": [
  {
   "cell_type": "markdown",
   "id": "3ed4f463",
   "metadata": {},
   "source": [
    "Task no.1"
   ]
  },
  {
   "cell_type": "code",
   "execution_count": 2,
   "id": "f2bbc61e",
   "metadata": {},
   "outputs": [],
   "source": [
    "import requests"
   ]
  },
  {
   "cell_type": "code",
   "execution_count": 3,
   "id": "4fd8958f",
   "metadata": {},
   "outputs": [
    {
     "data": {
      "text/plain": [
       "{'amount': 1.0, 'base': 'USD', 'date': '2021-10-15', 'rates': {'EUR': 0.86192}}"
      ]
     },
     "execution_count": 3,
     "metadata": {},
     "output_type": "execute_result"
    }
   ],
   "source": [
    "response1=requests.request('GET','https://api.frankfurter.app/latest?amount=1&from=USD&to=EUR')\n",
    "data1=response1.json()\n",
    "data1"
   ]
  },
  {
   "cell_type": "code",
   "execution_count": 4,
   "id": "b12f5327",
   "metadata": {},
   "outputs": [
    {
     "name": "stdout",
     "output_type": "stream",
     "text": [
      "please enter the transfere amout in dollars: 10\n",
      "amount in Euros: 8.6192\n",
      "current transfere rate: 0.86192\n"
     ]
    }
   ],
   "source": [
    "amount_dollar=float(input('please enter the transfere amout in dollars: '))\n",
    "amount_eur=amount_dollar*data1['rates']['EUR']\n",
    "print(f\"amount in Euros: {amount_eur}\")\n",
    "print(f\"current transfere rate: {data1['rates']['EUR']}\")"
   ]
  },
  {
   "cell_type": "markdown",
   "id": "7d57b38e",
   "metadata": {},
   "source": [
    "Task no.2 "
   ]
  },
  {
   "cell_type": "code",
   "execution_count": 10,
   "id": "844cbd94",
   "metadata": {},
   "outputs": [
    {
     "data": {
      "text/plain": [
       "{'consolidated_weather': [{'id': 5376754140053504,\n",
       "   'weather_state_name': 'Light Cloud',\n",
       "   'weather_state_abbr': 'lc',\n",
       "   'wind_direction_compass': 'NNW',\n",
       "   'created': '2021-10-17T22:34:25.766082Z',\n",
       "   'applicable_date': '2021-10-18',\n",
       "   'min_temp': 19.630000000000003,\n",
       "   'max_temp': 29.94,\n",
       "   'the_temp': 27.23,\n",
       "   'wind_speed': 6.574341494949496,\n",
       "   'wind_direction': 344.32473824231937,\n",
       "   'air_pressure': 1018.5,\n",
       "   'humidity': 46,\n",
       "   'visibility': 13.260371927940826,\n",
       "   'predictability': 70},\n",
       "  {'id': 6000342295642112,\n",
       "   'weather_state_name': 'Clear',\n",
       "   'weather_state_abbr': 'c',\n",
       "   'wind_direction_compass': 'N',\n",
       "   'created': '2021-10-17T22:34:29.279052Z',\n",
       "   'applicable_date': '2021-10-19',\n",
       "   'min_temp': 18.61,\n",
       "   'max_temp': 29.64,\n",
       "   'the_temp': 27.445,\n",
       "   'wind_speed': 6.937670655208251,\n",
       "   'wind_direction': 354.22102658229807,\n",
       "   'air_pressure': 1020.0,\n",
       "   'humidity': 48,\n",
       "   'visibility': 13.328101387894694,\n",
       "   'predictability': 68},\n",
       "  {'id': 5535928287232000,\n",
       "   'weather_state_name': 'Light Cloud',\n",
       "   'weather_state_abbr': 'lc',\n",
       "   'wind_direction_compass': 'NNW',\n",
       "   'created': '2021-10-17T22:34:31.841769Z',\n",
       "   'applicable_date': '2021-10-20',\n",
       "   'min_temp': 18.755,\n",
       "   'max_temp': 29.16,\n",
       "   'the_temp': 27.020000000000003,\n",
       "   'wind_speed': 7.549470689034703,\n",
       "   'wind_direction': 343.4934985428052,\n",
       "   'air_pressure': 1021.0,\n",
       "   'humidity': 49,\n",
       "   'visibility': 13.626048874572497,\n",
       "   'predictability': 70},\n",
       "  {'id': 5977292950994944,\n",
       "   'weather_state_name': 'Clear',\n",
       "   'weather_state_abbr': 'c',\n",
       "   'wind_direction_compass': 'N',\n",
       "   'created': '2021-10-17T22:34:34.748193Z',\n",
       "   'applicable_date': '2021-10-21',\n",
       "   'min_temp': 18.225,\n",
       "   'max_temp': 29.05,\n",
       "   'the_temp': 27.16,\n",
       "   'wind_speed': 7.009377738171743,\n",
       "   'wind_direction': 9.0,\n",
       "   'air_pressure': 1020.0,\n",
       "   'humidity': 46,\n",
       "   'visibility': 13.59466962936451,\n",
       "   'predictability': 68},\n",
       "  {'id': 5921837700612096,\n",
       "   'weather_state_name': 'Light Cloud',\n",
       "   'weather_state_abbr': 'lc',\n",
       "   'wind_direction_compass': 'N',\n",
       "   'created': '2021-10-17T22:34:38.444507Z',\n",
       "   'applicable_date': '2021-10-22',\n",
       "   'min_temp': 17.729999999999997,\n",
       "   'max_temp': 28.535,\n",
       "   'the_temp': 25.55,\n",
       "   'wind_speed': 6.888301320289509,\n",
       "   'wind_direction': 9.5,\n",
       "   'air_pressure': 1019.0,\n",
       "   'humidity': 55,\n",
       "   'visibility': 9.999726596675416,\n",
       "   'predictability': 70},\n",
       "  {'id': 5786390940876800,\n",
       "   'weather_state_name': 'Clear',\n",
       "   'weather_state_abbr': 'c',\n",
       "   'wind_direction_compass': 'NNE',\n",
       "   'created': '2021-10-17T22:34:40.760802Z',\n",
       "   'applicable_date': '2021-10-23',\n",
       "   'min_temp': 18.009999999999998,\n",
       "   'max_temp': 29.41,\n",
       "   'the_temp': 25.97,\n",
       "   'wind_speed': 6.072708383043029,\n",
       "   'wind_direction': 25.500000000000004,\n",
       "   'air_pressure': 1019.0,\n",
       "   'humidity': 51,\n",
       "   'visibility': 9.999726596675416,\n",
       "   'predictability': 68}],\n",
       " 'time': '2021-10-18T02:00:02.814018+02:00',\n",
       " 'sun_rise': '2021-10-18T05:58:53.887946+02:00',\n",
       " 'sun_set': '2021-10-18T17:20:57.231073+02:00',\n",
       " 'timezone_name': 'LMT',\n",
       " 'parent': {'title': 'Egypt',\n",
       "  'location_type': 'Country',\n",
       "  'woeid': 23424802,\n",
       "  'latt_long': '26.837090,30.796391'},\n",
       " 'sources': [{'title': 'BBC',\n",
       "   'slug': 'bbc',\n",
       "   'url': 'http://www.bbc.co.uk/weather/',\n",
       "   'crawl_rate': 360},\n",
       "  {'title': 'Forecast.io',\n",
       "   'slug': 'forecast-io',\n",
       "   'url': 'http://forecast.io/',\n",
       "   'crawl_rate': 480},\n",
       "  {'title': 'HAMweather',\n",
       "   'slug': 'hamweather',\n",
       "   'url': 'http://www.hamweather.com/',\n",
       "   'crawl_rate': 360},\n",
       "  {'title': 'Met Office',\n",
       "   'slug': 'met-office',\n",
       "   'url': 'http://www.metoffice.gov.uk/',\n",
       "   'crawl_rate': 180},\n",
       "  {'title': 'OpenWeatherMap',\n",
       "   'slug': 'openweathermap',\n",
       "   'url': 'http://openweathermap.org/',\n",
       "   'crawl_rate': 360},\n",
       "  {'title': 'Weather Underground',\n",
       "   'slug': 'wunderground',\n",
       "   'url': 'https://www.wunderground.com/?apiref=fc30dc3cd224e19b',\n",
       "   'crawl_rate': 720},\n",
       "  {'title': 'World Weather Online',\n",
       "   'slug': 'world-weather-online',\n",
       "   'url': 'http://www.worldweatheronline.com/',\n",
       "   'crawl_rate': 360}],\n",
       " 'title': 'Cairo',\n",
       " 'location_type': 'City',\n",
       " 'woeid': 1521894,\n",
       " 'latt_long': '30.049950,31.248600',\n",
       " 'timezone': 'Africa/Cairo'}"
      ]
     },
     "execution_count": 10,
     "metadata": {},
     "output_type": "execute_result"
    }
   ],
   "source": [
    "response2=requests.request('GET','https://www.metaweather.com/api/location/1521894/')\n",
    "data2=response2.json()\n",
    "data2"
   ]
  },
  {
   "cell_type": "code",
   "execution_count": 11,
   "id": "e6b73167",
   "metadata": {},
   "outputs": [],
   "source": [
    "import csv"
   ]
  },
  {
   "cell_type": "code",
   "execution_count": 14,
   "id": "c62a4a01",
   "metadata": {},
   "outputs": [],
   "source": [
    "with open ('day_weather.csv','w',newline=\"\") as f:\n",
    "    writer=csv.writer(f)\n",
    "    writer.writerow(['date','weather_state','min_temp','max_temp'])\n",
    "    for day in data2['consolidated_weather']:\n",
    "        date=day['applicable_date']\n",
    "        weather_state=day['weather_state_name']\n",
    "        min_temp=day['min_temp']\n",
    "        max_temp=day['max_temp']\n",
    "        writer.writerow([date,weather_state, min_temp,max_temp])\n",
    "    "
   ]
  },
  {
   "cell_type": "code",
   "execution_count": 66,
   "id": "f118f69e",
   "metadata": {},
   "outputs": [],
   "source": [
    "with open ('date_weather.csv','w',newline=\"\") as f:\n",
    "    writer=csv.writer(f)\n",
    "    writer.writerow(['date','weather_state','min_temp','max_temp'])\n",
    "with open ('date_weather.csv','a',newline=\"\") as f:\n",
    "    writer=csv.writer(f)\n",
    "    for i in range(3):\n",
    "        date=data2['consolidated_weather'][i]['applicable_date']\n",
    "        weather_state=data2['consolidated_weather'][i]['weather_state_name']\n",
    "        min_temp=data2['consolidated_weather'][i]['min_temp']\n",
    "        max_temp=data2['consolidated_weather'][i]['max_temp']\n",
    "        writer.writerow([date,weather_state, min_temp,max_temp])"
   ]
  },
  {
   "cell_type": "code",
   "execution_count": 67,
   "id": "ac42e0d6",
   "metadata": {},
   "outputs": [],
   "source": [
    "with open ('date_weather.csv','a',newline=\"\") as f:\n",
    "    writer=csv.writer(f)\n",
    "    for i in range(3,6):\n",
    "        date=data2['consolidated_weather'][i]['applicable_date']\n",
    "        weather_state=data2['consolidated_weather'][i]['weather_state_name']\n",
    "        min_temp=data2['consolidated_weather'][i]['min_temp']\n",
    "        max_temp=data2['consolidated_weather'][i]['max_temp']\n",
    "        writer.writerow([date,weather_state, min_temp,max_temp])"
   ]
  },
  {
   "cell_type": "markdown",
   "id": "0336fffe",
   "metadata": {},
   "source": [
    "Task no.3"
   ]
  },
  {
   "cell_type": "code",
   "execution_count": 68,
   "id": "a48c2fee",
   "metadata": {},
   "outputs": [],
   "source": [
    "import requests"
   ]
  },
  {
   "cell_type": "code",
   "execution_count": 69,
   "id": "011c9cd3",
   "metadata": {},
   "outputs": [
    {
     "data": {
      "text/plain": [
       "{'code': 200,\n",
       " 'meta': {'pagination': {'total': 1776, 'pages': 89, 'page': 1, 'limit': 20}},\n",
       " 'data': [{'id': 2674,\n",
       "   'name': 'API Monitoring:p8vne',\n",
       "   'email': 'apimonitoringp8vne@synthetic.com',\n",
       "   'gender': 'male',\n",
       "   'status': 'active'},\n",
       "  {'id': 2680,\n",
       "   'name': 'API Monitoring:tfjlgq',\n",
       "   'email': 'apimonitoringtfjlgq@synthetic.com',\n",
       "   'gender': 'male',\n",
       "   'status': 'active'},\n",
       "  {'id': 26,\n",
       "   'name': 'Mr. Rukmin Chopra',\n",
       "   'email': 'chopra_rukmin_mr@nikolaus.net',\n",
       "   'gender': 'male',\n",
       "   'status': 'active'},\n",
       "  {'id': 27,\n",
       "   'name': 'Prem Bhattacharya',\n",
       "   'email': 'bhattacharya_prem@mcglynn.co',\n",
       "   'gender': 'female',\n",
       "   'status': 'inactive'},\n",
       "  {'id': 29,\n",
       "   'name': 'Kailash Naik',\n",
       "   'email': 'naik_kailash@boehm-stanton.net',\n",
       "   'gender': 'female',\n",
       "   'status': 'active'},\n",
       "  {'id': 30,\n",
       "   'name': 'Bhramar Achari',\n",
       "   'email': 'achari_bhramar@beahan.co',\n",
       "   'gender': 'male',\n",
       "   'status': 'active'},\n",
       "  {'id': 32,\n",
       "   'name': 'Gopal Bandopadhyay',\n",
       "   'email': 'gopal_bandopadhyay@morissette.org',\n",
       "   'gender': 'male',\n",
       "   'status': 'inactive'},\n",
       "  {'id': 33,\n",
       "   'name': 'Dhruv Naik',\n",
       "   'email': 'dhruv_naik@yost.info',\n",
       "   'gender': 'female',\n",
       "   'status': 'active'},\n",
       "  {'id': 34,\n",
       "   'name': 'Lakshmidhar Adiga',\n",
       "   'email': 'lakshmidhar_adiga@stehr.io',\n",
       "   'gender': 'female',\n",
       "   'status': 'inactive'},\n",
       "  {'id': 35,\n",
       "   'name': 'Aagney Guha',\n",
       "   'email': 'aagney_guha@hackett.org',\n",
       "   'gender': 'male',\n",
       "   'status': 'inactive'},\n",
       "  {'id': 36,\n",
       "   'name': 'The Hon. Mohana Guneta',\n",
       "   'email': 'guneta_hon_the_mohana@cummerata.biz',\n",
       "   'gender': 'male',\n",
       "   'status': 'active'},\n",
       "  {'id': 37,\n",
       "   'name': 'Dulari Mahajan',\n",
       "   'email': 'mahajan_dulari@runolfsdottir.biz',\n",
       "   'gender': 'female',\n",
       "   'status': 'inactive'},\n",
       "  {'id': 38,\n",
       "   'name': 'Deeksha Prajapat',\n",
       "   'email': 'prajapat_deeksha@wisozk.co',\n",
       "   'gender': 'female',\n",
       "   'status': 'active'},\n",
       "  {'id': 39,\n",
       "   'name': 'Chandrabhaga Pandey',\n",
       "   'email': 'chandrabhaga_pandey@wolf.net',\n",
       "   'gender': 'male',\n",
       "   'status': 'active'},\n",
       "  {'id': 40,\n",
       "   'name': 'Rita Embranthiri',\n",
       "   'email': 'embranthiri_rita@kerluke.com',\n",
       "   'gender': 'female',\n",
       "   'status': 'inactive'},\n",
       "  {'id': 41,\n",
       "   'name': 'Indra Singh',\n",
       "   'email': 'singh_indra@hilll.info',\n",
       "   'gender': 'female',\n",
       "   'status': 'inactive'},\n",
       "  {'id': 42,\n",
       "   'name': 'Abhirath Bharadwaj III',\n",
       "   'email': 'iii_bharadwaj_abhirath@king.co',\n",
       "   'gender': 'male',\n",
       "   'status': 'active'},\n",
       "  {'id': 43,\n",
       "   'name': 'Trilokesh Sinha',\n",
       "   'email': 'sinha_trilokesh@littel.info',\n",
       "   'gender': 'male',\n",
       "   'status': 'inactive'},\n",
       "  {'id': 44,\n",
       "   'name': 'Kama Gandhi PhD',\n",
       "   'email': 'kama_phd_gandhi@conn.biz',\n",
       "   'gender': 'male',\n",
       "   'status': 'active'},\n",
       "  {'id': 45,\n",
       "   'name': 'Lila Sethi',\n",
       "   'email': 'sethi_lila@altenwerth.co',\n",
       "   'gender': 'female',\n",
       "   'status': 'inactive'}]}"
      ]
     },
     "execution_count": 69,
     "metadata": {},
     "output_type": "execute_result"
    }
   ],
   "source": [
    "response3=requests.request('GET','https://gorest.co.in/public-api/users?_format=json&accesstoken=H4lYmIGLXZkDlpy_w0ZVS5rgcpDXbN7fhRRy')\n",
    "data3=response3.json()\n",
    "data3"
   ]
  },
  {
   "cell_type": "code",
   "execution_count": 71,
   "id": "84072b86",
   "metadata": {},
   "outputs": [],
   "source": [
    "import csv\n",
    "with open ('users_data.csv','w',newline=\"\") as f:\n",
    "    writer=csv.writer(f)\n",
    "    writer.writerow(['id','name','email','gender','status'])\n",
    "    for person in data3['data']:\n",
    "        id=person['id']\n",
    "        name=person['name']\n",
    "        email=person['email']\n",
    "        gender=person['gender']\n",
    "        if person['status']=='active':\n",
    "            status=1\n",
    "        elif person['status']=='inactive':\n",
    "            status=0\n",
    "        writer.writerow([id,name,email,gender,status])\n",
    "        \n",
    "    "
   ]
  },
  {
   "cell_type": "code",
   "execution_count": null,
   "id": "698ec7ab",
   "metadata": {},
   "outputs": [],
   "source": []
  }
 ],
 "metadata": {
  "kernelspec": {
   "display_name": "Python 3",
   "language": "python",
   "name": "python3"
  },
  "language_info": {
   "codemirror_mode": {
    "name": "ipython",
    "version": 3
   },
   "file_extension": ".py",
   "mimetype": "text/x-python",
   "name": "python",
   "nbconvert_exporter": "python",
   "pygments_lexer": "ipython3",
   "version": "3.8.8"
  }
 },
 "nbformat": 4,
 "nbformat_minor": 5
}
