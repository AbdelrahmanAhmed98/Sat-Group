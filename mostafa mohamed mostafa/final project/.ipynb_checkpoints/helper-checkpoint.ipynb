{
 "cells": [
  {
   "cell_type": "code",
   "execution_count": 1,
   "metadata": {},
   "outputs": [],
   "source": [
    "AgeCategory={\n",
    "    \"AgeCategory_18-24\":[1,0,0,0,0,0,0,0,0,0,0,0,0],\n",
    "    'AgeCategory_25-29':[0,1,0,0,0,0,0,0,0,0,0,0,0],\n",
    "    'AgeCategory_30-34':[0,0,1,0,0,0,0,0,0,0,0,0,0],\n",
    "    'AgeCategory_35-39':[0,0,0,1,0,0,0,0,0,0,0,0,0], \n",
    "    'AgeCategory_40-44':[0,0,0,0,1,0,0,0,0,0,0,0,0],\n",
    "    'AgeCategory_45-49':[0,0,0,0,0,1,0,0,0,0,0,0,0],\n",
    "    'AgeCategory_50-54':[0,0,0,0,0,0,1,0,0,0,0,0,0],\n",
    "    'AgeCategory_55-59':[0,0,0,0,0,0,0,1,0,0,0,0,0], \n",
    "    'AgeCategory_60-64':[0,0,0,0,0,0,0,0,1,0,0,0,0],\n",
    "    'AgeCategory_65-69':[0,0,0,0,0,0,0,0,0,1,0,0,0],\n",
    "    'AgeCategory_70-74':[0,0,0,0,0,0,0,0,0,0,1,0,0], \n",
    "    'AgeCategory_75-79':[0,0,0,0,0,0,0,0,0,0,0,1,0],\n",
    "    'AgeCategory_80 or older':[0,0,0,0,0,0,0,0,0,0,0,0,1]\n",
    "    \n",
    "}"
   ]
  },
  {
   "cell_type": "code",
   "execution_count": 3,
   "metadata": {},
   "outputs": [],
   "source": [
    "GenHealth={\n",
    "    'GenHealth_Excellent':[1,0,0,0,0],\n",
    "    'GenHealth_Fair':[0,1,0,0,0],\n",
    "    'GenHealth_Good':[0,0,1,0,0],\n",
    "    'GenHealth_Poor':[0,0,0,1,0], \n",
    "    'GenHealth_Very good':[0,0,0,0,1]\n",
    "}"
   ]
  },
  {
   "cell_type": "code",
   "execution_count": null,
   "metadata": {},
   "outputs": [],
   "source": []
  }
 ],
 "metadata": {
  "kernelspec": {
   "display_name": "Python 3",
   "language": "python",
   "name": "python3"
  },
  "language_info": {
   "codemirror_mode": {
    "name": "ipython",
    "version": 3
   },
   "file_extension": ".py",
   "mimetype": "text/x-python",
   "name": "python",
   "nbconvert_exporter": "python",
   "pygments_lexer": "ipython3",
   "version": "3.7.6"
  }
 },
 "nbformat": 4,
 "nbformat_minor": 4
}
